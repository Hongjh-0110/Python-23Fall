{
 "cells": [
  {
   "cell_type": "markdown",
   "id": "ce3ef97a",
   "metadata": {},
   "source": [
    "# 链接和切分"
   ]
  },
  {
   "cell_type": "code",
   "execution_count": 3,
   "id": "8b830f47",
   "metadata": {
    "ExecuteTime": {
     "end_time": "2023-10-18T00:33:52.915793Z",
     "start_time": "2023-10-18T00:33:52.907498Z"
    }
   },
   "outputs": [
    {
     "data": {
      "text/plain": [
       "('加州_圣何塞_太阳谷', '加州_圣何塞_太阳谷', '加州 圣何塞 太阳谷', ['加州', '圣何塞', '太阳谷'])"
      ]
     },
     "execution_count": 3,
     "metadata": {},
     "output_type": "execute_result"
    }
   ],
   "source": [
    "a,b,c = '加州','圣何塞','太阳谷'\n",
    "'_'.join((a,b,c)),'_'.join([a,b,c]),' '.join([a,b,c]),'_'.join([a,b,c]).split('_')"
   ]
  },
  {
   "cell_type": "markdown",
   "id": "fa2c33a7",
   "metadata": {},
   "source": [
    "# 查找子字符串"
   ]
  },
  {
   "cell_type": "code",
   "execution_count": 4,
   "id": "7bec510b",
   "metadata": {
    "ExecuteTime": {
     "end_time": "2023-10-18T00:33:58.956356Z",
     "start_time": "2023-10-18T00:33:58.950367Z"
    }
   },
   "outputs": [
    {
     "name": "stdout",
     "output_type": "stream",
     "text": [
      "['pku', 'lzu', 'cmu']\n"
     ]
    }
   ],
   "source": [
    "#从邮箱抽出所有学校名字缩写\n",
    "#我的答案\n",
    "n=[]\n",
    "data = ['mzx@lzu.edu.cn',\n",
    "        'fly@cmu.edu',\n",
    "        'peter@pku.edu.cn',\n",
    "        'bill@cmu.edu'\n",
    "]\n",
    "for id in data:\n",
    "    m=''\n",
    "    i=id.find('@')+1\n",
    "    j=0\n",
    "    while(i<id.find('.')):\n",
    "        m+=id[i]\n",
    "        i+=1\n",
    "    n+=[m]\n",
    "print(list(set(n)))"
   ]
  },
  {
   "cell_type": "code",
   "execution_count": 5,
   "id": "93c2b5d9",
   "metadata": {
    "ExecuteTime": {
     "end_time": "2023-10-18T00:34:00.387284Z",
     "start_time": "2023-10-18T00:34:00.379841Z"
    }
   },
   "outputs": [
    {
     "data": {
      "text/plain": [
       "{'cmu', 'lzu', 'pku'}"
      ]
     },
     "execution_count": 5,
     "metadata": {},
     "output_type": "execute_result"
    }
   ],
   "source": [
    "#老师的答案\n",
    "data = ['mzx@lzu.edu.cn',\n",
    "        'fly@cmu.edu',\n",
    "        'peter@pku.edu.cn',\n",
    "        'bill@cmu.edu'\n",
    "]\n",
    "s=set()\n",
    "for x in data:\n",
    "    s.add(x.split('@')[1].split('.')[0])\n",
    "s\n",
    "# or\n",
    "s = {x.split('@')[1].split('.')[0] for x in data}\n",
    "s\n",
    "s = { x[x.find('@')+1:x.find('.')] for x in data }\n",
    "s"
   ]
  },
  {
   "cell_type": "code",
   "execution_count": 7,
   "id": "5cb302ba",
   "metadata": {
    "ExecuteTime": {
     "end_time": "2023-10-18T00:34:14.269457Z",
     "start_time": "2023-10-18T00:34:14.263363Z"
    }
   },
   "outputs": [
    {
     "data": {
      "text/plain": [
       "-1"
      ]
     },
     "execution_count": 7,
     "metadata": {},
     "output_type": "execute_result"
    }
   ],
   "source": [
    "x[1].find('tsg')  #找不到也无异常\n",
    "#x[1].index('tsg')  #找不到有异常"
   ]
  },
  {
   "cell_type": "code",
   "execution_count": 8,
   "id": "9b7934ff",
   "metadata": {
    "ExecuteTime": {
     "end_time": "2023-10-18T00:34:15.845573Z",
     "start_time": "2023-10-18T00:34:15.841378Z"
    }
   },
   "outputs": [
    {
     "name": "stdout",
     "output_type": "stream",
     "text": [
      "mzx@lzu.edu.cn 马同学\n",
      "fly@cmu.edu 美国高校\n",
      "bill@cmu.edu 美国高校\n"
     ]
    }
   ],
   "source": [
    "# 字符串前后字串的匹配 not ==\n",
    "for x in data:\n",
    "    if x.endswith('edu'):\n",
    "        print(x,'美国高校')  # x[-3:]=='edu'  不好，容易出错\n",
    "    if x.startswith('m'):\n",
    "        print(x,'马同学')\n"
   ]
  },
  {
   "cell_type": "code",
   "execution_count": 9,
   "id": "b1bf7716",
   "metadata": {
    "ExecuteTime": {
     "end_time": "2023-10-18T00:34:16.766772Z",
     "start_time": "2023-10-18T00:34:16.760797Z"
    }
   },
   "outputs": [
    {
     "data": {
      "text/plain": [
       "{'cmu', 'lzu', 'pku'}"
      ]
     },
     "execution_count": 9,
     "metadata": {},
     "output_type": "execute_result"
    }
   ],
   "source": [
    "'''\n",
    "正则表达式 ： 不考试\n",
    "  sql 语句：通用、强大、少学习\n",
    "\n",
    "'''\n",
    "data = ['mzx@lzu.edu.cn',\n",
    "        'fly@cmu.edu',\n",
    "        'peter@pku.edu.cn',\n",
    "        'bill@cmu.edu'\n",
    "]\n",
    "import re\n",
    "{re.search('@(\\w)+.',x).group()[1:-1] for x in data}\n",
    "{re.findall('@\\w*.',x)[0][1:-1] for x in data}"
   ]
  },
  {
   "cell_type": "code",
   "execution_count": 5,
   "id": "09433e52",
   "metadata": {
    "ExecuteTime": {
     "end_time": "2023-11-06T07:25:55.568732Z",
     "start_time": "2023-11-06T07:25:55.414448Z"
    }
   },
   "outputs": [
    {
     "ename": "error",
     "evalue": "unbalanced parenthesis at position 7",
     "output_type": "error",
     "traceback": [
      "\u001b[1;31m---------------------------------------------------------------------------\u001b[0m",
      "\u001b[1;31merror\u001b[0m                                     Traceback (most recent call last)",
      "Cell \u001b[1;32mIn[5], line 14\u001b[0m\n\u001b[0;32m     12\u001b[0m re\u001b[38;5;241m.\u001b[39mfindall(\u001b[38;5;124mr\u001b[39m\u001b[38;5;124m'\u001b[39m\u001b[38;5;124m\\\u001b[39m\u001b[38;5;124mw\u001b[39m\u001b[38;5;124m{\u001b[39m\u001b[38;5;124m1,}@\u001b[39m\u001b[38;5;124m\\\u001b[39m\u001b[38;5;124mw\u001b[39m\u001b[38;5;124m{\u001b[39m\u001b[38;5;124m1,}.edu\u001b[39m\u001b[38;5;124m'\u001b[39m,s)\n\u001b[0;32m     13\u001b[0m sequence \u001b[38;5;241m=\u001b[39m \u001b[38;5;124m\"\u001b[39m\u001b[38;5;124mGATCCGCGCGCGATCATCATCGGGGGGGGA\u001b[39m\u001b[38;5;124m\"\u001b[39m\n\u001b[1;32m---> 14\u001b[0m re\u001b[38;5;241m.\u001b[39mfindall(\u001b[38;5;124mr\u001b[39m\u001b[38;5;124m'\u001b[39m\u001b[38;5;124m\\\u001b[39m\u001b[38;5;124m(w\u001b[39m\u001b[38;5;124m{\u001b[39m\u001b[38;5;124m2,})\u001b[39m\u001b[38;5;124m\\\u001b[39m\u001b[38;5;124m1+\u001b[39m\u001b[38;5;124m'\u001b[39m,sequence)\n",
      "File \u001b[1;32mD:\\Anaconda3\\Lib\\re\\__init__.py:216\u001b[0m, in \u001b[0;36mfindall\u001b[1;34m(pattern, string, flags)\u001b[0m\n\u001b[0;32m    208\u001b[0m \u001b[38;5;28;01mdef\u001b[39;00m \u001b[38;5;21mfindall\u001b[39m(pattern, string, flags\u001b[38;5;241m=\u001b[39m\u001b[38;5;241m0\u001b[39m):\n\u001b[0;32m    209\u001b[0m \u001b[38;5;250m    \u001b[39m\u001b[38;5;124;03m\"\"\"Return a list of all non-overlapping matches in the string.\u001b[39;00m\n\u001b[0;32m    210\u001b[0m \n\u001b[0;32m    211\u001b[0m \u001b[38;5;124;03m    If one or more capturing groups are present in the pattern, return\u001b[39;00m\n\u001b[1;32m   (...)\u001b[0m\n\u001b[0;32m    214\u001b[0m \n\u001b[0;32m    215\u001b[0m \u001b[38;5;124;03m    Empty matches are included in the result.\"\"\"\u001b[39;00m\n\u001b[1;32m--> 216\u001b[0m     \u001b[38;5;28;01mreturn\u001b[39;00m _compile(pattern, flags)\u001b[38;5;241m.\u001b[39mfindall(string)\n",
      "File \u001b[1;32mD:\\Anaconda3\\Lib\\re\\__init__.py:294\u001b[0m, in \u001b[0;36m_compile\u001b[1;34m(pattern, flags)\u001b[0m\n\u001b[0;32m    288\u001b[0m     \u001b[38;5;28;01mimport\u001b[39;00m \u001b[38;5;21;01mwarnings\u001b[39;00m\n\u001b[0;32m    289\u001b[0m     warnings\u001b[38;5;241m.\u001b[39mwarn(\u001b[38;5;124m\"\u001b[39m\u001b[38;5;124mThe re.TEMPLATE/re.T flag is deprecated \u001b[39m\u001b[38;5;124m\"\u001b[39m\n\u001b[0;32m    290\u001b[0m               \u001b[38;5;124m\"\u001b[39m\u001b[38;5;124mas it is an undocumented flag \u001b[39m\u001b[38;5;124m\"\u001b[39m\n\u001b[0;32m    291\u001b[0m               \u001b[38;5;124m\"\u001b[39m\u001b[38;5;124mwithout an obvious purpose. \u001b[39m\u001b[38;5;124m\"\u001b[39m\n\u001b[0;32m    292\u001b[0m               \u001b[38;5;124m\"\u001b[39m\u001b[38;5;124mDon\u001b[39m\u001b[38;5;124m'\u001b[39m\u001b[38;5;124mt use it.\u001b[39m\u001b[38;5;124m\"\u001b[39m,\n\u001b[0;32m    293\u001b[0m               \u001b[38;5;167;01mDeprecationWarning\u001b[39;00m)\n\u001b[1;32m--> 294\u001b[0m p \u001b[38;5;241m=\u001b[39m _compiler\u001b[38;5;241m.\u001b[39mcompile(pattern, flags)\n\u001b[0;32m    295\u001b[0m \u001b[38;5;28;01mif\u001b[39;00m \u001b[38;5;129;01mnot\u001b[39;00m (flags \u001b[38;5;241m&\u001b[39m DEBUG):\n\u001b[0;32m    296\u001b[0m     \u001b[38;5;28;01mif\u001b[39;00m \u001b[38;5;28mlen\u001b[39m(_cache) \u001b[38;5;241m>\u001b[39m\u001b[38;5;241m=\u001b[39m _MAXCACHE:\n\u001b[0;32m    297\u001b[0m         \u001b[38;5;66;03m# Drop the oldest item\u001b[39;00m\n",
      "File \u001b[1;32mD:\\Anaconda3\\Lib\\re\\_compiler.py:743\u001b[0m, in \u001b[0;36mcompile\u001b[1;34m(p, flags)\u001b[0m\n\u001b[0;32m    741\u001b[0m \u001b[38;5;28;01mif\u001b[39;00m isstring(p):\n\u001b[0;32m    742\u001b[0m     pattern \u001b[38;5;241m=\u001b[39m p\n\u001b[1;32m--> 743\u001b[0m     p \u001b[38;5;241m=\u001b[39m _parser\u001b[38;5;241m.\u001b[39mparse(p, flags)\n\u001b[0;32m    744\u001b[0m \u001b[38;5;28;01melse\u001b[39;00m:\n\u001b[0;32m    745\u001b[0m     pattern \u001b[38;5;241m=\u001b[39m \u001b[38;5;28;01mNone\u001b[39;00m\n",
      "File \u001b[1;32mD:\\Anaconda3\\Lib\\re\\_parser.py:985\u001b[0m, in \u001b[0;36mparse\u001b[1;34m(str, flags, state)\u001b[0m\n\u001b[0;32m    983\u001b[0m \u001b[38;5;28;01mif\u001b[39;00m source\u001b[38;5;241m.\u001b[39mnext \u001b[38;5;129;01mis\u001b[39;00m \u001b[38;5;129;01mnot\u001b[39;00m \u001b[38;5;28;01mNone\u001b[39;00m:\n\u001b[0;32m    984\u001b[0m     \u001b[38;5;28;01massert\u001b[39;00m source\u001b[38;5;241m.\u001b[39mnext \u001b[38;5;241m==\u001b[39m \u001b[38;5;124m\"\u001b[39m\u001b[38;5;124m)\u001b[39m\u001b[38;5;124m\"\u001b[39m\n\u001b[1;32m--> 985\u001b[0m     \u001b[38;5;28;01mraise\u001b[39;00m source\u001b[38;5;241m.\u001b[39merror(\u001b[38;5;124m\"\u001b[39m\u001b[38;5;124munbalanced parenthesis\u001b[39m\u001b[38;5;124m\"\u001b[39m)\n\u001b[0;32m    987\u001b[0m \u001b[38;5;28;01mfor\u001b[39;00m g \u001b[38;5;129;01min\u001b[39;00m p\u001b[38;5;241m.\u001b[39mstate\u001b[38;5;241m.\u001b[39mgrouprefpos:\n\u001b[0;32m    988\u001b[0m     \u001b[38;5;28;01mif\u001b[39;00m g \u001b[38;5;241m>\u001b[39m\u001b[38;5;241m=\u001b[39m p\u001b[38;5;241m.\u001b[39mstate\u001b[38;5;241m.\u001b[39mgroups:\n",
      "\u001b[1;31merror\u001b[0m: unbalanced parenthesis at position 7"
     ]
    }
   ],
   "source": [
    "s = '''\n",
    "<html>\n",
    "    这是网上爬的数据，我们要从里面抽取手机号，邮箱。推广告短信、邮件\n",
    "    1010345454 13919879810 207-54545-3434 18988888888\n",
    "    邮件\n",
    "    peter@cmu.edu bill@pku.edu\n",
    "    欢迎访问\n",
    "</html>\n",
    "'''\n",
    "import re\n",
    "re.findall(r'1\\d{10}',s)\n",
    "re.findall(r'\\w{1,}@\\w{1,}.edu',s)\n",
    "sequence = \"GATCCGCGCGCGATCATCATCGGGGGGGGA\"\n",
    "re.findall(r'\\w{2,6})\\1+',sequence)"
   ]
  },
  {
   "cell_type": "code",
   "execution_count": 11,
   "id": "8f5d5b95",
   "metadata": {
    "ExecuteTime": {
     "end_time": "2023-10-18T00:34:43.433498Z",
     "start_time": "2023-10-18T00:34:43.426953Z"
    }
   },
   "outputs": [
    {
     "data": {
      "text/plain": [
       "{'cmu', 'lzu', 'pku'}"
      ]
     },
     "execution_count": 11,
     "metadata": {},
     "output_type": "execute_result"
    }
   ],
   "source": [
    "{re.search('@(\\w)+',x).group()[1:] for x in data}\n",
    "# @ 对应 @\n",
    "# \\w 对应 数字字母下划线字符 \n",
    "# + 对应 匹配1到任意次\"\\w\"\n",
    "# . 对应 除换行符以外的任意字符"
   ]
  },
  {
   "cell_type": "markdown",
   "id": "87bf9311",
   "metadata": {},
   "source": [
    "爬网页用beautifulsoup  爬字符串用正则表达式"
   ]
  },
  {
   "cell_type": "code",
   "execution_count": 31,
   "id": "0865c4ce",
   "metadata": {
    "ExecuteTime": {
     "end_time": "2023-10-18T00:50:16.206807Z",
     "start_time": "2023-10-18T00:50:16.200997Z"
    }
   },
   "outputs": [
    {
     "data": {
      "text/plain": [
       "(True, False)"
      ]
     },
     "execution_count": 31,
     "metadata": {},
     "output_type": "execute_result"
    }
   ],
   "source": [
    "#用 find 找到文本中特定字符串的位置\n",
    "s = ' '.join(data)\n",
    "a,b='cmu','tsg'\n",
    "a in s, b in s"
   ]
  },
  {
   "cell_type": "code",
   "execution_count": 17,
   "id": "c14a1218",
   "metadata": {
    "ExecuteTime": {
     "end_time": "2023-10-18T00:38:39.315488Z",
     "start_time": "2023-10-18T00:38:39.309948Z"
    }
   },
   "outputs": [
    {
     "name": "stdout",
     "output_type": "stream",
     "text": [
      "19,49,"
     ]
    }
   ],
   "source": [
    "n=-1\n",
    "while True :\n",
    "    n=s.find(a,n+1)\n",
    "    if n == -1 : break\n",
    "    print(n,end = ',')\n",
    "# s.index(),help"
   ]
  },
  {
   "cell_type": "code",
   "execution_count": 32,
   "id": "1168d983",
   "metadata": {
    "ExecuteTime": {
     "end_time": "2023-10-18T00:50:19.495238Z",
     "start_time": "2023-10-18T00:50:19.490889Z"
    }
   },
   "outputs": [
    {
     "name": "stdout",
     "output_type": "stream",
     "text": [
      "19 49 "
     ]
    }
   ],
   "source": [
    "'''while True :\n",
    "    n=s.index(a,n+1)\n",
    "    print(n,end = ',')'''\n",
    "# 会报错 修改为\n",
    "n = -1\n",
    "while True:\n",
    "    try:\n",
    "        n = s.index(a,n+1)\n",
    "        print(n,end = ' ')\n",
    "    except:\n",
    "        break"
   ]
  },
  {
   "cell_type": "code",
   "execution_count": 19,
   "id": "dbe52976",
   "metadata": {
    "ExecuteTime": {
     "end_time": "2023-10-18T00:39:41.141401Z",
     "start_time": "2023-10-18T00:39:41.119958Z"
    }
   },
   "outputs": [
    {
     "name": "stdout",
     "output_type": "stream",
     "text": [
      "Help on class str in module builtins:\n",
      "\n",
      "class str(object)\n",
      " |  str(object='') -> str\n",
      " |  str(bytes_or_buffer[, encoding[, errors]]) -> str\n",
      " |  \n",
      " |  Create a new string object from the given object. If encoding or\n",
      " |  errors is specified, then the object must expose a data buffer\n",
      " |  that will be decoded using the given encoding and error handler.\n",
      " |  Otherwise, returns the result of object.__str__() (if defined)\n",
      " |  or repr(object).\n",
      " |  encoding defaults to sys.getdefaultencoding().\n",
      " |  errors defaults to 'strict'.\n",
      " |  \n",
      " |  Methods defined here:\n",
      " |  \n",
      " |  __add__(self, value, /)\n",
      " |      Return self+value.\n",
      " |  \n",
      " |  __contains__(self, key, /)\n",
      " |      Return key in self.\n",
      " |  \n",
      " |  __eq__(self, value, /)\n",
      " |      Return self==value.\n",
      " |  \n",
      " |  __format__(self, format_spec, /)\n",
      " |      Return a formatted version of the string as described by format_spec.\n",
      " |  \n",
      " |  __ge__(self, value, /)\n",
      " |      Return self>=value.\n",
      " |  \n",
      " |  __getattribute__(self, name, /)\n",
      " |      Return getattr(self, name).\n",
      " |  \n",
      " |  __getitem__(self, key, /)\n",
      " |      Return self[key].\n",
      " |  \n",
      " |  __getnewargs__(...)\n",
      " |  \n",
      " |  __gt__(self, value, /)\n",
      " |      Return self>value.\n",
      " |  \n",
      " |  __hash__(self, /)\n",
      " |      Return hash(self).\n",
      " |  \n",
      " |  __iter__(self, /)\n",
      " |      Implement iter(self).\n",
      " |  \n",
      " |  __le__(self, value, /)\n",
      " |      Return self<=value.\n",
      " |  \n",
      " |  __len__(self, /)\n",
      " |      Return len(self).\n",
      " |  \n",
      " |  __lt__(self, value, /)\n",
      " |      Return self<value.\n",
      " |  \n",
      " |  __mod__(self, value, /)\n",
      " |      Return self%value.\n",
      " |  \n",
      " |  __mul__(self, value, /)\n",
      " |      Return self*value.\n",
      " |  \n",
      " |  __ne__(self, value, /)\n",
      " |      Return self!=value.\n",
      " |  \n",
      " |  __repr__(self, /)\n",
      " |      Return repr(self).\n",
      " |  \n",
      " |  __rmod__(self, value, /)\n",
      " |      Return value%self.\n",
      " |  \n",
      " |  __rmul__(self, value, /)\n",
      " |      Return value*self.\n",
      " |  \n",
      " |  __sizeof__(self, /)\n",
      " |      Return the size of the string in memory, in bytes.\n",
      " |  \n",
      " |  __str__(self, /)\n",
      " |      Return str(self).\n",
      " |  \n",
      " |  capitalize(self, /)\n",
      " |      Return a capitalized version of the string.\n",
      " |      \n",
      " |      More specifically, make the first character have upper case and the rest lower\n",
      " |      case.\n",
      " |  \n",
      " |  casefold(self, /)\n",
      " |      Return a version of the string suitable for caseless comparisons.\n",
      " |  \n",
      " |  center(self, width, fillchar=' ', /)\n",
      " |      Return a centered string of length width.\n",
      " |      \n",
      " |      Padding is done using the specified fill character (default is a space).\n",
      " |  \n",
      " |  count(...)\n",
      " |      S.count(sub[, start[, end]]) -> int\n",
      " |      \n",
      " |      Return the number of non-overlapping occurrences of substring sub in\n",
      " |      string S[start:end].  Optional arguments start and end are\n",
      " |      interpreted as in slice notation.\n",
      " |  \n",
      " |  encode(self, /, encoding='utf-8', errors='strict')\n",
      " |      Encode the string using the codec registered for encoding.\n",
      " |      \n",
      " |      encoding\n",
      " |        The encoding in which to encode the string.\n",
      " |      errors\n",
      " |        The error handling scheme to use for encoding errors.\n",
      " |        The default is 'strict' meaning that encoding errors raise a\n",
      " |        UnicodeEncodeError.  Other possible values are 'ignore', 'replace' and\n",
      " |        'xmlcharrefreplace' as well as any other name registered with\n",
      " |        codecs.register_error that can handle UnicodeEncodeErrors.\n",
      " |  \n",
      " |  endswith(...)\n",
      " |      S.endswith(suffix[, start[, end]]) -> bool\n",
      " |      \n",
      " |      Return True if S ends with the specified suffix, False otherwise.\n",
      " |      With optional start, test S beginning at that position.\n",
      " |      With optional end, stop comparing S at that position.\n",
      " |      suffix can also be a tuple of strings to try.\n",
      " |  \n",
      " |  expandtabs(self, /, tabsize=8)\n",
      " |      Return a copy where all tab characters are expanded using spaces.\n",
      " |      \n",
      " |      If tabsize is not given, a tab size of 8 characters is assumed.\n",
      " |  \n",
      " |  find(...)\n",
      " |      S.find(sub[, start[, end]]) -> int\n",
      " |      \n",
      " |      Return the lowest index in S where substring sub is found,\n",
      " |      such that sub is contained within S[start:end].  Optional\n",
      " |      arguments start and end are interpreted as in slice notation.\n",
      " |      \n",
      " |      Return -1 on failure.\n",
      " |  \n",
      " |  format(...)\n",
      " |      S.format(*args, **kwargs) -> str\n",
      " |      \n",
      " |      Return a formatted version of S, using substitutions from args and kwargs.\n",
      " |      The substitutions are identified by braces ('{' and '}').\n",
      " |  \n",
      " |  format_map(...)\n",
      " |      S.format_map(mapping) -> str\n",
      " |      \n",
      " |      Return a formatted version of S, using substitutions from mapping.\n",
      " |      The substitutions are identified by braces ('{' and '}').\n",
      " |  \n",
      " |  index(...)\n",
      " |      S.index(sub[, start[, end]]) -> int\n",
      " |      \n",
      " |      Return the lowest index in S where substring sub is found,\n",
      " |      such that sub is contained within S[start:end].  Optional\n",
      " |      arguments start and end are interpreted as in slice notation.\n",
      " |      \n",
      " |      Raises ValueError when the substring is not found.\n",
      " |  \n",
      " |  isalnum(self, /)\n",
      " |      Return True if the string is an alpha-numeric string, False otherwise.\n",
      " |      \n",
      " |      A string is alpha-numeric if all characters in the string are alpha-numeric and\n",
      " |      there is at least one character in the string.\n",
      " |  \n",
      " |  isalpha(self, /)\n",
      " |      Return True if the string is an alphabetic string, False otherwise.\n",
      " |      \n",
      " |      A string is alphabetic if all characters in the string are alphabetic and there\n",
      " |      is at least one character in the string.\n",
      " |  \n",
      " |  isascii(self, /)\n",
      " |      Return True if all characters in the string are ASCII, False otherwise.\n",
      " |      \n",
      " |      ASCII characters have code points in the range U+0000-U+007F.\n",
      " |      Empty string is ASCII too.\n",
      " |  \n",
      " |  isdecimal(self, /)\n",
      " |      Return True if the string is a decimal string, False otherwise.\n",
      " |      \n",
      " |      A string is a decimal string if all characters in the string are decimal and\n",
      " |      there is at least one character in the string.\n",
      " |  \n",
      " |  isdigit(self, /)\n",
      " |      Return True if the string is a digit string, False otherwise.\n",
      " |      \n",
      " |      A string is a digit string if all characters in the string are digits and there\n",
      " |      is at least one character in the string.\n",
      " |  \n",
      " |  isidentifier(self, /)\n",
      " |      Return True if the string is a valid Python identifier, False otherwise.\n",
      " |      \n",
      " |      Call keyword.iskeyword(s) to test whether string s is a reserved identifier,\n",
      " |      such as \"def\" or \"class\".\n",
      " |  \n",
      " |  islower(self, /)\n",
      " |      Return True if the string is a lowercase string, False otherwise.\n",
      " |      \n",
      " |      A string is lowercase if all cased characters in the string are lowercase and\n",
      " |      there is at least one cased character in the string.\n",
      " |  \n",
      " |  isnumeric(self, /)\n",
      " |      Return True if the string is a numeric string, False otherwise.\n",
      " |      \n",
      " |      A string is numeric if all characters in the string are numeric and there is at\n",
      " |      least one character in the string.\n",
      " |  \n",
      " |  isprintable(self, /)\n",
      " |      Return True if the string is printable, False otherwise.\n",
      " |      \n",
      " |      A string is printable if all of its characters are considered printable in\n",
      " |      repr() or if it is empty.\n",
      " |  \n",
      " |  isspace(self, /)\n",
      " |      Return True if the string is a whitespace string, False otherwise.\n",
      " |      \n",
      " |      A string is whitespace if all characters in the string are whitespace and there\n",
      " |      is at least one character in the string.\n",
      " |  \n",
      " |  istitle(self, /)\n",
      " |      Return True if the string is a title-cased string, False otherwise.\n",
      " |      \n",
      " |      In a title-cased string, upper- and title-case characters may only\n",
      " |      follow uncased characters and lowercase characters only cased ones.\n",
      " |  \n",
      " |  isupper(self, /)\n",
      " |      Return True if the string is an uppercase string, False otherwise.\n",
      " |      \n",
      " |      A string is uppercase if all cased characters in the string are uppercase and\n",
      " |      there is at least one cased character in the string.\n",
      " |  \n",
      " |  join(self, iterable, /)\n",
      " |      Concatenate any number of strings.\n",
      " |      \n",
      " |      The string whose method is called is inserted in between each given string.\n",
      " |      The result is returned as a new string.\n",
      " |      \n",
      " |      Example: '.'.join(['ab', 'pq', 'rs']) -> 'ab.pq.rs'\n",
      " |  \n",
      " |  ljust(self, width, fillchar=' ', /)\n",
      " |      Return a left-justified string of length width.\n",
      " |      \n",
      " |      Padding is done using the specified fill character (default is a space).\n",
      " |  \n",
      " |  lower(self, /)\n",
      " |      Return a copy of the string converted to lowercase.\n",
      " |  \n",
      " |  lstrip(self, chars=None, /)\n",
      " |      Return a copy of the string with leading whitespace removed.\n",
      " |      \n",
      " |      If chars is given and not None, remove characters in chars instead.\n",
      " |  \n",
      " |  partition(self, sep, /)\n",
      " |      Partition the string into three parts using the given separator.\n",
      " |      \n",
      " |      This will search for the separator in the string.  If the separator is found,\n",
      " |      returns a 3-tuple containing the part before the separator, the separator\n",
      " |      itself, and the part after it.\n",
      " |      \n",
      " |      If the separator is not found, returns a 3-tuple containing the original string\n",
      " |      and two empty strings.\n",
      " |  \n",
      " |  removeprefix(self, prefix, /)\n",
      " |      Return a str with the given prefix string removed if present.\n",
      " |      \n",
      " |      If the string starts with the prefix string, return string[len(prefix):].\n",
      " |      Otherwise, return a copy of the original string.\n",
      " |  \n",
      " |  removesuffix(self, suffix, /)\n",
      " |      Return a str with the given suffix string removed if present.\n",
      " |      \n",
      " |      If the string ends with the suffix string and that suffix is not empty,\n",
      " |      return string[:-len(suffix)]. Otherwise, return a copy of the original\n",
      " |      string.\n",
      " |  \n",
      " |  replace(self, old, new, count=-1, /)\n",
      " |      Return a copy with all occurrences of substring old replaced by new.\n",
      " |      \n",
      " |        count\n",
      " |          Maximum number of occurrences to replace.\n",
      " |          -1 (the default value) means replace all occurrences.\n",
      " |      \n",
      " |      If the optional argument count is given, only the first count occurrences are\n",
      " |      replaced.\n",
      " |  \n",
      " |  rfind(...)\n",
      " |      S.rfind(sub[, start[, end]]) -> int\n",
      " |      \n",
      " |      Return the highest index in S where substring sub is found,\n",
      " |      such that sub is contained within S[start:end].  Optional\n",
      " |      arguments start and end are interpreted as in slice notation.\n",
      " |      \n",
      " |      Return -1 on failure.\n",
      " |  \n",
      " |  rindex(...)\n",
      " |      S.rindex(sub[, start[, end]]) -> int\n",
      " |      \n",
      " |      Return the highest index in S where substring sub is found,\n",
      " |      such that sub is contained within S[start:end].  Optional\n",
      " |      arguments start and end are interpreted as in slice notation.\n",
      " |      \n",
      " |      Raises ValueError when the substring is not found.\n",
      " |  \n",
      " |  rjust(self, width, fillchar=' ', /)\n",
      " |      Return a right-justified string of length width.\n",
      " |      \n",
      " |      Padding is done using the specified fill character (default is a space).\n",
      " |  \n",
      " |  rpartition(self, sep, /)\n",
      " |      Partition the string into three parts using the given separator.\n",
      " |      \n",
      " |      This will search for the separator in the string, starting at the end. If\n",
      " |      the separator is found, returns a 3-tuple containing the part before the\n",
      " |      separator, the separator itself, and the part after it.\n",
      " |      \n",
      " |      If the separator is not found, returns a 3-tuple containing two empty strings\n",
      " |      and the original string.\n",
      " |  \n",
      " |  rsplit(self, /, sep=None, maxsplit=-1)\n",
      " |      Return a list of the substrings in the string, using sep as the separator string.\n",
      " |      \n",
      " |        sep\n",
      " |          The separator used to split the string.\n",
      " |      \n",
      " |          When set to None (the default value), will split on any whitespace\n",
      " |          character (including \\\\n \\\\r \\\\t \\\\f and spaces) and will discard\n",
      " |          empty strings from the result.\n",
      " |        maxsplit\n",
      " |          Maximum number of splits (starting from the left).\n",
      " |          -1 (the default value) means no limit.\n",
      " |      \n",
      " |      Splitting starts at the end of the string and works to the front.\n",
      " |  \n",
      " |  rstrip(self, chars=None, /)\n",
      " |      Return a copy of the string with trailing whitespace removed.\n",
      " |      \n",
      " |      If chars is given and not None, remove characters in chars instead.\n",
      " |  \n",
      " |  split(self, /, sep=None, maxsplit=-1)\n",
      " |      Return a list of the substrings in the string, using sep as the separator string.\n",
      " |      \n",
      " |        sep\n",
      " |          The separator used to split the string.\n",
      " |      \n",
      " |          When set to None (the default value), will split on any whitespace\n",
      " |          character (including \\\\n \\\\r \\\\t \\\\f and spaces) and will discard\n",
      " |          empty strings from the result.\n",
      " |        maxsplit\n",
      " |          Maximum number of splits (starting from the left).\n",
      " |          -1 (the default value) means no limit.\n",
      " |      \n",
      " |      Note, str.split() is mainly useful for data that has been intentionally\n",
      " |      delimited.  With natural text that includes punctuation, consider using\n",
      " |      the regular expression module.\n",
      " |  \n",
      " |  splitlines(self, /, keepends=False)\n",
      " |      Return a list of the lines in the string, breaking at line boundaries.\n",
      " |      \n",
      " |      Line breaks are not included in the resulting list unless keepends is given and\n",
      " |      true.\n",
      " |  \n",
      " |  startswith(...)\n",
      " |      S.startswith(prefix[, start[, end]]) -> bool\n",
      " |      \n",
      " |      Return True if S starts with the specified prefix, False otherwise.\n",
      " |      With optional start, test S beginning at that position.\n",
      " |      With optional end, stop comparing S at that position.\n",
      " |      prefix can also be a tuple of strings to try.\n",
      " |  \n",
      " |  strip(self, chars=None, /)\n",
      " |      Return a copy of the string with leading and trailing whitespace removed.\n",
      " |      \n",
      " |      If chars is given and not None, remove characters in chars instead.\n",
      " |  \n",
      " |  swapcase(self, /)\n",
      " |      Convert uppercase characters to lowercase and lowercase characters to uppercase.\n",
      " |  \n",
      " |  title(self, /)\n",
      " |      Return a version of the string where each word is titlecased.\n",
      " |      \n",
      " |      More specifically, words start with uppercased characters and all remaining\n",
      " |      cased characters have lower case.\n",
      " |  \n",
      " |  translate(self, table, /)\n",
      " |      Replace each character in the string using the given translation table.\n",
      " |      \n",
      " |        table\n",
      " |          Translation table, which must be a mapping of Unicode ordinals to\n",
      " |          Unicode ordinals, strings, or None.\n",
      " |      \n",
      " |      The table must implement lookup/indexing via __getitem__, for instance a\n",
      " |      dictionary or list.  If this operation raises LookupError, the character is\n",
      " |      left untouched.  Characters mapped to None are deleted.\n",
      " |  \n",
      " |  upper(self, /)\n",
      " |      Return a copy of the string converted to uppercase.\n",
      " |  \n",
      " |  zfill(self, width, /)\n",
      " |      Pad a numeric string with zeros on the left, to fill a field of the given width.\n",
      " |      \n",
      " |      The string is never truncated.\n",
      " |  \n",
      " |  ----------------------------------------------------------------------\n",
      " |  Static methods defined here:\n",
      " |  \n",
      " |  __new__(*args, **kwargs) from builtins.type\n",
      " |      Create and return a new object.  See help(type) for accurate signature.\n",
      " |  \n",
      " |  maketrans(...)\n",
      " |      Return a translation table usable for str.translate().\n",
      " |      \n",
      " |      If there is only one argument, it must be a dictionary mapping Unicode\n",
      " |      ordinals (integers) or characters to Unicode ordinals, strings or None.\n",
      " |      Character keys will be then converted to ordinals.\n",
      " |      If there are two arguments, they must be strings of equal length, and\n",
      " |      in the resulting dictionary, each character in x will be mapped to the\n",
      " |      character at the same position in y. If there is a third argument, it\n",
      " |      must be a string, whose characters will be mapped to None in the result.\n",
      "\n"
     ]
    }
   ],
   "source": [
    "help(str)"
   ]
  },
  {
   "cell_type": "code",
   "execution_count": 44,
   "id": "d2f8dcc1",
   "metadata": {
    "ExecuteTime": {
     "end_time": "2023-10-18T00:56:15.460897Z",
     "start_time": "2023-10-18T00:56:15.454977Z"
    }
   },
   "outputs": [
    {
     "data": {
      "text/plain": [
       "'pku'"
      ]
     },
     "execution_count": 44,
     "metadata": {},
     "output_type": "execute_result"
    }
   ],
   "source": [
    "s = '''\n",
    "<html>\n",
    "    这是网上爬的数据，我们要从里面抽取手机号，邮箱。推广告短信、邮件\n",
    "    1010345454 13919879810 207-54545-3434 18988888888\n",
    "    邮件\n",
    "    peter@cmu.edu bill@pku.edu\n",
    "    欢迎访问\n",
    "</html>\n",
    "'''\n",
    "re.findall(r'@\\w{1,}.',s)[1][1:-1]\n",
    "#re.findall(r'\\w{1,}@\\w{1,}.edu',s)"
   ]
  },
  {
   "cell_type": "markdown",
   "id": "e875c43e",
   "metadata": {},
   "source": [
    "# 字符串格式化"
   ]
  },
  {
   "cell_type": "code",
   "execution_count": 49,
   "id": "779894c8",
   "metadata": {
    "ExecuteTime": {
     "end_time": "2023-10-18T01:01:23.420184Z",
     "start_time": "2023-10-18T01:01:23.415183Z"
    }
   },
   "outputs": [
    {
     "name": "stdout",
     "output_type": "stream",
     "text": [
      "Help on built-in function format in module builtins:\n",
      "\n",
      "format(value, format_spec='', /)\n",
      "    Return value.__format__(format_spec)\n",
      "    \n",
      "    format_spec defaults to the empty string.\n",
      "    See the Format Specification Mini-Language section of help('FORMATTING') for\n",
      "    details.\n",
      "\n"
     ]
    }
   ],
   "source": [
    "help(format)"
   ]
  },
  {
   "cell_type": "code",
   "execution_count": 67,
   "id": "7e52739c",
   "metadata": {
    "ExecuteTime": {
     "end_time": "2023-10-18T01:15:06.694411Z",
     "start_time": "2023-10-18T01:15:06.686700Z"
    }
   },
   "outputs": [
    {
     "data": {
      "text/plain": [
       "'5--14--9--9'"
      ]
     },
     "execution_count": 67,
     "metadata": {},
     "output_type": "execute_result"
    }
   ],
   "source": [
    "a, b, c = '院士','Python','世界上'\n",
    "# %a\n",
    "# format\n",
    "## 顺序法\n",
    "'{}说：{}是{}最好的语言'.format(a,b,c)\n",
    "## 位置法\n",
    "'{2}说：{0}是{1}最好的语言，{1}噢'.format(a,b,c)\n",
    "## 关键字法\n",
    "'{who}说：{lan}是{area}最好的语言，{who}噢'.format(who = a,\n",
    "                        lan = b,\n",
    "                        area = c)\n",
    "## 混合法\n",
    "'{0}说：{1}是{area}最好的语言，{0}噢'.format(a,\n",
    "                              b,\n",
    "                              area=c)\n",
    "## 变量空间法\n",
    "'{a}说：{b}是{c}最好的语言，{a}噢'.format_map(locals())\n",
    "locals()\n",
    "## 元编程 - 反射、自省、自举 ... locals - 基础系统：django; 异步 并行\n",
    "\n",
    "# f字符串\n",
    "f'{a}说：{b}是{c}最好的语言，{a}噢'\n",
    "\n",
    "x,y = 5,9\n",
    "f'{x}--{x+y}--{x if x > y else y}--{max(x,y)}'"
   ]
  },
  {
   "cell_type": "code",
   "execution_count": 73,
   "id": "50c9151e",
   "metadata": {
    "ExecuteTime": {
     "end_time": "2023-10-18T01:30:16.471671Z",
     "start_time": "2023-10-18T01:30:16.464600Z"
    }
   },
   "outputs": [
    {
     "data": {
      "text/plain": [
       "'dfsdf院士  dfsd'"
      ]
     },
     "execution_count": 73,
     "metadata": {},
     "output_type": "execute_result"
    }
   ],
   "source": [
    "## 格式化同时排版\n",
    "\n",
    "name = 'lzu'\n",
    "f'{name:_^20}'\n",
    "\n",
    "'居中'.center(80,'*')\n",
    "'居中'.ljust(80,'*')\n",
    "'居中'.rjust(80,'*')\n",
    "\n",
    "'dfsdf{:4}dfsd'.format(a)"
   ]
  },
  {
   "cell_type": "markdown",
   "id": "132e49a5",
   "metadata": {},
   "source": [
    "# 转义符号"
   ]
  },
  {
   "cell_type": "code",
   "execution_count": 75,
   "id": "6d4d435e",
   "metadata": {
    "ExecuteTime": {
     "end_time": "2023-10-18T01:31:23.154279Z",
     "start_time": "2023-10-18T01:31:23.149767Z"
    }
   },
   "outputs": [
    {
     "name": "stdout",
     "output_type": "stream",
     "text": [
      "\n",
      "\n",
      "\\n\n"
     ]
    }
   ],
   "source": [
    "print('\\n')\n",
    "print(r'\\n')"
   ]
  },
  {
   "cell_type": "markdown",
   "id": "4c5b45a3",
   "metadata": {
    "ExecuteTime": {
     "end_time": "2023-10-18T01:31:49.947516Z",
     "start_time": "2023-10-18T01:31:49.944007Z"
    }
   },
   "source": [
    "# 编码解码 字符串-字节串"
   ]
  },
  {
   "cell_type": "code",
   "execution_count": 92,
   "id": "9bf67d80",
   "metadata": {
    "ExecuteTime": {
     "end_time": "2023-10-18T01:38:55.360829Z",
     "start_time": "2023-10-18T01:38:55.356276Z"
    }
   },
   "outputs": [
    {
     "data": {
      "text/plain": [
       "'ꃧ'"
      ]
     },
     "execution_count": 92,
     "metadata": {},
     "output_type": "execute_result"
    }
   ],
   "source": [
    "'码'.encode('gbk'),'码'.encode('utf-8'),'码'.encode('utf-16')\n",
    "'码'.encode('utf-8').decode('utf-8')\n",
    "b'\\xe7\\xa0\\x81'.decode('utf-8')\n",
    "b'\\xe7\\xa0\\x81'.decode('utf-16',errors = 'ignore')"
   ]
  },
  {
   "cell_type": "code",
   "execution_count": 94,
   "id": "beac182a",
   "metadata": {
    "ExecuteTime": {
     "end_time": "2023-10-18T01:40:28.957314Z",
     "start_time": "2023-10-18T01:40:28.951524Z"
    }
   },
   "outputs": [
    {
     "data": {
      "text/plain": [
       "25152"
      ]
     },
     "execution_count": 94,
     "metadata": {},
     "output_type": "execute_result"
    }
   ],
   "source": [
    "ord('a') # unicode 编码 asci\n",
    "ord('所')"
   ]
  }
 ],
 "metadata": {
  "kernelspec": {
   "display_name": "Python 3 (ipykernel)",
   "language": "python",
   "name": "python3"
  },
  "language_info": {
   "codemirror_mode": {
    "name": "ipython",
    "version": 3
   },
   "file_extension": ".py",
   "mimetype": "text/x-python",
   "name": "python",
   "nbconvert_exporter": "python",
   "pygments_lexer": "ipython3",
   "version": "3.11.4"
  },
  "toc": {
   "base_numbering": 1,
   "nav_menu": {},
   "number_sections": true,
   "sideBar": true,
   "skip_h1_title": false,
   "title_cell": "Table of Contents",
   "title_sidebar": "Contents",
   "toc_cell": false,
   "toc_position": {
    "height": "calc(100% - 180px)",
    "left": "10px",
    "top": "150px",
    "width": "165px"
   },
   "toc_section_display": true,
   "toc_window_display": true
  }
 },
 "nbformat": 4,
 "nbformat_minor": 5
}
