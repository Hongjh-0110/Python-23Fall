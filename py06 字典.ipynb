{
 "cells": [
  {
   "cell_type": "markdown",
   "id": "2847a84f",
   "metadata": {},
   "source": [
    "# 生成字典"
   ]
  },
  {
   "cell_type": "code",
   "execution_count": 35,
   "id": "a7209b1a",
   "metadata": {
    "ExecuteTime": {
     "end_time": "2023-10-23T02:45:16.561887Z",
     "start_time": "2023-10-23T02:45:16.558435Z"
    }
   },
   "outputs": [
    {
     "data": {
      "text/plain": [
       "{'a': 1, 'b': 2, 'c': 3}"
      ]
     },
     "execution_count": 35,
     "metadata": {},
     "output_type": "execute_result"
    }
   ],
   "source": [
    "# key 需要是不可变的值\n",
    "'''\n",
    "x = (8,99,111)\n",
    "{x:999}\n",
    "\n",
    "x = [8,99,111]\n",
    "{x:999}\n",
    "\n",
    "x = 999\n",
    "{x:999}\n",
    "'''\n",
    "a = dict(a=1, b=2, c=3)\n",
    "a"
   ]
  },
  {
   "cell_type": "code",
   "execution_count": 16,
   "id": "bce5868a",
   "metadata": {
    "ExecuteTime": {
     "end_time": "2023-10-23T02:42:10.373172Z",
     "start_time": "2023-10-23T02:42:10.367102Z"
    }
   },
   "outputs": [
    {
     "data": {
      "text/plain": [
       "True"
      ]
     },
     "execution_count": 16,
     "metadata": {},
     "output_type": "execute_result"
    }
   ],
   "source": [
    "a = dict(a=1, b=2, c=3)# 用得少，因为不可变\n",
    "b = {'a':1,'b':2,'c':3}\n",
    "a,b\n",
    "data=[('a',1),('b',2),('c',3)]\n",
    "c=dict(data)\n",
    "c\n",
    "\n",
    "aa=['a','b','c'] \n",
    "bb=[1,2,3]\n",
    "i=0\n",
    "d={}  # 我\n",
    "while i <3:\n",
    "    d[aa[i]]=bb[i]\n",
    "    i+=1\n",
    "d\n",
    "\n",
    "d={}  # 老师\n",
    "for ida,x in enumerate(aa):\n",
    "    for idb,y in enumerate(bb):\n",
    "        if ida==idb:\n",
    "            d[x]=y\n",
    "d\n",
    "\n",
    "e=dict(zip(aa,bb))  ## 最佳\n",
    "e\n",
    "\n",
    "a==b==c==d==e"
   ]
  },
  {
   "cell_type": "code",
   "execution_count": 17,
   "id": "f3d1b90c",
   "metadata": {
    "ExecuteTime": {
     "end_time": "2023-10-23T02:42:10.801191Z",
     "start_time": "2023-10-23T02:42:10.797431Z"
    }
   },
   "outputs": [
    {
     "data": {
      "text/plain": [
       "[('a', 1), ('b', 2), ('c', 3)]"
      ]
     },
     "execution_count": 17,
     "metadata": {},
     "output_type": "execute_result"
    }
   ],
   "source": [
    "list(zip(aa,bb))"
   ]
  },
  {
   "cell_type": "code",
   "execution_count": 18,
   "id": "929bf294",
   "metadata": {
    "ExecuteTime": {
     "end_time": "2023-10-23T02:42:11.475539Z",
     "start_time": "2023-10-23T02:42:11.471406Z"
    }
   },
   "outputs": [
    {
     "data": {
      "text/plain": [
       "{'a': ['231018'], 'b': ['231018'], 'c': ['231018']}"
      ]
     },
     "execution_count": 18,
     "metadata": {},
     "output_type": "execute_result"
    }
   ],
   "source": [
    "# 统一给初值 \n",
    "x='a b c'.split()\n",
    "x\n",
    "dict.fromkeys(x,0)\n",
    "\n",
    "d1=dict.fromkeys(x,[])\n",
    "d1['a'].append('231018')\n",
    "d1"
   ]
  },
  {
   "cell_type": "code",
   "execution_count": 64,
   "id": "500af102",
   "metadata": {
    "ExecuteTime": {
     "end_time": "2023-10-23T03:04:26.299960Z",
     "start_time": "2023-10-23T03:04:26.289164Z"
    }
   },
   "outputs": [
    {
     "data": {
      "text/plain": [
       "(dict_keys(['a', 'b', 'c']), dict_values([1, 2, 3]))"
      ]
     },
     "execution_count": 64,
     "metadata": {},
     "output_type": "execute_result"
    }
   ],
   "source": [
    "# 基本操作\n",
    "a.keys(),a.values()\n",
    "\n",
    "#a['k']\n",
    "if 'a' in a.keys():\n",
    "    print(a['a'])"
   ]
  },
  {
   "cell_type": "code",
   "execution_count": 20,
   "id": "e5bfd170",
   "metadata": {
    "ExecuteTime": {
     "end_time": "2023-10-23T02:42:12.990622Z",
     "start_time": "2023-10-23T02:42:12.988118Z"
    }
   },
   "outputs": [],
   "source": [
    "#力扣初级"
   ]
  },
  {
   "cell_type": "code",
   "execution_count": 21,
   "id": "26877e3d",
   "metadata": {
    "ExecuteTime": {
     "end_time": "2023-10-23T02:42:13.916961Z",
     "start_time": "2023-10-23T02:42:13.913433Z"
    }
   },
   "outputs": [
    {
     "data": {
      "text/plain": [
       "(1, None)"
      ]
     },
     "execution_count": 21,
     "metadata": {},
     "output_type": "execute_result"
    }
   ],
   "source": [
    "# a['a'],a['d']\n",
    "a.get('a'),a.get('d')"
   ]
  },
  {
   "cell_type": "code",
   "execution_count": 33,
   "id": "64ed6bc6",
   "metadata": {
    "ExecuteTime": {
     "end_time": "2023-10-23T02:45:03.245313Z",
     "start_time": "2023-10-23T02:45:03.242025Z"
    }
   },
   "outputs": [
    {
     "data": {
      "text/plain": [
       "999"
      ]
     },
     "execution_count": 33,
     "metadata": {},
     "output_type": "execute_result"
    }
   ],
   "source": [
    "a.get('d',999)"
   ]
  },
  {
   "cell_type": "code",
   "execution_count": 36,
   "id": "eb9d13d4",
   "metadata": {
    "ExecuteTime": {
     "end_time": "2023-10-23T02:45:23.293471Z",
     "start_time": "2023-10-23T02:45:23.289445Z"
    }
   },
   "outputs": [
    {
     "data": {
      "text/plain": [
       "3"
      ]
     },
     "execution_count": 36,
     "metadata": {},
     "output_type": "execute_result"
    }
   ],
   "source": [
    "aa = a.copy()\n",
    "aa.pop('c')"
   ]
  },
  {
   "cell_type": "code",
   "execution_count": 37,
   "id": "c877a3a8",
   "metadata": {
    "ExecuteTime": {
     "end_time": "2023-10-23T02:45:25.086155Z",
     "start_time": "2023-10-23T02:45:25.083716Z"
    }
   },
   "outputs": [],
   "source": [
    "k = 'd'\n",
    "if k in aa.keys():\n",
    "    aa.pop(k)"
   ]
  },
  {
   "cell_type": "code",
   "execution_count": 40,
   "id": "a52c7fc9",
   "metadata": {
    "ExecuteTime": {
     "end_time": "2023-10-23T02:45:32.857776Z",
     "start_time": "2023-10-23T02:45:32.855701Z"
    }
   },
   "outputs": [],
   "source": [
    "s = a.popitem()"
   ]
  },
  {
   "cell_type": "code",
   "execution_count": 41,
   "id": "57cacad0",
   "metadata": {
    "ExecuteTime": {
     "end_time": "2023-10-23T02:45:34.023622Z",
     "start_time": "2023-10-23T02:45:34.019658Z"
    }
   },
   "outputs": [
    {
     "data": {
      "text/plain": [
       "('b', 2)"
      ]
     },
     "execution_count": 41,
     "metadata": {},
     "output_type": "execute_result"
    }
   ],
   "source": [
    "s[0],s[1]"
   ]
  },
  {
   "cell_type": "code",
   "execution_count": 42,
   "id": "1d8d636f",
   "metadata": {
    "ExecuteTime": {
     "end_time": "2023-10-23T02:45:46.286829Z",
     "start_time": "2023-10-23T02:45:46.284436Z"
    }
   },
   "outputs": [],
   "source": [
    "aa.clear()  # 清空"
   ]
  },
  {
   "cell_type": "code",
   "execution_count": 43,
   "id": "f58e41c0",
   "metadata": {
    "ExecuteTime": {
     "end_time": "2023-10-23T02:45:54.304820Z",
     "start_time": "2023-10-23T02:45:54.302101Z"
    }
   },
   "outputs": [],
   "source": [
    "del aa  # 不存在了"
   ]
  },
  {
   "cell_type": "code",
   "execution_count": 45,
   "id": "70affab3",
   "metadata": {
    "ExecuteTime": {
     "end_time": "2023-10-23T02:51:43.608197Z",
     "start_time": "2023-10-23T02:51:43.604766Z"
    }
   },
   "outputs": [
    {
     "data": {
      "text/plain": [
       "({'a': 1, 'b': 2, 'c': 3}, {'b': 2, 'c': 3})"
      ]
     },
     "execution_count": 45,
     "metadata": {},
     "output_type": "execute_result"
    }
   ],
   "source": [
    "### 合并\n",
    "a,b = dict(a=1),dict(b=2,c=3)\n",
    "a.update(b)\n",
    "a,b"
   ]
  },
  {
   "cell_type": "code",
   "execution_count": 48,
   "id": "3b24f1f2",
   "metadata": {
    "ExecuteTime": {
     "end_time": "2023-10-23T02:52:03.217955Z",
     "start_time": "2023-10-23T02:52:03.214443Z"
    }
   },
   "outputs": [
    {
     "data": {
      "text/plain": [
       "({'a': 1, 'b': 2, 'c': 3}, {'a': 1}, {'b': 2, 'c': 3})"
      ]
     },
     "execution_count": 48,
     "metadata": {},
     "output_type": "execute_result"
    }
   ],
   "source": [
    "a,b = dict(a=1),dict(b=2,c=3)\n",
    "{**a,**b},a,b# 两层展开"
   ]
  },
  {
   "cell_type": "code",
   "execution_count": 49,
   "id": "8ddc105b",
   "metadata": {
    "ExecuteTime": {
     "end_time": "2023-10-23T02:52:42.789810Z",
     "start_time": "2023-10-23T02:52:42.786466Z"
    }
   },
   "outputs": [
    {
     "data": {
      "text/plain": [
       "({'a', 'b', 'c'}, {'a': 1}, {'b': 2, 'c': 3})"
      ]
     },
     "execution_count": 49,
     "metadata": {},
     "output_type": "execute_result"
    }
   ],
   "source": [
    "{*a,*b},a,b# 一层展开"
   ]
  },
  {
   "cell_type": "code",
   "execution_count": 51,
   "id": "96b29f65",
   "metadata": {
    "ExecuteTime": {
     "end_time": "2023-10-23T02:55:32.171761Z",
     "start_time": "2023-10-23T02:55:32.168094Z"
    }
   },
   "outputs": [
    {
     "data": {
      "text/plain": [
       "[1, 2, 3]"
      ]
     },
     "execution_count": 51,
     "metadata": {},
     "output_type": "execute_result"
    }
   ],
   "source": [
    "a,b=[1],[2,3]\n",
    "{*a,*b}\n",
    "[*a,*b]"
   ]
  },
  {
   "cell_type": "code",
   "execution_count": 54,
   "id": "03201fda",
   "metadata": {
    "ExecuteTime": {
     "end_time": "2023-10-23T02:56:29.716406Z",
     "start_time": "2023-10-23T02:56:29.712680Z"
    }
   },
   "outputs": [
    {
     "data": {
      "text/plain": [
       "(1, 2, 3)"
      ]
     },
     "execution_count": 54,
     "metadata": {},
     "output_type": "execute_result"
    }
   ],
   "source": [
    "a,b = {1},{2,3}\n",
    "[*a,*b]\n",
    "[*a,*b]\n",
    "(*a,*b)"
   ]
  },
  {
   "cell_type": "markdown",
   "id": "2e46e874",
   "metadata": {
    "ExecuteTime": {
     "end_time": "2023-10-23T02:57:14.592135Z",
     "start_time": "2023-10-23T02:57:14.588474Z"
    }
   },
   "source": [
    "# 遍历"
   ]
  },
  {
   "cell_type": "code",
   "execution_count": 57,
   "id": "596aab43",
   "metadata": {
    "ExecuteTime": {
     "end_time": "2023-10-23T02:59:49.117467Z",
     "start_time": "2023-10-23T02:59:49.114690Z"
    }
   },
   "outputs": [
    {
     "name": "stdout",
     "output_type": "stream",
     "text": [
      "('c', 3)\n",
      "('b', 2)\n",
      "('a', 1)\n"
     ]
    }
   ],
   "source": [
    "a = dict(a=1, b=2, c=3)\n",
    "dc = a.copy()\n",
    "while dc:\n",
    "    print(dc.popitem())"
   ]
  },
  {
   "cell_type": "code",
   "execution_count": 59,
   "id": "49cd03f9",
   "metadata": {
    "ExecuteTime": {
     "end_time": "2023-10-23T03:01:18.773622Z",
     "start_time": "2023-10-23T03:01:18.765331Z"
    }
   },
   "outputs": [
    {
     "name": "stdout",
     "output_type": "stream",
     "text": [
      "a,b,c,"
     ]
    }
   ],
   "source": [
    "for x in a : print(x,end=',')"
   ]
  },
  {
   "cell_type": "code",
   "execution_count": 58,
   "id": "dc929c3e",
   "metadata": {
    "ExecuteTime": {
     "end_time": "2023-10-23T03:00:36.959682Z",
     "start_time": "2023-10-23T03:00:36.948242Z"
    }
   },
   "outputs": [
    {
     "name": "stdout",
     "output_type": "stream",
     "text": [
      "a 1,b 2,c 3,"
     ]
    }
   ],
   "source": [
    "for x in a : print(x,a[x],end=\",\")"
   ]
  },
  {
   "cell_type": "code",
   "execution_count": 60,
   "id": "15db1f9f",
   "metadata": {
    "ExecuteTime": {
     "end_time": "2023-10-23T03:01:54.550339Z",
     "start_time": "2023-10-23T03:01:54.540386Z"
    }
   },
   "outputs": [
    {
     "name": "stdout",
     "output_type": "stream",
     "text": [
      "a : 1,b : 2,c : 3,"
     ]
    }
   ],
   "source": [
    "for k,v in a.items() : print(k,':',v,end=',')"
   ]
  },
  {
   "cell_type": "code",
   "execution_count": 65,
   "id": "e2506d4a",
   "metadata": {
    "ExecuteTime": {
     "end_time": "2023-10-23T03:04:48.289921Z",
     "start_time": "2023-10-23T03:04:48.276405Z"
    }
   },
   "outputs": [
    {
     "data": {
      "text/plain": [
       "(dict_items([('a', 1), ('b', 2), ('c', 3)]),\n",
       " dict_keys(['a', 'b', 'c']),\n",
       " dict_values([1, 2, 3]))"
      ]
     },
     "execution_count": 65,
     "metadata": {},
     "output_type": "execute_result"
    }
   ],
   "source": [
    "a.items(),a.keys(),a.values()"
   ]
  },
  {
   "cell_type": "markdown",
   "id": "4aeac5b9",
   "metadata": {},
   "source": [
    "# 排序"
   ]
  },
  {
   "cell_type": "code",
   "execution_count": 72,
   "id": "78bb3d8e",
   "metadata": {
    "ExecuteTime": {
     "end_time": "2023-10-23T03:12:21.588367Z",
     "start_time": "2023-10-23T03:12:21.571466Z"
    }
   },
   "outputs": [
    {
     "data": {
      "text/plain": [
       "{'q': 5,\n",
       " 'w': 9,\n",
       " 'e': 2,\n",
       " 'r': 1,\n",
       " 't': 4,\n",
       " 'y': 6,\n",
       " 'u': 7,\n",
       " 'i': 3,\n",
       " 'o': 8,\n",
       " 'p': 0}"
      ]
     },
     "execution_count": 72,
     "metadata": {},
     "output_type": "execute_result"
    }
   ],
   "source": [
    "# 制造随机字典\n",
    "import random\n",
    "k = list('qwertyuiop')\n",
    "v = list(range(len(k)))\n",
    "random.shuffle(v)# 摇一下\n",
    "dc=dict(zip(k,v))\n",
    "dc"
   ]
  },
  {
   "cell_type": "code",
   "execution_count": 73,
   "id": "a2c3018c",
   "metadata": {
    "ExecuteTime": {
     "end_time": "2023-10-23T03:13:19.043772Z",
     "start_time": "2023-10-23T03:13:19.033243Z"
    }
   },
   "outputs": [
    {
     "data": {
      "text/plain": [
       "['e', 'i', 'o', 'p', 'q', 'r', 't', 'u', 'w', 'y']"
      ]
     },
     "execution_count": 73,
     "metadata": {},
     "output_type": "execute_result"
    }
   ],
   "source": [
    "sorted(dc)"
   ]
  },
  {
   "cell_type": "code",
   "execution_count": 74,
   "id": "58847bbf",
   "metadata": {
    "ExecuteTime": {
     "end_time": "2023-10-23T03:15:09.517076Z",
     "start_time": "2023-10-23T03:15:09.506058Z"
    }
   },
   "outputs": [
    {
     "name": "stdout",
     "output_type": "stream",
     "text": [
      "e : 2,i : 3,o : 8,p : 0,q : 5,r : 1,t : 4,u : 7,w : 9,y : 6,"
     ]
    }
   ],
   "source": [
    "for x in sorted(dc):\n",
    "    print(x,':',dc[x],end=',')"
   ]
  },
  {
   "cell_type": "code",
   "execution_count": 75,
   "id": "7b9d8b69",
   "metadata": {
    "ExecuteTime": {
     "end_time": "2023-10-23T03:15:52.040669Z",
     "start_time": "2023-10-23T03:15:52.031184Z"
    }
   },
   "outputs": [
    {
     "name": "stdout",
     "output_type": "stream",
     "text": [
      "y : 6,w : 9,u : 7,t : 4,r : 1,q : 5,p : 0,o : 8,i : 3,e : 2,"
     ]
    }
   ],
   "source": [
    "for x in sorted(dc)[::-1]:\n",
    "    print(x,':',dc[x],end=',')"
   ]
  },
  {
   "cell_type": "code",
   "execution_count": 76,
   "id": "ab1eef96",
   "metadata": {
    "ExecuteTime": {
     "end_time": "2023-10-23T03:16:39.575784Z",
     "start_time": "2023-10-23T03:16:39.566252Z"
    }
   },
   "outputs": [
    {
     "name": "stdout",
     "output_type": "stream",
     "text": [
      "y : 6,w : 9,u : 7,t : 4,r : 1,q : 5,p : 0,o : 8,i : 3,e : 2,"
     ]
    }
   ],
   "source": [
    "for x in sorted(dc,reverse=True):\n",
    "    print(x,':',dc[x],end=',')"
   ]
  },
  {
   "cell_type": "code",
   "execution_count": 77,
   "id": "e9f152a4",
   "metadata": {
    "ExecuteTime": {
     "end_time": "2023-10-23T03:31:22.615424Z",
     "start_time": "2023-10-23T03:31:22.607749Z"
    }
   },
   "outputs": [],
   "source": [
    "# 异步 并发 元类 改造python 参加开源项目 pandas django fastapi"
   ]
  },
  {
   "cell_type": "code",
   "execution_count": 79,
   "id": "047b54c0",
   "metadata": {
    "ExecuteTime": {
     "end_time": "2023-10-23T03:32:21.903506Z",
     "start_time": "2023-10-23T03:32:21.891487Z"
    }
   },
   "outputs": [
    {
     "name": "stdout",
     "output_type": "stream",
     "text": [
      "p : 0,r : 1,e : 2,i : 3,t : 4,q : 5,y : 6,u : 7,o : 8,w : 9,"
     ]
    }
   ],
   "source": [
    "def ff(x):return dc[x]\n",
    "for x in sorted(dc,key = ff):\n",
    "    print(x,':',dc[x],end=',')"
   ]
  },
  {
   "cell_type": "code",
   "execution_count": 80,
   "id": "a85d8f91",
   "metadata": {
    "ExecuteTime": {
     "end_time": "2023-10-23T03:33:22.637085Z",
     "start_time": "2023-10-23T03:33:22.627082Z"
    }
   },
   "outputs": [
    {
     "name": "stdout",
     "output_type": "stream",
     "text": [
      "p : 0,r : 1,e : 2,i : 3,t : 4,q : 5,y : 6,u : 7,o : 8,w : 9,"
     ]
    }
   ],
   "source": [
    "for x in sorted(dc,key = lambda x:dc[x]):\n",
    "    print(x,':',dc[x],end=',')"
   ]
  },
  {
   "cell_type": "markdown",
   "id": "166ee57b",
   "metadata": {},
   "source": [
    "# 对字典计数"
   ]
  },
  {
   "cell_type": "code",
   "execution_count": 87,
   "id": "a3222155",
   "metadata": {
    "ExecuteTime": {
     "end_time": "2023-10-23T03:38:39.568424Z",
     "start_time": "2023-10-23T03:38:39.554245Z"
    }
   },
   "outputs": [
    {
     "data": {
      "text/plain": [
       "1"
      ]
     },
     "execution_count": 87,
     "metadata": {},
     "output_type": "execute_result"
    }
   ],
   "source": [
    "random.randint(1,5)"
   ]
  },
  {
   "cell_type": "code",
   "execution_count": 102,
   "id": "c6ada868",
   "metadata": {
    "ExecuteTime": {
     "end_time": "2023-10-23T03:44:37.209321Z",
     "start_time": "2023-10-23T03:44:37.194773Z"
    }
   },
   "outputs": [
    {
     "data": {
      "text/plain": [
       "['cat',\n",
       " 'cat',\n",
       " 'cat',\n",
       " 'cat',\n",
       " 'pig',\n",
       " 'dog',\n",
       " 'pig',\n",
       " 'cat',\n",
       " 'pig',\n",
       " 'pig',\n",
       " 'cat',\n",
       " 'dog',\n",
       " 'cat',\n",
       " 'cat',\n",
       " 'cat',\n",
       " 'dog']"
      ]
     },
     "execution_count": 102,
     "metadata": {},
     "output_type": "execute_result"
    }
   ],
   "source": [
    "_='cat '*random.randint(1,10)+'dog '*random.randint(1,5)+'pig '*random.randint(1,5)\n",
    "data=_.split()\n",
    "random.shuffle(data)\n",
    "data"
   ]
  },
  {
   "cell_type": "code",
   "execution_count": 103,
   "id": "a394b235",
   "metadata": {
    "ExecuteTime": {
     "end_time": "2023-10-23T03:45:41.351066Z",
     "start_time": "2023-10-23T03:45:41.336451Z"
    }
   },
   "outputs": [
    {
     "data": {
      "text/plain": [
       "{'cat': 9, 'pig': 4, 'dog': 3}"
      ]
     },
     "execution_count": 103,
     "metadata": {},
     "output_type": "execute_result"
    }
   ],
   "source": [
    "mc={}\n",
    "for x in data:\n",
    "    if x not in mc.keys():\n",
    "        mc[x]=0\n",
    "    mc[x]+=1\n",
    "mc"
   ]
  },
  {
   "cell_type": "code",
   "execution_count": 104,
   "id": "2ce14de8",
   "metadata": {
    "ExecuteTime": {
     "end_time": "2023-10-23T03:47:11.668215Z",
     "start_time": "2023-10-23T03:47:11.653882Z"
    }
   },
   "outputs": [
    {
     "data": {
      "text/plain": [
       "{'cat': 9, 'pig': 4, 'dog': 3}"
      ]
     },
     "execution_count": 104,
     "metadata": {},
     "output_type": "execute_result"
    }
   ],
   "source": [
    "mc={}\n",
    "for x in data:\n",
    "    mc[x]=mc.get(x,0)+1  # better\n",
    "mc"
   ]
  },
  {
   "cell_type": "code",
   "execution_count": 105,
   "id": "39baf3ed",
   "metadata": {
    "ExecuteTime": {
     "end_time": "2023-10-23T03:48:09.223359Z",
     "start_time": "2023-10-23T03:48:09.211834Z"
    }
   },
   "outputs": [
    {
     "data": {
      "text/plain": [
       "{'cat': 9, 'pig': 4, 'dog': 3}"
      ]
     },
     "execution_count": 105,
     "metadata": {},
     "output_type": "execute_result"
    }
   ],
   "source": [
    "mc={}\n",
    "for x in data:\n",
    "    mc[x]=mc.setdefault(x,0)+1  # 基本一样\n",
    "mc"
   ]
  },
  {
   "cell_type": "code",
   "execution_count": 107,
   "id": "8d4af3b6",
   "metadata": {
    "ExecuteTime": {
     "end_time": "2023-10-23T03:49:41.731380Z",
     "start_time": "2023-10-23T03:49:41.720039Z"
    }
   },
   "outputs": [
    {
     "name": "stdout",
     "output_type": "stream",
     "text": [
      "Help on built-in function setdefault:\n",
      "\n",
      "setdefault(key, default=None, /) method of builtins.dict instance\n",
      "    Insert key with a value of default if key is not in the dictionary.\n",
      "    \n",
      "    Return the value for key if key is in the dictionary, else default.\n",
      "\n",
      "Help on built-in function get:\n",
      "\n",
      "get(key, default=None, /) method of builtins.dict instance\n",
      "    Return the value for key if key is in the dictionary, else default.\n",
      "\n"
     ]
    }
   ],
   "source": [
    "help({}.setdefault)  # 区别\n",
    "help({}.get)"
   ]
  },
  {
   "cell_type": "code",
   "execution_count": 108,
   "id": "120c4df3",
   "metadata": {
    "ExecuteTime": {
     "end_time": "2023-10-23T03:55:42.438443Z",
     "start_time": "2023-10-23T03:55:42.428236Z"
    }
   },
   "outputs": [
    {
     "data": {
      "text/plain": [
       "(999, {'cat': 9, 'pig': 4, 'dog': 3})"
      ]
     },
     "execution_count": 108,
     "metadata": {},
     "output_type": "execute_result"
    }
   ],
   "source": [
    "mc.get('z',999),mc"
   ]
  },
  {
   "cell_type": "code",
   "execution_count": 109,
   "id": "d56721be",
   "metadata": {
    "ExecuteTime": {
     "end_time": "2023-10-23T03:55:55.155954Z",
     "start_time": "2023-10-23T03:55:55.145161Z"
    }
   },
   "outputs": [
    {
     "data": {
      "text/plain": [
       "(999, {'cat': 9, 'pig': 4, 'dog': 3, 'z': 999})"
      ]
     },
     "execution_count": 109,
     "metadata": {},
     "output_type": "execute_result"
    }
   ],
   "source": [
    "mc.setdefault('z',999),mc"
   ]
  },
  {
   "cell_type": "code",
   "execution_count": null,
   "id": "3cf56da6",
   "metadata": {},
   "outputs": [],
   "source": [
    "#漏了一行"
   ]
  },
  {
   "cell_type": "code",
   "execution_count": 110,
   "id": "f963e679",
   "metadata": {
    "ExecuteTime": {
     "end_time": "2023-10-23T04:03:41.223776Z",
     "start_time": "2023-10-23T04:03:41.170907Z"
    }
   },
   "outputs": [
    {
     "ename": "NameError",
     "evalue": "name 'defaultdict' is not defined",
     "output_type": "error",
     "traceback": [
      "\u001b[1;31m---------------------------------------------------------------------------\u001b[0m",
      "\u001b[1;31mNameError\u001b[0m                                 Traceback (most recent call last)",
      "Cell \u001b[1;32mIn[110], line 1\u001b[0m\n\u001b[1;32m----> 1\u001b[0m mc \u001b[38;5;241m=\u001b[39m defaultdict(\u001b[38;5;28mint\u001b[39m)\n\u001b[0;32m      2\u001b[0m \u001b[38;5;28;01mfor\u001b[39;00m x \u001b[38;5;129;01min\u001b[39;00m data:\n\u001b[0;32m      3\u001b[0m     mc[x]\u001b[38;5;241m+\u001b[39m\u001b[38;5;241m=\u001b[39m\u001b[38;5;241m1\u001b[39m\n",
      "\u001b[1;31mNameError\u001b[0m: name 'defaultdict' is not defined"
     ]
    }
   ],
   "source": [
    "mc = defaultdict(int)\n",
    "for x in data:\n",
    "    mc[x]+=1\n",
    "mc"
   ]
  },
  {
   "cell_type": "code",
   "execution_count": 111,
   "id": "8d312cc9",
   "metadata": {
    "ExecuteTime": {
     "end_time": "2023-10-23T04:04:45.767988Z",
     "start_time": "2023-10-23T04:04:45.717024Z"
    }
   },
   "outputs": [
    {
     "ename": "NameError",
     "evalue": "name 'defaultdict' is not defined",
     "output_type": "error",
     "traceback": [
      "\u001b[1;31m---------------------------------------------------------------------------\u001b[0m",
      "\u001b[1;31mNameError\u001b[0m                                 Traceback (most recent call last)",
      "Cell \u001b[1;32mIn[111], line 1\u001b[0m\n\u001b[1;32m----> 1\u001b[0m mc \u001b[38;5;241m=\u001b[39m defaultdict(\u001b[38;5;28mlist\u001b[39m)\n\u001b[0;32m      2\u001b[0m \u001b[38;5;28;01mfor\u001b[39;00m idx,x \u001b[38;5;129;01min\u001b[39;00m \u001b[38;5;28menumerate\u001b[39m(data):mc[x]\u001b[38;5;241m.\u001b[39mappend(idx)\n\u001b[0;32m      3\u001b[0m mc\n",
      "\u001b[1;31mNameError\u001b[0m: name 'defaultdict' is not defined"
     ]
    }
   ],
   "source": [
    "mc = defaultdict(list)\n",
    "for idx,x in enumerate(data):mc[x].append(idx)\n",
    "mc"
   ]
  },
  {
   "cell_type": "code",
   "execution_count": 112,
   "id": "cda6dcb3",
   "metadata": {
    "ExecuteTime": {
     "end_time": "2023-10-23T04:05:33.174735Z",
     "start_time": "2023-10-23T04:05:33.122571Z"
    }
   },
   "outputs": [
    {
     "ename": "AttributeError",
     "evalue": "'dict' object has no attribute 'setdafault'",
     "output_type": "error",
     "traceback": [
      "\u001b[1;31m---------------------------------------------------------------------------\u001b[0m",
      "\u001b[1;31mAttributeError\u001b[0m                            Traceback (most recent call last)",
      "Cell \u001b[1;32mIn[112], line 2\u001b[0m\n\u001b[0;32m      1\u001b[0m mc\u001b[38;5;241m=\u001b[39m{}\n\u001b[1;32m----> 2\u001b[0m \u001b[38;5;28;01mfor\u001b[39;00m idx,x \u001b[38;5;129;01min\u001b[39;00m \u001b[38;5;28menumerate\u001b[39m(data):mc\u001b[38;5;241m.\u001b[39msetdafault(x,[])\u001b[38;5;241m.\u001b[39mappend(idx)\n\u001b[0;32m      3\u001b[0m mc\n",
      "\u001b[1;31mAttributeError\u001b[0m: 'dict' object has no attribute 'setdafault'"
     ]
    }
   ],
   "source": [
    "mc={}\n",
    "for idx,x in enumerate(data):mc.setdafault(x,[]).append(idx)\n",
    "mc"
   ]
  },
  {
   "cell_type": "code",
   "execution_count": 115,
   "id": "38c46718",
   "metadata": {
    "ExecuteTime": {
     "end_time": "2023-10-23T04:06:13.227437Z",
     "start_time": "2023-10-23T04:06:13.214434Z"
    }
   },
   "outputs": [
    {
     "data": {
      "text/plain": [
       "{'a': {'b': 88}}"
      ]
     },
     "execution_count": 115,
     "metadata": {},
     "output_type": "execute_result"
    }
   ],
   "source": [
    "data = {}\n",
    "data.setdefault('a',{})['b']=88\n",
    "data"
   ]
  },
  {
   "cell_type": "code",
   "execution_count": 116,
   "id": "3beb5674",
   "metadata": {
    "ExecuteTime": {
     "end_time": "2023-10-23T04:07:52.558023Z",
     "start_time": "2023-10-23T04:07:52.509409Z"
    }
   },
   "outputs": [
    {
     "ename": "NameError",
     "evalue": "name 'defaultdict' is not defined",
     "output_type": "error",
     "traceback": [
      "\u001b[1;31m---------------------------------------------------------------------------\u001b[0m",
      "\u001b[1;31mNameError\u001b[0m                                 Traceback (most recent call last)",
      "Cell \u001b[1;32mIn[116], line 1\u001b[0m\n\u001b[1;32m----> 1\u001b[0m data \u001b[38;5;241m=\u001b[39m defaultdict(\u001b[38;5;28mdict\u001b[39m)\n\u001b[0;32m      2\u001b[0m data[\u001b[38;5;124m'\u001b[39m\u001b[38;5;124ma\u001b[39m\u001b[38;5;124m'\u001b[39m][\u001b[38;5;124m'\u001b[39m\u001b[38;5;124mb\u001b[39m\u001b[38;5;124m'\u001b[39m]\u001b[38;5;241m=\u001b[39m\u001b[38;5;241m88\u001b[39m\n\u001b[0;32m      3\u001b[0m data\n",
      "\u001b[1;31mNameError\u001b[0m: name 'defaultdict' is not defined"
     ]
    }
   ],
   "source": [
    "\n",
    "data = defaultdict(dict)\n",
    "data['a']['b']=88\n",
    "data"
   ]
  },
  {
   "cell_type": "code",
   "execution_count": 124,
   "id": "09e59e2b",
   "metadata": {
    "ExecuteTime": {
     "end_time": "2023-10-23T04:09:55.744757Z",
     "start_time": "2023-10-23T04:09:55.734755Z"
    }
   },
   "outputs": [
    {
     "name": "stdout",
     "output_type": "stream",
     "text": [
      "{\n",
      "  \"a\": {\n",
      "    \"b\": 88\n",
      "  }\n",
      "}\n",
      "{\n",
      "  \"a\": 1,\n",
      "  \"b\": 2,\n",
      "  \"c\": 3\n",
      "}\n"
     ]
    }
   ],
   "source": [
    "import json\n",
    "print(json.dumps(data,indent=2))\n",
    "print(json.dumps(dict(a=1,b=2,c=3),indent=2))\n"
   ]
  },
  {
   "cell_type": "code",
   "execution_count": null,
   "id": "372185d6",
   "metadata": {},
   "outputs": [],
   "source": []
  }
 ],
 "metadata": {
  "kernelspec": {
   "display_name": "Python 3 (ipykernel)",
   "language": "python",
   "name": "python3"
  },
  "language_info": {
   "codemirror_mode": {
    "name": "ipython",
    "version": 3
   },
   "file_extension": ".py",
   "mimetype": "text/x-python",
   "name": "python",
   "nbconvert_exporter": "python",
   "pygments_lexer": "ipython3",
   "version": "3.11.4"
  },
  "toc": {
   "base_numbering": 1,
   "nav_menu": {},
   "number_sections": true,
   "sideBar": true,
   "skip_h1_title": false,
   "title_cell": "Table of Contents",
   "title_sidebar": "Contents",
   "toc_cell": false,
   "toc_position": {
    "height": "calc(100% - 180px)",
    "left": "10px",
    "top": "150px",
    "width": "265.492px"
   },
   "toc_section_display": true,
   "toc_window_display": true
  }
 },
 "nbformat": 4,
 "nbformat_minor": 5
}
