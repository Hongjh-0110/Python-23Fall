{
 "cells": [
  {
   "cell_type": "markdown",
   "id": "72957180",
   "metadata": {},
   "source": [
    "# 类型\n",
    "数值： int float boolean\n",
    "顺序： str list tuple\n",
    "无序： dict set\n",
    "\n",
    "可变： list dict set\n",
    "不可变： str tuple\n"
   ]
  },
  {
   "cell_type": "markdown",
   "id": "c554ce8f",
   "metadata": {},
   "source": [
    "## 数值"
   ]
  },
  {
   "cell_type": "code",
   "execution_count": 1,
   "id": "fb8659cc",
   "metadata": {
    "ExecuteTime": {
     "end_time": "2023-09-20T02:06:40.718771Z",
     "start_time": "2023-09-20T02:06:40.696875Z"
    }
   },
   "outputs": [
    {
     "data": {
      "text/plain": [
       "16"
      ]
     },
     "execution_count": 1,
     "metadata": {},
     "output_type": "execute_result"
    }
   ],
   "source": [
    "a=2\n",
    "a+=1; a-=1; a*=2; a**=2\n",
    "a"
   ]
  },
  {
   "cell_type": "code",
   "execution_count": 2,
   "id": "4e6050d9",
   "metadata": {
    "ExecuteTime": {
     "end_time": "2023-09-20T02:07:48.763050Z",
     "start_time": "2023-09-20T02:07:48.750052Z"
    }
   },
   "outputs": [
    {
     "data": {
      "text/plain": [
       "(4.25, 4, 1)"
      ]
     },
     "execution_count": 2,
     "metadata": {},
     "output_type": "execute_result"
    }
   ],
   "source": [
    "17/4,17//4,17%4"
   ]
  },
  {
   "cell_type": "code",
   "execution_count": 8,
   "id": "3f199bea",
   "metadata": {
    "ExecuteTime": {
     "end_time": "2023-09-20T02:10:37.342827Z",
     "start_time": "2023-09-20T02:10:37.326939Z"
    }
   },
   "outputs": [
    {
     "name": "stdout",
     "output_type": "stream",
     "text": [
      "<class 'int'> 7\n",
      "<class 'str'> 7\n",
      "<class 'float'> 7.0\n"
     ]
    },
    {
     "data": {
      "text/plain": [
       "(False, True, False)"
      ]
     },
     "execution_count": 8,
     "metadata": {},
     "output_type": "execute_result"
    }
   ],
   "source": [
    "k=7\n",
    "print(type(k),k)\n",
    "k='7'\n",
    "print(type(k),k)\n",
    "k=float('7')\n",
    "print(type(k),k)\n",
    "\n",
    "isinstance(k,int),isinstance(k,float),isinstance(k,str)"
   ]
  },
  {
   "cell_type": "code",
   "execution_count": 5,
   "id": "8be42ec5",
   "metadata": {
    "ExecuteTime": {
     "end_time": "2023-09-25T02:33:15.334867Z",
     "start_time": "2023-09-25T02:33:15.331392Z"
    }
   },
   "outputs": [
    {
     "name": "stdout",
     "output_type": "stream",
     "text": [
      "False\n",
      "True\n"
     ]
    }
   ],
   "source": [
    "# 浮点数不能做逻辑相等的判断\n",
    "print(0.1+0.2==0.3)\n",
    "print(abs(0.1+0.2-0.3)<=1e5)"
   ]
  },
  {
   "cell_type": "markdown",
   "id": "f110650f",
   "metadata": {
    "ExecuteTime": {
     "end_time": "2023-09-25T02:34:01.600630Z",
     "start_time": "2023-09-25T02:34:01.598048Z"
    }
   },
   "source": [
    "## 列表\n",
    "list(...)"
   ]
  },
  {
   "cell_type": "code",
   "execution_count": 8,
   "id": "1dc0c128",
   "metadata": {
    "ExecuteTime": {
     "end_time": "2023-09-25T02:35:08.267772Z",
     "start_time": "2023-09-25T02:35:08.258586Z"
    }
   },
   "outputs": [
    {
     "name": "stdout",
     "output_type": "stream",
     "text": [
      "Help on class list in module builtins:\n",
      "\n",
      "class list(object)\n",
      " |  list(iterable=(), /)\n",
      " |  \n",
      " |  Built-in mutable sequence.\n",
      " |  \n",
      " |  If no argument is given, the constructor creates a new empty list.\n",
      " |  The argument must be an iterable if specified.\n",
      " |  \n",
      " |  Methods defined here:\n",
      " |  \n",
      " |  __add__(self, value, /)\n",
      " |      Return self+value.\n",
      " |  \n",
      " |  __contains__(self, key, /)\n",
      " |      Return key in self.\n",
      " |  \n",
      " |  __delitem__(self, key, /)\n",
      " |      Delete self[key].\n",
      " |  \n",
      " |  __eq__(self, value, /)\n",
      " |      Return self==value.\n",
      " |  \n",
      " |  __ge__(self, value, /)\n",
      " |      Return self>=value.\n",
      " |  \n",
      " |  __getattribute__(self, name, /)\n",
      " |      Return getattr(self, name).\n",
      " |  \n",
      " |  __getitem__(...)\n",
      " |      x.__getitem__(y) <==> x[y]\n",
      " |  \n",
      " |  __gt__(self, value, /)\n",
      " |      Return self>value.\n",
      " |  \n",
      " |  __iadd__(self, value, /)\n",
      " |      Implement self+=value.\n",
      " |  \n",
      " |  __imul__(self, value, /)\n",
      " |      Implement self*=value.\n",
      " |  \n",
      " |  __init__(self, /, *args, **kwargs)\n",
      " |      Initialize self.  See help(type(self)) for accurate signature.\n",
      " |  \n",
      " |  __iter__(self, /)\n",
      " |      Implement iter(self).\n",
      " |  \n",
      " |  __le__(self, value, /)\n",
      " |      Return self<=value.\n",
      " |  \n",
      " |  __len__(self, /)\n",
      " |      Return len(self).\n",
      " |  \n",
      " |  __lt__(self, value, /)\n",
      " |      Return self<value.\n",
      " |  \n",
      " |  __mul__(self, value, /)\n",
      " |      Return self*value.\n",
      " |  \n",
      " |  __ne__(self, value, /)\n",
      " |      Return self!=value.\n",
      " |  \n",
      " |  __repr__(self, /)\n",
      " |      Return repr(self).\n",
      " |  \n",
      " |  __reversed__(self, /)\n",
      " |      Return a reverse iterator over the list.\n",
      " |  \n",
      " |  __rmul__(self, value, /)\n",
      " |      Return value*self.\n",
      " |  \n",
      " |  __setitem__(self, key, value, /)\n",
      " |      Set self[key] to value.\n",
      " |  \n",
      " |  __sizeof__(self, /)\n",
      " |      Return the size of the list in memory, in bytes.\n",
      " |  \n",
      " |  append(self, object, /)\n",
      " |      Append object to the end of the list.\n",
      " |  \n",
      " |  clear(self, /)\n",
      " |      Remove all items from list.\n",
      " |  \n",
      " |  copy(self, /)\n",
      " |      Return a shallow copy of the list.\n",
      " |  \n",
      " |  count(self, value, /)\n",
      " |      Return number of occurrences of value.\n",
      " |  \n",
      " |  extend(self, iterable, /)\n",
      " |      Extend list by appending elements from the iterable.\n",
      " |  \n",
      " |  index(self, value, start=0, stop=9223372036854775807, /)\n",
      " |      Return first index of value.\n",
      " |      \n",
      " |      Raises ValueError if the value is not present.\n",
      " |  \n",
      " |  insert(self, index, object, /)\n",
      " |      Insert object before index.\n",
      " |  \n",
      " |  pop(self, index=-1, /)\n",
      " |      Remove and return item at index (default last).\n",
      " |      \n",
      " |      Raises IndexError if list is empty or index is out of range.\n",
      " |  \n",
      " |  remove(self, value, /)\n",
      " |      Remove first occurrence of value.\n",
      " |      \n",
      " |      Raises ValueError if the value is not present.\n",
      " |  \n",
      " |  reverse(self, /)\n",
      " |      Reverse *IN PLACE*.\n",
      " |  \n",
      " |  sort(self, /, *, key=None, reverse=False)\n",
      " |      Sort the list in ascending order and return None.\n",
      " |      \n",
      " |      The sort is in-place (i.e. the list itself is modified) and stable (i.e. the\n",
      " |      order of two equal elements is maintained).\n",
      " |      \n",
      " |      If a key function is given, apply it once to each list item and sort them,\n",
      " |      ascending or descending, according to their function values.\n",
      " |      \n",
      " |      The reverse flag can be set to sort in descending order.\n",
      " |  \n",
      " |  ----------------------------------------------------------------------\n",
      " |  Class methods defined here:\n",
      " |  \n",
      " |  __class_getitem__(...) from builtins.type\n",
      " |      See PEP 585\n",
      " |  \n",
      " |  ----------------------------------------------------------------------\n",
      " |  Static methods defined here:\n",
      " |  \n",
      " |  __new__(*args, **kwargs) from builtins.type\n",
      " |      Create and return a new object.  See help(type) for accurate signature.\n",
      " |  \n",
      " |  ----------------------------------------------------------------------\n",
      " |  Data and other attributes defined here:\n",
      " |  \n",
      " |  __hash__ = None\n",
      "\n"
     ]
    }
   ],
   "source": [
    "help(list)\n",
    "# 可变、有顺序的"
   ]
  },
  {
   "cell_type": "code",
   "execution_count": 28,
   "id": "4de735f9",
   "metadata": {
    "ExecuteTime": {
     "end_time": "2023-09-25T02:42:14.958361Z",
     "start_time": "2023-09-25T02:42:14.954375Z"
    }
   },
   "outputs": [
    {
     "name": "stdout",
     "output_type": "stream",
     "text": [
      "[0, 1, 2, 3, 4, 5, 6, 7, 8, 9]\n"
     ]
    },
    {
     "data": {
      "text/plain": [
       "[2, 3, 4, 5, 6, 7, 8, 9]"
      ]
     },
     "execution_count": 28,
     "metadata": {},
     "output_type": "execute_result"
    }
   ],
   "source": [
    "lst=list(range(10))\n",
    "print(lst)\n",
    "list(range(2,10))"
   ]
  },
  {
   "cell_type": "code",
   "execution_count": 35,
   "id": "a0bec82d",
   "metadata": {
    "ExecuteTime": {
     "end_time": "2023-09-25T02:46:18.054945Z",
     "start_time": "2023-09-25T02:46:18.049821Z"
    }
   },
   "outputs": [
    {
     "data": {
      "text/plain": [
       "[7, 8]"
      ]
     },
     "execution_count": 35,
     "metadata": {},
     "output_type": "execute_result"
    }
   ],
   "source": [
    "lst[ 1:3 ];lst[:3];lst[5:];lst[:]\n",
    "lst[-1];lst[:-1]\n",
    "lst[0:len(lst)-1]# 不要用这个\n",
    "lst[-3:]\n",
    "lst[-3:-1]# 前闭后开区间"
   ]
  },
  {
   "cell_type": "markdown",
   "id": "6a610b0d",
   "metadata": {},
   "source": [
    "**假期推荐——django - html**\n",
    "\n",
    "前端\n",
    "内部系统"
   ]
  },
  {
   "cell_type": "markdown",
   "id": "1fafec27",
   "metadata": {},
   "source": [
    "### 基本操作"
   ]
  },
  {
   "cell_type": "code",
   "execution_count": 75,
   "id": "0450912f",
   "metadata": {
    "ExecuteTime": {
     "end_time": "2023-09-25T03:03:59.650103Z",
     "start_time": "2023-09-25T03:03:59.644507Z"
    }
   },
   "outputs": [
    {
     "name": "stdout",
     "output_type": "stream",
     "text": [
      "1234"
     ]
    },
    {
     "data": {
      "text/plain": [
       "(3, [1, 99, 44, 88])"
      ]
     },
     "execution_count": 75,
     "metadata": {},
     "output_type": "execute_result"
    }
   ],
   "source": [
    "\n",
    "xlist=[1,2,3,4]\n",
    "2 in xlist\n",
    "for x in xlist: print(x,end='')\n",
    "xlist[1]=99;xlist# 修改\n",
    "xlist.append(88);xlist# 添加\n",
    "xlist.remove(4);xlist# 删除指定值\n",
    "xlist.insert(2,44);xlist# 插入 没必要就不用 慢\n",
    "xlist.pop(-2),xlist# 弹出 可指定位置"
   ]
  },
  {
   "cell_type": "code",
   "execution_count": 74,
   "id": "29645c86",
   "metadata": {
    "ExecuteTime": {
     "end_time": "2023-09-25T03:03:16.895952Z",
     "start_time": "2023-09-25T03:03:16.892612Z"
    }
   },
   "outputs": [
    {
     "name": "stdout",
     "output_type": "stream",
     "text": [
      "88,44,99,1,"
     ]
    }
   ],
   "source": [
    "while xlist:\n",
    "    print(xlist.pop(), end=',')"
   ]
  },
  {
   "cell_type": "code",
   "execution_count": 78,
   "id": "dcbccea0",
   "metadata": {
    "ExecuteTime": {
     "end_time": "2023-09-25T03:04:12.757708Z",
     "start_time": "2023-09-25T03:04:12.753707Z"
    }
   },
   "outputs": [],
   "source": [
    "if xlist: xlist.pop()\n",
    "try:\n",
    "    xlist.pop()\n",
    "except:\n",
    "    pass"
   ]
  },
  {
   "cell_type": "code",
   "execution_count": 80,
   "id": "3235f656",
   "metadata": {
    "ExecuteTime": {
     "end_time": "2023-09-25T03:04:43.473886Z",
     "start_time": "2023-09-25T03:04:43.470413Z"
    }
   },
   "outputs": [
    {
     "data": {
      "text/plain": [
       "[1, 3, 2]"
      ]
     },
     "execution_count": 80,
     "metadata": {},
     "output_type": "execute_result"
    }
   ],
   "source": [
    "xlist=[1,2,3,2]\n",
    "xlist.pop(xlist.index(2))# index() 是否包含xxx\n",
    "xlist"
   ]
  },
  {
   "cell_type": "code",
   "execution_count": 92,
   "id": "1ee762f5",
   "metadata": {
    "ExecuteTime": {
     "end_time": "2023-09-25T03:10:02.907723Z",
     "start_time": "2023-09-25T03:10:02.902649Z"
    }
   },
   "outputs": [
    {
     "data": {
      "text/plain": [
       "[0, 1, 88, 6, 7, 8, 9]"
      ]
     },
     "execution_count": 92,
     "metadata": {},
     "output_type": "execute_result"
    }
   ],
   "source": [
    "xlist=list(range(10))\n",
    "xlist[2:5]=[88,99]\n",
    "xlist\n",
    "del xlist[3:5]\n",
    "xlist\n",
    "# del xlist;xlist\n",
    "# 释放内存"
   ]
  },
  {
   "cell_type": "markdown",
   "id": "9e7c503e",
   "metadata": {},
   "source": [
    "### 反转"
   ]
  },
  {
   "cell_type": "code",
   "execution_count": 129,
   "id": "a0092a2b",
   "metadata": {
    "ExecuteTime": {
     "end_time": "2023-09-25T03:47:27.889471Z",
     "start_time": "2023-09-25T03:47:27.884970Z"
    }
   },
   "outputs": [
    {
     "data": {
      "text/plain": [
       "[0, 2, 4, 6, 8, 10, 12, 14, 16, 18]"
      ]
     },
     "execution_count": 129,
     "metadata": {},
     "output_type": "execute_result"
    }
   ],
   "source": [
    "\n",
    "xlist= [1,2,3];xlist.reverse();xlist\n",
    "xlist= [1,2,3];ylist=reversed(xlist);xlist,list(ylist)\n",
    "# reversed() 不改变原有的值，返回副本\n",
    "# 浪费空间\n",
    "xlist = [1,2,3]; ylist=xlist[::-1];xlist,ylist\n",
    "xlist= range(20); ylist=xlist[::2];list(ylist)"
   ]
  },
  {
   "cell_type": "markdown",
   "id": "e83390c8",
   "metadata": {},
   "source": [
    "### 排序"
   ]
  },
  {
   "cell_type": "code",
   "execution_count": 105,
   "id": "31af14c4",
   "metadata": {
    "ExecuteTime": {
     "end_time": "2023-09-25T03:27:21.054119Z",
     "start_time": "2023-09-25T03:27:21.050020Z"
    }
   },
   "outputs": [
    {
     "data": {
      "text/plain": [
       "([5, 7, 3], [3, 5, 7])"
      ]
     },
     "execution_count": 105,
     "metadata": {},
     "output_type": "execute_result"
    }
   ],
   "source": [
    "\n",
    "xlist = [5,7,3];xlist.sort();xlist\n",
    "xlist= [5,7,3];ylist= sorted(xlist);xlist,ylist\n",
    "# sorter() 改变原有的值\n",
    "# 浪费时间"
   ]
  },
  {
   "cell_type": "code",
   "execution_count": 109,
   "id": "6b54d4d8",
   "metadata": {
    "ExecuteTime": {
     "end_time": "2023-09-25T03:31:52.507889Z",
     "start_time": "2023-09-25T03:31:52.503143Z"
    }
   },
   "outputs": [
    {
     "data": {
      "text/plain": [
       "[1, 2, 3, 4]"
      ]
     },
     "execution_count": 109,
     "metadata": {},
     "output_type": "execute_result"
    }
   ],
   "source": [
    "a,b = [1,2],[3,4]\n",
    "a+b,a,b\n",
    "a.extend(b);a,b# 相当于指针移到后面添加，快\n",
    "a,b = [1,2],[3,4];a+=b;a# 大量赋值操作，慢"
   ]
  },
  {
   "cell_type": "code",
   "execution_count": 119,
   "id": "fe184fab",
   "metadata": {
    "ExecuteTime": {
     "end_time": "2023-09-25T03:38:00.783433Z",
     "start_time": "2023-09-25T03:38:00.778855Z"
    }
   },
   "outputs": [
    {
     "data": {
      "text/plain": [
       "[99, 99, 99, 99, 99, 99, 99, 99, 99, 99]"
      ]
     },
     "execution_count": 119,
     "metadata": {},
     "output_type": "execute_result"
    }
   ],
   "source": [
    "[1,2,3,2,3].count(2)\n",
    "([1,2,3,2,3]*10).count(2)\n",
    "[1,2,3,2,3].index(2)# index() 是否包含\n",
    "x = [1,2,3,2,3];x.clear();x\n",
    "x = [99]*10;x# 初始化list"
   ]
  },
  {
   "cell_type": "markdown",
   "id": "2590684c",
   "metadata": {},
   "source": [
    "### 复制"
   ]
  },
  {
   "cell_type": "code",
   "execution_count": 19,
   "id": "6598c6bd",
   "metadata": {
    "ExecuteTime": {
     "end_time": "2023-10-09T02:48:02.511320Z",
     "start_time": "2023-10-09T02:48:02.498602Z"
    }
   },
   "outputs": [
    {
     "data": {
      "text/plain": [
       "(2044379286272, 2044379286272, True, True, [1, 99, 3], [1, 99, 3])"
      ]
     },
     "execution_count": 19,
     "metadata": {},
     "output_type": "execute_result"
    }
   ],
   "source": [
    "a= [1,2,3]\n",
    "b=a\n",
    "b[1] = 99\n",
    "a,b\n",
    "id(a),id(b),a==b,a is b,a,b"
   ]
  },
  {
   "cell_type": "code",
   "execution_count": 136,
   "id": "829fe5b0",
   "metadata": {
    "ExecuteTime": {
     "end_time": "2023-09-25T03:52:54.988133Z",
     "start_time": "2023-09-25T03:52:54.983081Z"
    }
   },
   "outputs": [
    {
     "data": {
      "text/plain": [
       "(2084139710272, 2084138580736, False, False, [1, 2, 3], [1, 99, 3])"
      ]
     },
     "execution_count": 136,
     "metadata": {},
     "output_type": "execute_result"
    }
   ],
   "source": [
    "a = [1,2,3]\n",
    "b = a.copy()\n",
    "b[1]=99\n",
    "# a,b\n",
    "id(a),id(b),a==b,a is b,a,b\n",
    "# a == b 比的是值 a is b 比的是地址"
   ]
  },
  {
   "cell_type": "code",
   "execution_count": 133,
   "id": "a22f40fa",
   "metadata": {
    "ExecuteTime": {
     "end_time": "2023-09-25T03:49:32.923907Z",
     "start_time": "2023-09-25T03:49:32.919085Z"
    }
   },
   "outputs": [
    {
     "data": {
      "text/plain": [
       "(2084139049792, 2084138909888, True, False, [1, 2, 3], [1, 2, 3])"
      ]
     },
     "execution_count": 133,
     "metadata": {},
     "output_type": "execute_result"
    }
   ],
   "source": [
    "a = [1,2,3]\n",
    "b = a[:]\n",
    "id(a),id(b),a==b,a is b,a,b"
   ]
  },
  {
   "cell_type": "code",
   "execution_count": 139,
   "id": "6b8b676b",
   "metadata": {
    "ExecuteTime": {
     "end_time": "2023-09-25T03:58:01.548633Z",
     "start_time": "2023-09-25T03:58:01.543354Z"
    }
   },
   "outputs": [
    {
     "data": {
      "text/plain": [
       "(2084137200960, 2084137200960)"
      ]
     },
     "execution_count": 139,
     "metadata": {},
     "output_type": "execute_result"
    }
   ],
   "source": [
    "a = [1,2,[3,4],5]\n",
    "b = a.copy()\n",
    "b[2].append(99)\n",
    "id(a),id(b),a==b,a is b,a,b\n",
    "# 为什么a的值也随着b改变了？\n",
    "id(a[2]),id(b[2])\n",
    "# 嵌套的地址一样"
   ]
  },
  {
   "cell_type": "code",
   "execution_count": 140,
   "id": "0b05468d",
   "metadata": {
    "ExecuteTime": {
     "end_time": "2023-09-25T03:58:24.553439Z",
     "start_time": "2023-09-25T03:58:24.548018Z"
    }
   },
   "outputs": [
    {
     "data": {
      "text/plain": [
       "(2084140155648,\n",
       " 2084137543616,\n",
       " False,\n",
       " False,\n",
       " [1, 2, [3, 4], 5],\n",
       " [1, 2, [3, 4, 99], 5])"
      ]
     },
     "execution_count": 140,
     "metadata": {},
     "output_type": "execute_result"
    }
   ],
   "source": [
    "import copy\n",
    "a = [1,2,[3,4],5]\n",
    "b =copy.deepcopy(a) # 深拷贝\n",
    "b[2].append(99)\n",
    "id(a),id(b),a==b,a is b,a,b"
   ]
  },
  {
   "cell_type": "markdown",
   "id": "49b556b9",
   "metadata": {
    "ExecuteTime": {
     "end_time": "2023-09-25T03:58:47.678220Z",
     "start_time": "2023-09-25T03:58:47.675004Z"
    }
   },
   "source": [
    "## 元组\n",
    "**· 有序、不可修改 = 只读的list**"
   ]
  },
  {
   "cell_type": "code",
   "execution_count": 142,
   "id": "3b426858",
   "metadata": {
    "ExecuteTime": {
     "end_time": "2023-09-25T04:00:03.594787Z",
     "start_time": "2023-09-25T04:00:03.582276Z"
    }
   },
   "outputs": [
    {
     "name": "stdout",
     "output_type": "stream",
     "text": [
      "Help on tuple object:\n",
      "\n",
      "class tuple(object)\n",
      " |  tuple(iterable=(), /)\n",
      " |  \n",
      " |  Built-in immutable sequence.\n",
      " |  \n",
      " |  If no argument is given, the constructor returns an empty tuple.\n",
      " |  If iterable is specified the tuple is initialized from iterable's items.\n",
      " |  \n",
      " |  If the argument is a tuple, the return value is the same object.\n",
      " |  \n",
      " |  Built-in subclasses:\n",
      " |      asyncgen_hooks\n",
      " |      UnraisableHookArgs\n",
      " |  \n",
      " |  Methods defined here:\n",
      " |  \n",
      " |  __add__(self, value, /)\n",
      " |      Return self+value.\n",
      " |  \n",
      " |  __contains__(self, key, /)\n",
      " |      Return key in self.\n",
      " |  \n",
      " |  __eq__(self, value, /)\n",
      " |      Return self==value.\n",
      " |  \n",
      " |  __ge__(self, value, /)\n",
      " |      Return self>=value.\n",
      " |  \n",
      " |  __getattribute__(self, name, /)\n",
      " |      Return getattr(self, name).\n",
      " |  \n",
      " |  __getitem__(self, key, /)\n",
      " |      Return self[key].\n",
      " |  \n",
      " |  __getnewargs__(self, /)\n",
      " |  \n",
      " |  __gt__(self, value, /)\n",
      " |      Return self>value.\n",
      " |  \n",
      " |  __hash__(self, /)\n",
      " |      Return hash(self).\n",
      " |  \n",
      " |  __iter__(self, /)\n",
      " |      Implement iter(self).\n",
      " |  \n",
      " |  __le__(self, value, /)\n",
      " |      Return self<=value.\n",
      " |  \n",
      " |  __len__(self, /)\n",
      " |      Return len(self).\n",
      " |  \n",
      " |  __lt__(self, value, /)\n",
      " |      Return self<value.\n",
      " |  \n",
      " |  __mul__(self, value, /)\n",
      " |      Return self*value.\n",
      " |  \n",
      " |  __ne__(self, value, /)\n",
      " |      Return self!=value.\n",
      " |  \n",
      " |  __repr__(self, /)\n",
      " |      Return repr(self).\n",
      " |  \n",
      " |  __rmul__(self, value, /)\n",
      " |      Return value*self.\n",
      " |  \n",
      " |  count(self, value, /)\n",
      " |      Return number of occurrences of value.\n",
      " |  \n",
      " |  index(self, value, start=0, stop=9223372036854775807, /)\n",
      " |      Return first index of value.\n",
      " |      \n",
      " |      Raises ValueError if the value is not present.\n",
      " |  \n",
      " |  ----------------------------------------------------------------------\n",
      " |  Class methods defined here:\n",
      " |  \n",
      " |  __class_getitem__(...) from builtins.type\n",
      " |      See PEP 585\n",
      " |  \n",
      " |  ----------------------------------------------------------------------\n",
      " |  Static methods defined here:\n",
      " |  \n",
      " |  __new__(*args, **kwargs) from builtins.type\n",
      " |      Create and return a new object.  See help(type) for accurate signature.\n",
      "\n",
      "Help on class tuple in module builtins:\n",
      "\n",
      "class tuple(object)\n",
      " |  tuple(iterable=(), /)\n",
      " |  \n",
      " |  Built-in immutable sequence.\n",
      " |  \n",
      " |  If no argument is given, the constructor returns an empty tuple.\n",
      " |  If iterable is specified the tuple is initialized from iterable's items.\n",
      " |  \n",
      " |  If the argument is a tuple, the return value is the same object.\n",
      " |  \n",
      " |  Built-in subclasses:\n",
      " |      asyncgen_hooks\n",
      " |      UnraisableHookArgs\n",
      " |  \n",
      " |  Methods defined here:\n",
      " |  \n",
      " |  __add__(self, value, /)\n",
      " |      Return self+value.\n",
      " |  \n",
      " |  __contains__(self, key, /)\n",
      " |      Return key in self.\n",
      " |  \n",
      " |  __eq__(self, value, /)\n",
      " |      Return self==value.\n",
      " |  \n",
      " |  __ge__(self, value, /)\n",
      " |      Return self>=value.\n",
      " |  \n",
      " |  __getattribute__(self, name, /)\n",
      " |      Return getattr(self, name).\n",
      " |  \n",
      " |  __getitem__(self, key, /)\n",
      " |      Return self[key].\n",
      " |  \n",
      " |  __getnewargs__(self, /)\n",
      " |  \n",
      " |  __gt__(self, value, /)\n",
      " |      Return self>value.\n",
      " |  \n",
      " |  __hash__(self, /)\n",
      " |      Return hash(self).\n",
      " |  \n",
      " |  __iter__(self, /)\n",
      " |      Implement iter(self).\n",
      " |  \n",
      " |  __le__(self, value, /)\n",
      " |      Return self<=value.\n",
      " |  \n",
      " |  __len__(self, /)\n",
      " |      Return len(self).\n",
      " |  \n",
      " |  __lt__(self, value, /)\n",
      " |      Return self<value.\n",
      " |  \n",
      " |  __mul__(self, value, /)\n",
      " |      Return self*value.\n",
      " |  \n",
      " |  __ne__(self, value, /)\n",
      " |      Return self!=value.\n",
      " |  \n",
      " |  __repr__(self, /)\n",
      " |      Return repr(self).\n",
      " |  \n",
      " |  __rmul__(self, value, /)\n",
      " |      Return value*self.\n",
      " |  \n",
      " |  count(self, value, /)\n",
      " |      Return number of occurrences of value.\n",
      " |  \n",
      " |  index(self, value, start=0, stop=9223372036854775807, /)\n",
      " |      Return first index of value.\n",
      " |      \n",
      " |      Raises ValueError if the value is not present.\n",
      " |  \n",
      " |  ----------------------------------------------------------------------\n",
      " |  Class methods defined here:\n",
      " |  \n",
      " |  __class_getitem__(...) from builtins.type\n",
      " |      See PEP 585\n",
      " |  \n",
      " |  ----------------------------------------------------------------------\n",
      " |  Static methods defined here:\n",
      " |  \n",
      " |  __new__(*args, **kwargs) from builtins.type\n",
      " |      Create and return a new object.  See help(type) for accurate signature.\n",
      "\n"
     ]
    }
   ],
   "source": [
    "help( () );help(tuple)"
   ]
  },
  {
   "cell_type": "code",
   "execution_count": 144,
   "id": "dad46ce8",
   "metadata": {
    "ExecuteTime": {
     "end_time": "2023-09-25T04:00:22.437720Z",
     "start_time": "2023-09-25T04:00:22.433413Z"
    }
   },
   "outputs": [
    {
     "data": {
      "text/plain": [
       "True"
      ]
     },
     "execution_count": 144,
     "metadata": {},
     "output_type": "execute_result"
    }
   ],
   "source": [
    "isinstance((1,2,3),tuple)"
   ]
  },
  {
   "cell_type": "code",
   "execution_count": 155,
   "id": "540fcde7",
   "metadata": {
    "ExecuteTime": {
     "end_time": "2023-09-25T04:04:59.457940Z",
     "start_time": "2023-09-25T04:04:59.453654Z"
    }
   },
   "outputs": [
    {
     "data": {
      "text/plain": [
       "(2, (1, 2), (1, 2, 3, 2), (3, 2))"
      ]
     },
     "execution_count": 155,
     "metadata": {},
     "output_type": "execute_result"
    }
   ],
   "source": [
    "x = tuple([1,2,3,2])# 强制类型转换\n",
    "x[1],x[:2],x[:],x[-2:]"
   ]
  },
  {
   "cell_type": "code",
   "execution_count": 156,
   "id": "e1477727",
   "metadata": {
    "ExecuteTime": {
     "end_time": "2023-09-25T04:05:02.826093Z",
     "start_time": "2023-09-25T04:05:02.823152Z"
    }
   },
   "outputs": [],
   "source": [
    "# x[1]=0 报错\n",
    "# x.append(2) 报错"
   ]
  },
  {
   "cell_type": "code",
   "execution_count": 157,
   "id": "7c435a09",
   "metadata": {
    "ExecuteTime": {
     "end_time": "2023-09-25T04:05:03.834104Z",
     "start_time": "2023-09-25T04:05:03.829168Z"
    }
   },
   "outputs": [
    {
     "name": "stdout",
     "output_type": "stream",
     "text": [
      "1 , 2 , 3 , 2 , "
     ]
    },
    {
     "data": {
      "text/plain": [
       "(1, 2)"
      ]
     },
     "execution_count": 157,
     "metadata": {},
     "output_type": "execute_result"
    }
   ],
   "source": [
    "2 in x\n",
    "for xx in x: print(xx,end=' , ')\n",
    "x.index(2),x.count(2)"
   ]
  },
  {
   "cell_type": "code",
   "execution_count": 1,
   "id": "3a447aa5",
   "metadata": {
    "ExecuteTime": {
     "end_time": "2023-10-09T02:31:21.676549Z",
     "start_time": "2023-10-09T02:31:21.656644Z"
    }
   },
   "outputs": [
    {
     "data": {
      "text/plain": [
       "(88, 64)"
      ]
     },
     "execution_count": 1,
     "metadata": {},
     "output_type": "execute_result"
    }
   ],
   "source": [
    "import sys\n",
    "a,b = [1,2,3],(1,2,3)\n",
    "sys.getsizeof(a),sys.getsizeof(b)"
   ]
  },
  {
   "cell_type": "markdown",
   "id": "0852527e",
   "metadata": {},
   "source": [
    "## 字符串 \n",
    "有顺序 不可修改"
   ]
  },
  {
   "cell_type": "code",
   "execution_count": 3,
   "id": "75488907",
   "metadata": {
    "ExecuteTime": {
     "end_time": "2023-10-09T02:36:00.460104Z",
     "start_time": "2023-10-09T02:36:00.404592Z"
    }
   },
   "outputs": [
    {
     "name": "stdout",
     "output_type": "stream",
     "text": [
      "Help on class str in module builtins:\n",
      "\n",
      "class str(object)\n",
      " |  str(object='') -> str\n",
      " |  str(bytes_or_buffer[, encoding[, errors]]) -> str\n",
      " |  \n",
      " |  Create a new string object from the given object. If encoding or\n",
      " |  errors is specified, then the object must expose a data buffer\n",
      " |  that will be decoded using the given encoding and error handler.\n",
      " |  Otherwise, returns the result of object.__str__() (if defined)\n",
      " |  or repr(object).\n",
      " |  encoding defaults to sys.getdefaultencoding().\n",
      " |  errors defaults to 'strict'.\n",
      " |  \n",
      " |  Methods defined here:\n",
      " |  \n",
      " |  __add__(self, value, /)\n",
      " |      Return self+value.\n",
      " |  \n",
      " |  __contains__(self, key, /)\n",
      " |      Return key in self.\n",
      " |  \n",
      " |  __eq__(self, value, /)\n",
      " |      Return self==value.\n",
      " |  \n",
      " |  __format__(self, format_spec, /)\n",
      " |      Return a formatted version of the string as described by format_spec.\n",
      " |  \n",
      " |  __ge__(self, value, /)\n",
      " |      Return self>=value.\n",
      " |  \n",
      " |  __getattribute__(self, name, /)\n",
      " |      Return getattr(self, name).\n",
      " |  \n",
      " |  __getitem__(self, key, /)\n",
      " |      Return self[key].\n",
      " |  \n",
      " |  __getnewargs__(...)\n",
      " |  \n",
      " |  __gt__(self, value, /)\n",
      " |      Return self>value.\n",
      " |  \n",
      " |  __hash__(self, /)\n",
      " |      Return hash(self).\n",
      " |  \n",
      " |  __iter__(self, /)\n",
      " |      Implement iter(self).\n",
      " |  \n",
      " |  __le__(self, value, /)\n",
      " |      Return self<=value.\n",
      " |  \n",
      " |  __len__(self, /)\n",
      " |      Return len(self).\n",
      " |  \n",
      " |  __lt__(self, value, /)\n",
      " |      Return self<value.\n",
      " |  \n",
      " |  __mod__(self, value, /)\n",
      " |      Return self%value.\n",
      " |  \n",
      " |  __mul__(self, value, /)\n",
      " |      Return self*value.\n",
      " |  \n",
      " |  __ne__(self, value, /)\n",
      " |      Return self!=value.\n",
      " |  \n",
      " |  __repr__(self, /)\n",
      " |      Return repr(self).\n",
      " |  \n",
      " |  __rmod__(self, value, /)\n",
      " |      Return value%self.\n",
      " |  \n",
      " |  __rmul__(self, value, /)\n",
      " |      Return value*self.\n",
      " |  \n",
      " |  __sizeof__(self, /)\n",
      " |      Return the size of the string in memory, in bytes.\n",
      " |  \n",
      " |  __str__(self, /)\n",
      " |      Return str(self).\n",
      " |  \n",
      " |  capitalize(self, /)\n",
      " |      Return a capitalized version of the string.\n",
      " |      \n",
      " |      More specifically, make the first character have upper case and the rest lower\n",
      " |      case.\n",
      " |  \n",
      " |  casefold(self, /)\n",
      " |      Return a version of the string suitable for caseless comparisons.\n",
      " |  \n",
      " |  center(self, width, fillchar=' ', /)\n",
      " |      Return a centered string of length width.\n",
      " |      \n",
      " |      Padding is done using the specified fill character (default is a space).\n",
      " |  \n",
      " |  count(...)\n",
      " |      S.count(sub[, start[, end]]) -> int\n",
      " |      \n",
      " |      Return the number of non-overlapping occurrences of substring sub in\n",
      " |      string S[start:end].  Optional arguments start and end are\n",
      " |      interpreted as in slice notation.\n",
      " |  \n",
      " |  encode(self, /, encoding='utf-8', errors='strict')\n",
      " |      Encode the string using the codec registered for encoding.\n",
      " |      \n",
      " |      encoding\n",
      " |        The encoding in which to encode the string.\n",
      " |      errors\n",
      " |        The error handling scheme to use for encoding errors.\n",
      " |        The default is 'strict' meaning that encoding errors raise a\n",
      " |        UnicodeEncodeError.  Other possible values are 'ignore', 'replace' and\n",
      " |        'xmlcharrefreplace' as well as any other name registered with\n",
      " |        codecs.register_error that can handle UnicodeEncodeErrors.\n",
      " |  \n",
      " |  endswith(...)\n",
      " |      S.endswith(suffix[, start[, end]]) -> bool\n",
      " |      \n",
      " |      Return True if S ends with the specified suffix, False otherwise.\n",
      " |      With optional start, test S beginning at that position.\n",
      " |      With optional end, stop comparing S at that position.\n",
      " |      suffix can also be a tuple of strings to try.\n",
      " |  \n",
      " |  expandtabs(self, /, tabsize=8)\n",
      " |      Return a copy where all tab characters are expanded using spaces.\n",
      " |      \n",
      " |      If tabsize is not given, a tab size of 8 characters is assumed.\n",
      " |  \n",
      " |  find(...)\n",
      " |      S.find(sub[, start[, end]]) -> int\n",
      " |      \n",
      " |      Return the lowest index in S where substring sub is found,\n",
      " |      such that sub is contained within S[start:end].  Optional\n",
      " |      arguments start and end are interpreted as in slice notation.\n",
      " |      \n",
      " |      Return -1 on failure.\n",
      " |  \n",
      " |  format(...)\n",
      " |      S.format(*args, **kwargs) -> str\n",
      " |      \n",
      " |      Return a formatted version of S, using substitutions from args and kwargs.\n",
      " |      The substitutions are identified by braces ('{' and '}').\n",
      " |  \n",
      " |  format_map(...)\n",
      " |      S.format_map(mapping) -> str\n",
      " |      \n",
      " |      Return a formatted version of S, using substitutions from mapping.\n",
      " |      The substitutions are identified by braces ('{' and '}').\n",
      " |  \n",
      " |  index(...)\n",
      " |      S.index(sub[, start[, end]]) -> int\n",
      " |      \n",
      " |      Return the lowest index in S where substring sub is found,\n",
      " |      such that sub is contained within S[start:end].  Optional\n",
      " |      arguments start and end are interpreted as in slice notation.\n",
      " |      \n",
      " |      Raises ValueError when the substring is not found.\n",
      " |  \n",
      " |  isalnum(self, /)\n",
      " |      Return True if the string is an alpha-numeric string, False otherwise.\n",
      " |      \n",
      " |      A string is alpha-numeric if all characters in the string are alpha-numeric and\n",
      " |      there is at least one character in the string.\n",
      " |  \n",
      " |  isalpha(self, /)\n",
      " |      Return True if the string is an alphabetic string, False otherwise.\n",
      " |      \n",
      " |      A string is alphabetic if all characters in the string are alphabetic and there\n",
      " |      is at least one character in the string.\n",
      " |  \n",
      " |  isascii(self, /)\n",
      " |      Return True if all characters in the string are ASCII, False otherwise.\n",
      " |      \n",
      " |      ASCII characters have code points in the range U+0000-U+007F.\n",
      " |      Empty string is ASCII too.\n",
      " |  \n",
      " |  isdecimal(self, /)\n",
      " |      Return True if the string is a decimal string, False otherwise.\n",
      " |      \n",
      " |      A string is a decimal string if all characters in the string are decimal and\n",
      " |      there is at least one character in the string.\n",
      " |  \n",
      " |  isdigit(self, /)\n",
      " |      Return True if the string is a digit string, False otherwise.\n",
      " |      \n",
      " |      A string is a digit string if all characters in the string are digits and there\n",
      " |      is at least one character in the string.\n",
      " |  \n",
      " |  isidentifier(self, /)\n",
      " |      Return True if the string is a valid Python identifier, False otherwise.\n",
      " |      \n",
      " |      Call keyword.iskeyword(s) to test whether string s is a reserved identifier,\n",
      " |      such as \"def\" or \"class\".\n",
      " |  \n",
      " |  islower(self, /)\n",
      " |      Return True if the string is a lowercase string, False otherwise.\n",
      " |      \n",
      " |      A string is lowercase if all cased characters in the string are lowercase and\n",
      " |      there is at least one cased character in the string.\n",
      " |  \n",
      " |  isnumeric(self, /)\n",
      " |      Return True if the string is a numeric string, False otherwise.\n",
      " |      \n",
      " |      A string is numeric if all characters in the string are numeric and there is at\n",
      " |      least one character in the string.\n",
      " |  \n",
      " |  isprintable(self, /)\n",
      " |      Return True if the string is printable, False otherwise.\n",
      " |      \n",
      " |      A string is printable if all of its characters are considered printable in\n",
      " |      repr() or if it is empty.\n",
      " |  \n",
      " |  isspace(self, /)\n",
      " |      Return True if the string is a whitespace string, False otherwise.\n",
      " |      \n",
      " |      A string is whitespace if all characters in the string are whitespace and there\n",
      " |      is at least one character in the string.\n",
      " |  \n",
      " |  istitle(self, /)\n",
      " |      Return True if the string is a title-cased string, False otherwise.\n",
      " |      \n",
      " |      In a title-cased string, upper- and title-case characters may only\n",
      " |      follow uncased characters and lowercase characters only cased ones.\n",
      " |  \n",
      " |  isupper(self, /)\n",
      " |      Return True if the string is an uppercase string, False otherwise.\n",
      " |      \n",
      " |      A string is uppercase if all cased characters in the string are uppercase and\n",
      " |      there is at least one cased character in the string.\n",
      " |  \n",
      " |  join(self, iterable, /)\n",
      " |      Concatenate any number of strings.\n",
      " |      \n",
      " |      The string whose method is called is inserted in between each given string.\n",
      " |      The result is returned as a new string.\n",
      " |      \n",
      " |      Example: '.'.join(['ab', 'pq', 'rs']) -> 'ab.pq.rs'\n",
      " |  \n",
      " |  ljust(self, width, fillchar=' ', /)\n",
      " |      Return a left-justified string of length width.\n",
      " |      \n",
      " |      Padding is done using the specified fill character (default is a space).\n",
      " |  \n",
      " |  lower(self, /)\n",
      " |      Return a copy of the string converted to lowercase.\n",
      " |  \n",
      " |  lstrip(self, chars=None, /)\n",
      " |      Return a copy of the string with leading whitespace removed.\n",
      " |      \n",
      " |      If chars is given and not None, remove characters in chars instead.\n",
      " |  \n",
      " |  partition(self, sep, /)\n",
      " |      Partition the string into three parts using the given separator.\n",
      " |      \n",
      " |      This will search for the separator in the string.  If the separator is found,\n",
      " |      returns a 3-tuple containing the part before the separator, the separator\n",
      " |      itself, and the part after it.\n",
      " |      \n",
      " |      If the separator is not found, returns a 3-tuple containing the original string\n",
      " |      and two empty strings.\n",
      " |  \n",
      " |  removeprefix(self, prefix, /)\n",
      " |      Return a str with the given prefix string removed if present.\n",
      " |      \n",
      " |      If the string starts with the prefix string, return string[len(prefix):].\n",
      " |      Otherwise, return a copy of the original string.\n",
      " |  \n",
      " |  removesuffix(self, suffix, /)\n",
      " |      Return a str with the given suffix string removed if present.\n",
      " |      \n",
      " |      If the string ends with the suffix string and that suffix is not empty,\n",
      " |      return string[:-len(suffix)]. Otherwise, return a copy of the original\n",
      " |      string.\n",
      " |  \n",
      " |  replace(self, old, new, count=-1, /)\n",
      " |      Return a copy with all occurrences of substring old replaced by new.\n",
      " |      \n",
      " |        count\n",
      " |          Maximum number of occurrences to replace.\n",
      " |          -1 (the default value) means replace all occurrences.\n",
      " |      \n",
      " |      If the optional argument count is given, only the first count occurrences are\n",
      " |      replaced.\n",
      " |  \n",
      " |  rfind(...)\n",
      " |      S.rfind(sub[, start[, end]]) -> int\n",
      " |      \n",
      " |      Return the highest index in S where substring sub is found,\n",
      " |      such that sub is contained within S[start:end].  Optional\n",
      " |      arguments start and end are interpreted as in slice notation.\n",
      " |      \n",
      " |      Return -1 on failure.\n",
      " |  \n",
      " |  rindex(...)\n",
      " |      S.rindex(sub[, start[, end]]) -> int\n",
      " |      \n",
      " |      Return the highest index in S where substring sub is found,\n",
      " |      such that sub is contained within S[start:end].  Optional\n",
      " |      arguments start and end are interpreted as in slice notation.\n",
      " |      \n",
      " |      Raises ValueError when the substring is not found.\n",
      " |  \n",
      " |  rjust(self, width, fillchar=' ', /)\n",
      " |      Return a right-justified string of length width.\n",
      " |      \n",
      " |      Padding is done using the specified fill character (default is a space).\n",
      " |  \n",
      " |  rpartition(self, sep, /)\n",
      " |      Partition the string into three parts using the given separator.\n",
      " |      \n",
      " |      This will search for the separator in the string, starting at the end. If\n",
      " |      the separator is found, returns a 3-tuple containing the part before the\n",
      " |      separator, the separator itself, and the part after it.\n",
      " |      \n",
      " |      If the separator is not found, returns a 3-tuple containing two empty strings\n",
      " |      and the original string.\n",
      " |  \n",
      " |  rsplit(self, /, sep=None, maxsplit=-1)\n",
      " |      Return a list of the substrings in the string, using sep as the separator string.\n",
      " |      \n",
      " |        sep\n",
      " |          The separator used to split the string.\n",
      " |      \n",
      " |          When set to None (the default value), will split on any whitespace\n",
      " |          character (including \\\\n \\\\r \\\\t \\\\f and spaces) and will discard\n",
      " |          empty strings from the result.\n",
      " |        maxsplit\n",
      " |          Maximum number of splits (starting from the left).\n",
      " |          -1 (the default value) means no limit.\n",
      " |      \n",
      " |      Splitting starts at the end of the string and works to the front.\n",
      " |  \n",
      " |  rstrip(self, chars=None, /)\n",
      " |      Return a copy of the string with trailing whitespace removed.\n",
      " |      \n",
      " |      If chars is given and not None, remove characters in chars instead.\n",
      " |  \n",
      " |  split(self, /, sep=None, maxsplit=-1)\n",
      " |      Return a list of the substrings in the string, using sep as the separator string.\n",
      " |      \n",
      " |        sep\n",
      " |          The separator used to split the string.\n",
      " |      \n",
      " |          When set to None (the default value), will split on any whitespace\n",
      " |          character (including \\\\n \\\\r \\\\t \\\\f and spaces) and will discard\n",
      " |          empty strings from the result.\n",
      " |        maxsplit\n",
      " |          Maximum number of splits (starting from the left).\n",
      " |          -1 (the default value) means no limit.\n",
      " |      \n",
      " |      Note, str.split() is mainly useful for data that has been intentionally\n",
      " |      delimited.  With natural text that includes punctuation, consider using\n",
      " |      the regular expression module.\n",
      " |  \n",
      " |  splitlines(self, /, keepends=False)\n",
      " |      Return a list of the lines in the string, breaking at line boundaries.\n",
      " |      \n",
      " |      Line breaks are not included in the resulting list unless keepends is given and\n",
      " |      true.\n",
      " |  \n",
      " |  startswith(...)\n",
      " |      S.startswith(prefix[, start[, end]]) -> bool\n",
      " |      \n",
      " |      Return True if S starts with the specified prefix, False otherwise.\n",
      " |      With optional start, test S beginning at that position.\n",
      " |      With optional end, stop comparing S at that position.\n",
      " |      prefix can also be a tuple of strings to try.\n",
      " |  \n",
      " |  strip(self, chars=None, /)\n",
      " |      Return a copy of the string with leading and trailing whitespace removed.\n",
      " |      \n",
      " |      If chars is given and not None, remove characters in chars instead.\n",
      " |  \n",
      " |  swapcase(self, /)\n",
      " |      Convert uppercase characters to lowercase and lowercase characters to uppercase.\n",
      " |  \n",
      " |  title(self, /)\n",
      " |      Return a version of the string where each word is titlecased.\n",
      " |      \n",
      " |      More specifically, words start with uppercased characters and all remaining\n",
      " |      cased characters have lower case.\n",
      " |  \n",
      " |  translate(self, table, /)\n",
      " |      Replace each character in the string using the given translation table.\n",
      " |      \n",
      " |        table\n",
      " |          Translation table, which must be a mapping of Unicode ordinals to\n",
      " |          Unicode ordinals, strings, or None.\n",
      " |      \n",
      " |      The table must implement lookup/indexing via __getitem__, for instance a\n",
      " |      dictionary or list.  If this operation raises LookupError, the character is\n",
      " |      left untouched.  Characters mapped to None are deleted.\n",
      " |  \n",
      " |  upper(self, /)\n",
      " |      Return a copy of the string converted to uppercase.\n",
      " |  \n",
      " |  zfill(self, width, /)\n",
      " |      Pad a numeric string with zeros on the left, to fill a field of the given width.\n",
      " |      \n",
      " |      The string is never truncated.\n",
      " |  \n",
      " |  ----------------------------------------------------------------------\n",
      " |  Static methods defined here:\n",
      " |  \n",
      " |  __new__(*args, **kwargs) from builtins.type\n",
      " |      Create and return a new object.  See help(type) for accurate signature.\n",
      " |  \n",
      " |  maketrans(...)\n",
      " |      Return a translation table usable for str.translate().\n",
      " |      \n",
      " |      If there is only one argument, it must be a dictionary mapping Unicode\n",
      " |      ordinals (integers) or characters to Unicode ordinals, strings or None.\n",
      " |      Character keys will be then converted to ordinals.\n",
      " |      If there are two arguments, they must be strings of equal length, and\n",
      " |      in the resulting dictionary, each character in x will be mapped to the\n",
      " |      character at the same position in y. If there is a third argument, it\n",
      " |      must be a string, whose characters will be mapped to None in the result.\n",
      "\n"
     ]
    }
   ],
   "source": [
    "help(str)"
   ]
  },
  {
   "cell_type": "code",
   "execution_count": 8,
   "id": "a7d621bb",
   "metadata": {
    "ExecuteTime": {
     "end_time": "2023-10-09T02:38:23.294328Z",
     "start_time": "2023-10-09T02:38:23.281697Z"
    }
   },
   "outputs": [
    {
     "data": {
      "text/plain": [
       "'a\"B\"\"\"v\"\"\"E\"c'"
      ]
     },
     "execution_count": 8,
     "metadata": {},
     "output_type": "execute_result"
    }
   ],
   "source": [
    "s = 'a'\n",
    "s = \"a\"\n",
    "s = \"\"\"a\"\"\"\n",
    "s = '''a'''\n",
    "s = 'a\"B\"\"\"v\"\"\"E\"c'\n",
    "#s = 'a\"B'''v'''E\"c'\n",
    "s"
   ]
  },
  {
   "cell_type": "code",
   "execution_count": 13,
   "id": "04c6c86a",
   "metadata": {
    "ExecuteTime": {
     "end_time": "2023-10-09T02:42:51.056507Z",
     "start_time": "2023-10-09T02:42:51.045085Z"
    }
   },
   "outputs": [
    {
     "data": {
      "text/plain": [
       "4932"
      ]
     },
     "execution_count": 13,
     "metadata": {},
     "output_type": "execute_result"
    }
   ],
   "source": [
    "x = 1_2_33\n",
    "y = 4\n",
    "x*y"
   ]
  },
  {
   "cell_type": "code",
   "execution_count": 21,
   "id": "3e83ba50",
   "metadata": {
    "ExecuteTime": {
     "end_time": "2023-10-09T02:49:58.719294Z",
     "start_time": "2023-10-09T02:49:58.706848Z"
    }
   },
   "outputs": [
    {
     "data": {
      "text/plain": [
       "(2044378812112, 2044379299056, 'lzu', 'lzu就是好')"
      ]
     },
     "execution_count": 21,
     "metadata": {},
     "output_type": "execute_result"
    }
   ],
   "source": [
    "s1 = 'lzu'\n",
    "s2 = s1\n",
    "id(s2),id(s1)\n",
    "s2 = s1 + '就是好'\n",
    "id(s2),id(s1),s1,s2"
   ]
  },
  {
   "cell_type": "code",
   "execution_count": 22,
   "id": "f0d272c5",
   "metadata": {
    "ExecuteTime": {
     "end_time": "2023-10-09T02:49:59.346627Z",
     "start_time": "2023-10-09T02:49:59.332844Z"
    }
   },
   "outputs": [
    {
     "data": {
      "text/plain": [
       "(2044379442048, 2044379442048, ['lzu', '就是好'], ['lzu', '就是好'])"
      ]
     },
     "execution_count": 22,
     "metadata": {},
     "output_type": "execute_result"
    }
   ],
   "source": [
    "s1 = ['lzu']\n",
    "s2 = s1\n",
    "s2 += ['就是好']\n",
    "id(s2),id(s1),s1,s2"
   ]
  },
  {
   "cell_type": "code",
   "execution_count": 28,
   "id": "ebb1749f",
   "metadata": {
    "ExecuteTime": {
     "end_time": "2023-10-09T02:53:43.828970Z",
     "start_time": "2023-10-09T02:53:43.818659Z"
    }
   },
   "outputs": [
    {
     "data": {
      "text/plain": [
       "'ab'"
      ]
     },
     "execution_count": 28,
     "metadata": {},
     "output_type": "execute_result"
    }
   ],
   "source": [
    "s1 = 'abscde'\n",
    "s2 = s1[:2]\n",
    "s2"
   ]
  },
  {
   "cell_type": "code",
   "execution_count": 40,
   "id": "665106f9",
   "metadata": {
    "ExecuteTime": {
     "end_time": "2023-10-09T02:59:25.994539Z",
     "start_time": "2023-10-09T02:59:25.982684Z"
    }
   },
   "outputs": [
    {
     "data": {
      "text/plain": [
       "'abxcde'"
      ]
     },
     "execution_count": 40,
     "metadata": {},
     "output_type": "execute_result"
    }
   ],
   "source": [
    "#s1[2] = 'x'\n",
    "s2 = s1[:2] + 'x' + s1[3:]\n",
    "s2"
   ]
  },
  {
   "cell_type": "code",
   "execution_count": 43,
   "id": "4214a992",
   "metadata": {
    "ExecuteTime": {
     "end_time": "2023-10-09T03:01:03.688163Z",
     "start_time": "2023-10-09T03:01:03.621994Z"
    }
   },
   "outputs": [
    {
     "ename": "UnicodeDecodeError",
     "evalue": "'gbk' codec can't decode byte 0xfd in position 7469: illegal multibyte sequence",
     "output_type": "error",
     "traceback": [
      "\u001b[1;31m---------------------------------------------------------------------------\u001b[0m",
      "\u001b[1;31mUnicodeDecodeError\u001b[0m                        Traceback (most recent call last)",
      "Cell \u001b[1;32mIn[43], line 1\u001b[0m\n\u001b[1;32m----> 1\u001b[0m data \u001b[38;5;241m=\u001b[39m \u001b[38;5;28mopen\u001b[39m(\u001b[38;5;124m'\u001b[39m\u001b[38;5;124mdata/射雕英雄传.txt\u001b[39m\u001b[38;5;124m'\u001b[39m)\u001b[38;5;241m.\u001b[39mreadlines()\n\u001b[0;32m      2\u001b[0m data[\u001b[38;5;241m1888\u001b[39m]\n",
      "\u001b[1;31mUnicodeDecodeError\u001b[0m: 'gbk' codec can't decode byte 0xfd in position 7469: illegal multibyte sequence"
     ]
    }
   ],
   "source": [
    "data = open('data/射雕英雄传.txt').readlines()\n",
    "data[1888]\n",
    "# 编码问题"
   ]
  },
  {
   "cell_type": "code",
   "execution_count": 45,
   "id": "24e87a74",
   "metadata": {
    "ExecuteTime": {
     "end_time": "2023-10-09T03:02:25.451096Z",
     "start_time": "2023-10-09T03:02:25.399702Z"
    }
   },
   "outputs": [
    {
     "data": {
      "text/plain": [
       "'    洪七公道：“我骑你这小红马去，路上有甚危难，老叫化拍马便走，任谁也追赶不上。”说着便上了马，骨都都喝了一大口酒，双腿一夹。小红马向靖蓉二人长嘶一声，似是道别，向北风驰而去。郭靖望着洪七公影踪不见，又想起柯镇恶欲杀黄蓉之事，心中闷闷不乐。黄蓉也不相劝，自去雇了船，扬帆直赴桃花岛来。到得岛上，打发船夫走后，黄蓉道：“靖哥哥，我求你一件事，你答不答允？”郭靖道：“你先说出来听听，别又是我做不到的。”黄蓉笑道：“我可不是要你去割你六位师父的头。”郭靖不悦道：“蓉儿，你还提这个干么？”黄蓉道：“我为甚么不提？这事你忘得了，我可忘不了。我虽然跟你好，却也不愿给你割下脑袋来。”郭靖叹道：“我真不明白大师父干么生这么大的气。他知道你是我心爱之人，我宁可自己死一千次一万次，也决不肯伤害你半点。”黄蓉听他说得真诚，心里感动，拉住他手，靠在他身上，指着水边的一排柳树，轻声问道：“靖哥哥，你说这桃花岛美么？”郭靖道：“真像是神仙住的地方。”黄蓉叹道：“我只想在这儿活下去，不愿给你杀了。”郭靖抚着她的头发道：“好蓉儿，我怎会杀你？”黄蓉道：“要是你六位师父、你的妈妈，你的好朋友们都逼你来杀我，你动不动手？”郭靖昂然道：“就是普天下的人要一齐跟你为难，我也始终护着你。”黄蓉把他的手握得更紧了，问道：“你为了我，肯把这一切人都舍下么？”郭靖迟疑不答。黄蓉微微仰头，望着他的双眼，脸上神色焦虑，等他回答。\\n'"
      ]
     },
     "execution_count": 45,
     "metadata": {},
     "output_type": "execute_result"
    }
   ],
   "source": [
    "data = open('data/射雕英雄传.txt',errors='ignore').readlines()\n",
    "data[1888]\n",
    "# 根据经验，比如推测盗版软件插入奇怪的字符串"
   ]
  },
  {
   "cell_type": "markdown",
   "id": "f89e863c",
   "metadata": {},
   "source": [
    "<从小工到大师><从小工到师傅><从学徒到匠人>"
   ]
  },
  {
   "cell_type": "code",
   "execution_count": 52,
   "id": "bafc9398",
   "metadata": {
    "ExecuteTime": {
     "end_time": "2023-10-09T03:15:56.509838Z",
     "start_time": "2023-10-09T03:15:56.498648Z"
    }
   },
   "outputs": [
    {
     "data": {
      "text/plain": [
       "(600, 600)"
      ]
     },
     "execution_count": 52,
     "metadata": {},
     "output_type": "execute_result"
    }
   ],
   "source": [
    "s = data[1888]\n",
    "len(s),s.__len__()"
   ]
  },
  {
   "cell_type": "code",
   "execution_count": 54,
   "id": "8547f1a3",
   "metadata": {
    "ExecuteTime": {
     "end_time": "2023-10-09T03:16:17.077718Z",
     "start_time": "2023-10-09T03:16:17.066713Z"
    }
   },
   "outputs": [
    {
     "data": {
      "text/plain": [
       "'    洪七公道：“我骑你这小红马去，路上有甚危难，老叫化拍马便走，任谁也追赶不上。”说着便上了马，骨都都喝了一大口酒，双腿一夹。小红马向靖蓉二人长嘶一声，似是道别，向北风驰而去。郭靖望着洪七公影踪不见，又想起柯镇恶欲杀黄蓉之事，心中闷闷不乐。黄蓉也不相劝，自去雇了船，扬帆直赴桃花岛来。到得岛上，打发船夫走后，黄蓉道：“靖哥哥，我求你一件事，你答不答允？”郭靖道：“你先说出来听听，别又是我做不到的。”黄蓉笑道：“我可不是要你去割你六位师父的头。”郭靖不悦道：“蓉儿，你还提这个干么？”黄蓉道：“我为甚么不提？这事你忘得了，我可忘不了。我虽然跟你好，却也不愿给你割下脑袋来。”郭靖叹道：“我真不明白大师父干么生这么大的气。他知道你是我心爱之人，我宁可自己死一千次一万次，也决不肯伤害你半点。”黄蓉听他说得真诚，心里感动，拉住他手，靠在他身上，指着水边的一排柳树，轻声问道：“靖哥哥，你说这桃花岛美么？”郭靖道：“真像是神仙住的地方。”黄蓉叹道：“我只想在这儿活下去，不愿给你杀了。”郭靖抚着她的头发道：“好蓉儿，我怎会杀你？”黄蓉道：“要是你六位师父、你的妈妈，你的好朋友们都逼你来杀我，你动不动手？”郭靖昂然道：“就是普天下的人要一齐跟你为难，我也始终护着你。”黄蓉把他的手握得更紧了，问道：“你为了我，肯把这一切人都舍下么？”郭靖迟疑不答。黄蓉微微仰头，望着他的双眼，脸上神色焦虑，等他回答。'"
      ]
     },
     "execution_count": 54,
     "metadata": {},
     "output_type": "execute_result"
    }
   ],
   "source": [
    "s.replace('\\n','')\n",
    "# 说是创建副本，返回值不变呀??"
   ]
  },
  {
   "cell_type": "code",
   "execution_count": 57,
   "id": "f34ec075",
   "metadata": {
    "ExecuteTime": {
     "end_time": "2023-10-09T03:28:18.286718Z",
     "start_time": "2023-10-09T03:28:18.276179Z"
    }
   },
   "outputs": [
    {
     "data": {
      "text/plain": [
       "12"
      ]
     },
     "execution_count": 57,
     "metadata": {},
     "output_type": "execute_result"
    }
   ],
   "source": [
    "s.count(\"郭靖\"),s.count(\"黄蓉\")\n",
    "s.replace(\"蓉儿\",\"黄蓉\").count(\"黄蓉\")"
   ]
  },
  {
   "cell_type": "code",
   "execution_count": 8,
   "id": "bccc6708",
   "metadata": {
    "ExecuteTime": {
     "end_time": "2023-10-16T03:06:04.248918Z",
     "start_time": "2023-10-16T03:06:04.237580Z"
    }
   },
   "outputs": [
    {
     "data": {
      "text/plain": [
       "['加州', '太阳谷', '谷歌']"
      ]
     },
     "execution_count": 8,
     "metadata": {},
     "output_type": "execute_result"
    }
   ],
   "source": [
    "s = '  -加州 太阳谷 谷歌,,   '\n",
    "s.strip()\n",
    "s.strip().lstrip('-').rstrip(',').split(' ')"
   ]
  },
  {
   "cell_type": "code",
   "execution_count": 3,
   "id": "8efd5aae",
   "metadata": {
    "ExecuteTime": {
     "end_time": "2023-10-16T03:05:07.482080Z",
     "start_time": "2023-10-16T03:05:07.470925Z"
    }
   },
   "outputs": [
    {
     "data": {
      "text/plain": [
       "(False, True, 'You Love Lzu', 'YOU LOVE LZU')"
      ]
     },
     "execution_count": 3,
     "metadata": {},
     "output_type": "execute_result"
    }
   ],
   "source": [
    "a = 'you love lzu'.title()\n",
    "b = 'you love lzu'.upper()\n",
    "a.isupper(),b.isupper(),a,b"
   ]
  },
  {
   "cell_type": "markdown",
   "id": "e03e4667",
   "metadata": {},
   "source": [
    "## 集合\n",
    "无序"
   ]
  },
  {
   "cell_type": "code",
   "execution_count": 73,
   "id": "6bdf226e",
   "metadata": {
    "ExecuteTime": {
     "end_time": "2023-10-09T03:37:00.806090Z",
     "start_time": "2023-10-09T03:37:00.776645Z"
    }
   },
   "outputs": [
    {
     "name": "stdout",
     "output_type": "stream",
     "text": [
      "Help on class set in module builtins:\n",
      "\n",
      "class set(object)\n",
      " |  set() -> new empty set object\n",
      " |  set(iterable) -> new set object\n",
      " |  \n",
      " |  Build an unordered collection of unique elements.\n",
      " |  \n",
      " |  Methods defined here:\n",
      " |  \n",
      " |  __and__(self, value, /)\n",
      " |      Return self&value.\n",
      " |  \n",
      " |  __contains__(...)\n",
      " |      x.__contains__(y) <==> y in x.\n",
      " |  \n",
      " |  __eq__(self, value, /)\n",
      " |      Return self==value.\n",
      " |  \n",
      " |  __ge__(self, value, /)\n",
      " |      Return self>=value.\n",
      " |  \n",
      " |  __getattribute__(self, name, /)\n",
      " |      Return getattr(self, name).\n",
      " |  \n",
      " |  __gt__(self, value, /)\n",
      " |      Return self>value.\n",
      " |  \n",
      " |  __iand__(self, value, /)\n",
      " |      Return self&=value.\n",
      " |  \n",
      " |  __init__(self, /, *args, **kwargs)\n",
      " |      Initialize self.  See help(type(self)) for accurate signature.\n",
      " |  \n",
      " |  __ior__(self, value, /)\n",
      " |      Return self|=value.\n",
      " |  \n",
      " |  __isub__(self, value, /)\n",
      " |      Return self-=value.\n",
      " |  \n",
      " |  __iter__(self, /)\n",
      " |      Implement iter(self).\n",
      " |  \n",
      " |  __ixor__(self, value, /)\n",
      " |      Return self^=value.\n",
      " |  \n",
      " |  __le__(self, value, /)\n",
      " |      Return self<=value.\n",
      " |  \n",
      " |  __len__(self, /)\n",
      " |      Return len(self).\n",
      " |  \n",
      " |  __lt__(self, value, /)\n",
      " |      Return self<value.\n",
      " |  \n",
      " |  __ne__(self, value, /)\n",
      " |      Return self!=value.\n",
      " |  \n",
      " |  __or__(self, value, /)\n",
      " |      Return self|value.\n",
      " |  \n",
      " |  __rand__(self, value, /)\n",
      " |      Return value&self.\n",
      " |  \n",
      " |  __reduce__(...)\n",
      " |      Return state information for pickling.\n",
      " |  \n",
      " |  __repr__(self, /)\n",
      " |      Return repr(self).\n",
      " |  \n",
      " |  __ror__(self, value, /)\n",
      " |      Return value|self.\n",
      " |  \n",
      " |  __rsub__(self, value, /)\n",
      " |      Return value-self.\n",
      " |  \n",
      " |  __rxor__(self, value, /)\n",
      " |      Return value^self.\n",
      " |  \n",
      " |  __sizeof__(...)\n",
      " |      S.__sizeof__() -> size of S in memory, in bytes\n",
      " |  \n",
      " |  __sub__(self, value, /)\n",
      " |      Return self-value.\n",
      " |  \n",
      " |  __xor__(self, value, /)\n",
      " |      Return self^value.\n",
      " |  \n",
      " |  add(...)\n",
      " |      Add an element to a set.\n",
      " |      \n",
      " |      This has no effect if the element is already present.\n",
      " |  \n",
      " |  clear(...)\n",
      " |      Remove all elements from this set.\n",
      " |  \n",
      " |  copy(...)\n",
      " |      Return a shallow copy of a set.\n",
      " |  \n",
      " |  difference(...)\n",
      " |      Return the difference of two or more sets as a new set.\n",
      " |      \n",
      " |      (i.e. all elements that are in this set but not the others.)\n",
      " |  \n",
      " |  difference_update(...)\n",
      " |      Remove all elements of another set from this set.\n",
      " |  \n",
      " |  discard(...)\n",
      " |      Remove an element from a set if it is a member.\n",
      " |      \n",
      " |      Unlike set.remove(), the discard() method does not raise\n",
      " |      an exception when an element is missing from the set.\n",
      " |  \n",
      " |  intersection(...)\n",
      " |      Return the intersection of two sets as a new set.\n",
      " |      \n",
      " |      (i.e. all elements that are in both sets.)\n",
      " |  \n",
      " |  intersection_update(...)\n",
      " |      Update a set with the intersection of itself and another.\n",
      " |  \n",
      " |  isdisjoint(...)\n",
      " |      Return True if two sets have a null intersection.\n",
      " |  \n",
      " |  issubset(...)\n",
      " |      Report whether another set contains this set.\n",
      " |  \n",
      " |  issuperset(...)\n",
      " |      Report whether this set contains another set.\n",
      " |  \n",
      " |  pop(...)\n",
      " |      Remove and return an arbitrary set element.\n",
      " |      Raises KeyError if the set is empty.\n",
      " |  \n",
      " |  remove(...)\n",
      " |      Remove an element from a set; it must be a member.\n",
      " |      \n",
      " |      If the element is not a member, raise a KeyError.\n",
      " |  \n",
      " |  symmetric_difference(...)\n",
      " |      Return the symmetric difference of two sets as a new set.\n",
      " |      \n",
      " |      (i.e. all elements that are in exactly one of the sets.)\n",
      " |  \n",
      " |  symmetric_difference_update(...)\n",
      " |      Update a set with the symmetric difference of itself and another.\n",
      " |  \n",
      " |  union(...)\n",
      " |      Return the union of sets as a new set.\n",
      " |      \n",
      " |      (i.e. all elements that are in either set.)\n",
      " |  \n",
      " |  update(...)\n",
      " |      Update a set with the union of itself and others.\n",
      " |  \n",
      " |  ----------------------------------------------------------------------\n",
      " |  Class methods defined here:\n",
      " |  \n",
      " |  __class_getitem__(...) from builtins.type\n",
      " |      See PEP 585\n",
      " |  \n",
      " |  ----------------------------------------------------------------------\n",
      " |  Static methods defined here:\n",
      " |  \n",
      " |  __new__(*args, **kwargs) from builtins.type\n",
      " |      Create and return a new object.  See help(type) for accurate signature.\n",
      " |  \n",
      " |  ----------------------------------------------------------------------\n",
      " |  Data and other attributes defined here:\n",
      " |  \n",
      " |  __hash__ = None\n",
      "\n"
     ]
    }
   ],
   "source": [
    "help(set)"
   ]
  },
  {
   "cell_type": "code",
   "execution_count": 75,
   "id": "e28b473b",
   "metadata": {
    "ExecuteTime": {
     "end_time": "2023-10-09T03:38:42.279483Z",
     "start_time": "2023-10-09T03:38:42.269483Z"
    }
   },
   "outputs": [],
   "source": [
    "s = {1,2,3,4,5}\n",
    "s = set([1,2,3,4,5])\n",
    "s = set(range(1,6))"
   ]
  },
  {
   "cell_type": "code",
   "execution_count": 76,
   "id": "b36f2787",
   "metadata": {
    "ExecuteTime": {
     "end_time": "2023-10-09T03:39:20.874362Z",
     "start_time": "2023-10-09T03:39:20.863825Z"
    }
   },
   "outputs": [
    {
     "name": "stdout",
     "output_type": "stream",
     "text": [
      "1,2,3,4,5,"
     ]
    }
   ],
   "source": [
    "for x in s: print(x,end=\",\")"
   ]
  },
  {
   "cell_type": "code",
   "execution_count": 79,
   "id": "2f824eaa",
   "metadata": {
    "ExecuteTime": {
     "end_time": "2023-10-09T03:41:08.186481Z",
     "start_time": "2023-10-09T03:41:08.172149Z"
    }
   },
   "outputs": [
    {
     "name": "stdout",
     "output_type": "stream",
     "text": [
      "1,2,3,4,5,"
     ]
    },
    {
     "data": {
      "text/plain": [
       "set()"
      ]
     },
     "execution_count": 79,
     "metadata": {},
     "output_type": "execute_result"
    }
   ],
   "source": [
    "cc = set(range(8))\n",
    "cc = {1,2,4,3,5}\n",
    "while cc : print(cc.pop(),end=',')\n",
    "cc"
   ]
  },
  {
   "cell_type": "code",
   "execution_count": 80,
   "id": "28f14f8e",
   "metadata": {
    "ExecuteTime": {
     "end_time": "2023-10-09T03:41:38.153376Z",
     "start_time": "2023-10-09T03:41:38.141141Z"
    }
   },
   "outputs": [
    {
     "data": {
      "text/plain": [
       "{1, 2, 3, 4, 5}"
      ]
     },
     "execution_count": 80,
     "metadata": {},
     "output_type": "execute_result"
    }
   ],
   "source": [
    "s = {1,2,3,4,5}\n",
    "s.add(4)\n",
    "s\n",
    "# 自动去重"
   ]
  },
  {
   "cell_type": "code",
   "execution_count": 86,
   "id": "6fea7878",
   "metadata": {
    "ExecuteTime": {
     "end_time": "2023-10-09T03:48:37.569877Z",
     "start_time": "2023-10-09T03:48:37.558321Z"
    }
   },
   "outputs": [
    {
     "data": {
      "text/plain": [
       "{1, 2, 3, 4, 5, 6}"
      ]
     },
     "execution_count": 86,
     "metadata": {},
     "output_type": "execute_result"
    }
   ],
   "source": [
    "c = {1,2,3}  # 合并一个集合\n",
    "c1 = {4,6,5}\n",
    "c.update(c1)  #  改自身\n",
    "c = c.union(c1)  #  造副本\n",
    "c"
   ]
  },
  {
   "cell_type": "code",
   "execution_count": 87,
   "id": "a24553ed",
   "metadata": {
    "ExecuteTime": {
     "end_time": "2023-10-09T03:50:00.294643Z",
     "start_time": "2023-10-09T03:50:00.282485Z"
    }
   },
   "outputs": [
    {
     "data": {
      "text/plain": [
       "[1, 2, 3, 5]"
      ]
     },
     "execution_count": 87,
     "metadata": {},
     "output_type": "execute_result"
    }
   ],
   "source": [
    "# 去重\n",
    "c = {1,2,3,5,1,2}\n",
    "c\n",
    "# 为什么直接就去掉了啊？？\n",
    "c = list(set(c))\n",
    "c\n",
    "# 应该这样"
   ]
  },
  {
   "cell_type": "code",
   "execution_count": 97,
   "id": "fbc571b2",
   "metadata": {
    "ExecuteTime": {
     "end_time": "2023-10-09T03:57:28.314576Z",
     "start_time": "2023-10-09T03:57:28.300201Z"
    }
   },
   "outputs": [
    {
     "data": {
      "text/plain": [
       "{'a', 'd', 'e', 'i', 'k', 'l', 'n', 'o', 's'}"
      ]
     },
     "execution_count": 97,
     "metadata": {},
     "output_type": "execute_result"
    }
   ],
   "source": [
    "# 删除一个元素\n",
    "s = set('akjsdlkbjioaenj')\n",
    "try:\n",
    "    s.remove('b')\n",
    "    s.remove('x')\n",
    "except:\n",
    "    pass\n",
    "#equal to\n",
    "s.discard('j')\n",
    "s"
   ]
  },
  {
   "cell_type": "code",
   "execution_count": 99,
   "id": "3459729f",
   "metadata": {
    "ExecuteTime": {
     "end_time": "2023-10-09T04:00:00.829114Z",
     "start_time": "2023-10-09T04:00:00.817431Z"
    }
   },
   "outputs": [
    {
     "data": {
      "text/plain": [
       "({1, 2, 3, 4, 5}, {1, 2}, {3}, {4, 5}, {3, 4, 5})"
      ]
     },
     "execution_count": 99,
     "metadata": {},
     "output_type": "execute_result"
    }
   ],
   "source": [
    "#\n",
    "a = {1,2,3}\n",
    "b = {4,5,2,1}\n",
    "a | b, a & b, a - b, b - a, a^b\n",
    "# 并集 交集 "
   ]
  },
  {
   "cell_type": "code",
   "execution_count": 104,
   "id": "2f5f2bcf",
   "metadata": {
    "ExecuteTime": {
     "end_time": "2023-10-09T04:02:43.123823Z",
     "start_time": "2023-10-09T04:02:43.110387Z"
    }
   },
   "outputs": [
    {
     "data": {
      "text/plain": [
       "True"
      ]
     },
     "execution_count": 104,
     "metadata": {},
     "output_type": "execute_result"
    }
   ],
   "source": [
    "{2,3}.issubset({1,2,4}) # issubset() - 是否是子集\n",
    "{2,3}.intersection({1,2,4}) # 求交集\n",
    "{1,2,3}.issuperset({1,2}) # issuperset() - 是否是“父集合”"
   ]
  },
  {
   "cell_type": "markdown",
   "id": "f357a22f",
   "metadata": {},
   "source": [
    "## 字典\n",
    "无序 可修改"
   ]
  },
  {
   "cell_type": "code",
   "execution_count": 105,
   "id": "43d53dd9",
   "metadata": {
    "ExecuteTime": {
     "end_time": "2023-10-09T04:04:29.784423Z",
     "start_time": "2023-10-09T04:04:29.774746Z"
    }
   },
   "outputs": [
    {
     "data": {
      "text/plain": [
       "{'a': 1, 'b': 2}"
      ]
     },
     "execution_count": 105,
     "metadata": {},
     "output_type": "execute_result"
    }
   ],
   "source": [
    "dc = {'a':1,'b':2}\n",
    "dc"
   ]
  },
  {
   "cell_type": "code",
   "execution_count": 106,
   "id": "8afda881",
   "metadata": {
    "ExecuteTime": {
     "end_time": "2023-10-09T04:04:46.063141Z",
     "start_time": "2023-10-09T04:04:46.052081Z"
    }
   },
   "outputs": [
    {
     "data": {
      "text/plain": [
       "(1, 2)"
      ]
     },
     "execution_count": 106,
     "metadata": {},
     "output_type": "execute_result"
    }
   ],
   "source": [
    "dc['a'],dc['b']"
   ]
  },
  {
   "cell_type": "code",
   "execution_count": 108,
   "id": "507846ab",
   "metadata": {
    "ExecuteTime": {
     "end_time": "2023-10-09T04:05:00.045478Z",
     "start_time": "2023-10-09T04:05:00.033561Z"
    }
   },
   "outputs": [
    {
     "data": {
      "text/plain": [
       "{'a': 1, 'b': 2, 'c': 999}"
      ]
     },
     "execution_count": 108,
     "metadata": {},
     "output_type": "execute_result"
    }
   ],
   "source": [
    "dc['c']=999\n",
    "dc"
   ]
  },
  {
   "cell_type": "code",
   "execution_count": 109,
   "id": "fa0a4b9e",
   "metadata": {
    "ExecuteTime": {
     "end_time": "2023-10-09T04:05:11.436654Z",
     "start_time": "2023-10-09T04:05:11.424486Z"
    }
   },
   "outputs": [
    {
     "data": {
      "text/plain": [
       "{'a': 1, 'b': 2}"
      ]
     },
     "execution_count": 109,
     "metadata": {},
     "output_type": "execute_result"
    }
   ],
   "source": [
    "del dc['c']\n",
    "dc"
   ]
  },
  {
   "cell_type": "code",
   "execution_count": 110,
   "id": "c85b6c64",
   "metadata": {
    "ExecuteTime": {
     "end_time": "2023-10-09T04:05:46.489196Z",
     "start_time": "2023-10-09T04:05:46.475283Z"
    }
   },
   "outputs": [
    {
     "data": {
      "text/plain": [
       "{'a': 1, 'b': 2, 'c': [1, 2, {3, 4}, 3, (55, 66)]}"
      ]
     },
     "execution_count": 110,
     "metadata": {},
     "output_type": "execute_result"
    }
   ],
   "source": [
    "dc['c']=[1,2,{3,4},3,(55,66)]\n",
    "dc"
   ]
  },
  {
   "cell_type": "code",
   "execution_count": null,
   "id": "53e64ba1",
   "metadata": {},
   "outputs": [],
   "source": []
  }
 ],
 "metadata": {
  "kernelspec": {
   "display_name": "Python 3 (ipykernel)",
   "language": "python",
   "name": "python3"
  },
  "language_info": {
   "codemirror_mode": {
    "name": "ipython",
    "version": 3
   },
   "file_extension": ".py",
   "mimetype": "text/x-python",
   "name": "python",
   "nbconvert_exporter": "python",
   "pygments_lexer": "ipython3",
   "version": "3.11.4"
  },
  "toc": {
   "base_numbering": 1,
   "nav_menu": {},
   "number_sections": true,
   "sideBar": true,
   "skip_h1_title": false,
   "title_cell": "Table of Contents",
   "title_sidebar": "Contents",
   "toc_cell": false,
   "toc_position": {
    "height": "calc(100% - 180px)",
    "left": "10px",
    "top": "150px",
    "width": "368.727px"
   },
   "toc_section_display": true,
   "toc_window_display": true
  }
 },
 "nbformat": 4,
 "nbformat_minor": 5
}
