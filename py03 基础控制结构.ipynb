{
 "cells": [
  {
   "cell_type": "markdown",
   "id": "a89b238a",
   "metadata": {
    "heading_collapsed": true
   },
   "source": [
    "# 表达式"
   ]
  },
  {
   "cell_type": "code",
   "execution_count": 3,
   "id": "72d4945f",
   "metadata": {
    "ExecuteTime": {
     "end_time": "2023-09-18T03:37:10.847724Z",
     "start_time": "2023-09-18T03:37:10.832686Z"
    },
    "hidden": true
   },
   "outputs": [
    {
     "data": {
      "text/plain": [
       "False"
      ]
     },
     "execution_count": 3,
     "metadata": {},
     "output_type": "execute_result"
    }
   ],
   "source": [
    "a,b,c = 1,2,1\n",
    "a==b,a==c,a!=c,b>2,b>=2\n",
    "(a==b)and(b>=2)"
   ]
  },
  {
   "cell_type": "code",
   "execution_count": 5,
   "id": "35b194ea",
   "metadata": {
    "ExecuteTime": {
     "end_time": "2023-09-18T03:40:40.243711Z",
     "start_time": "2023-09-18T03:40:40.233712Z"
    },
    "hidden": true
   },
   "outputs": [
    {
     "name": "stdout",
     "output_type": "stream",
     "text": [
      "xxx\n",
      "xxx\n"
     ]
    }
   ],
   "source": [
    "y=5\n",
    "if( 9 > y ) and ( y > 2 ):print('xxx')\n",
    "if 9 > y > 2 : print('xxx') # 链式比较 better!"
   ]
  },
  {
   "cell_type": "code",
   "execution_count": 9,
   "id": "d3d7d761",
   "metadata": {
    "ExecuteTime": {
     "end_time": "2023-09-18T03:47:34.323424Z",
     "start_time": "2023-09-18T03:47:34.307679Z"
    },
    "hidden": true
   },
   "outputs": [
    {
     "data": {
      "text/plain": [
       "(False, False, True)"
      ]
     },
     "execution_count": 9,
     "metadata": {},
     "output_type": "execute_result"
    }
   ],
   "source": [
    "# 多条件判断\n",
    "a = [True,False ]\n",
    "b = [0,0,False]\n",
    "c = [1,True,1]\n",
    "\n",
    "any(a),any(b),any(c)\n",
    "all(a),all(b),all(c)"
   ]
  },
  {
   "cell_type": "code",
   "execution_count": 11,
   "id": "90adaf08",
   "metadata": {
    "ExecuteTime": {
     "end_time": "2023-09-18T03:50:17.233567Z",
     "start_time": "2023-09-18T03:50:17.222534Z"
    },
    "hidden": true
   },
   "outputs": [
    {
     "name": "stdout",
     "output_type": "stream",
     "text": [
      "ok\n",
      "ok\n"
     ]
    }
   ],
   "source": [
    "a,b,c = 1,2,3\n",
    "if(a==1)and(b!=3)and(c==3):print('ok')\n",
    "if all([(a==1),(b!=3),(c==3)]): print('ok') # better!"
   ]
  },
  {
   "cell_type": "code",
   "execution_count": 13,
   "id": "143f383c",
   "metadata": {
    "ExecuteTime": {
     "end_time": "2023-09-18T03:56:22.464514Z",
     "start_time": "2023-09-18T03:56:22.452874Z"
    },
    "hidden": true
   },
   "outputs": [
    {
     "data": {
      "text/plain": [
       "True"
      ]
     },
     "execution_count": 13,
     "metadata": {},
     "output_type": "execute_result"
    }
   ],
   "source": [
    "# 不一定\n",
    "name = '敦煌'\n",
    "any ([name == '武威',\n",
    "      name == '张掖',\n",
    "      name == '敦煌',\n",
    "      name == '嘉峪关',\n",
    "     ])\n",
    "name in ['武威','张掖', '敦煌','嘉峪关']\n",
    "name in '武威 张掖 敦煌 嘉峪关'\n",
    "# 下面两种better!"
   ]
  },
  {
   "cell_type": "markdown",
   "id": "85d89185",
   "metadata": {},
   "source": [
    "# 选择"
   ]
  },
  {
   "cell_type": "code",
   "execution_count": 15,
   "id": "1f372dda",
   "metadata": {
    "ExecuteTime": {
     "end_time": "2023-09-18T03:58:52.891638Z",
     "start_time": "2023-09-18T03:58:52.883304Z"
    }
   },
   "outputs": [
    {
     "name": "stdout",
     "output_type": "stream",
     "text": [
      "yes 1\n"
     ]
    }
   ],
   "source": [
    "a = 1\n",
    "if a == 1: print('yes 1')\n",
    "else:\n",
    "    print('not 1')"
   ]
  },
  {
   "cell_type": "code",
   "execution_count": 4,
   "id": "12b57187",
   "metadata": {
    "ExecuteTime": {
     "end_time": "2023-09-20T00:37:01.081592Z",
     "start_time": "2023-09-20T00:37:01.066293Z"
    }
   },
   "outputs": [
    {
     "name": "stdout",
     "output_type": "stream",
     "text": [
      "y\n",
      "n\n",
      "n\n",
      "y\n"
     ]
    }
   ],
   "source": [
    "a = 0.25\n",
    "a ='lzu'\n",
    "if a: print('y')\n",
    "else: print('n')\n",
    "a = ''\n",
    "a = []\n",
    "a = None\n",
    "if a: print('y')\n",
    "else: print('n')\n",
    "def ff():\n",
    "    n=1\n",
    "a=ff()\n",
    "if a : \n",
    "    print('y')\n",
    "else:\n",
    "     print('n')\n",
    "a=[\" \"]\n",
    "if a : \n",
    "    print('y')\n",
    "else:\n",
    "     print('n')"
   ]
  },
  {
   "cell_type": "code",
   "execution_count": 14,
   "id": "6551f8f3",
   "metadata": {
    "ExecuteTime": {
     "end_time": "2023-09-20T00:47:51.375945Z",
     "start_time": "2023-09-20T00:47:51.363671Z"
    }
   },
   "outputs": [
    {
     "data": {
      "text/plain": [
       "2"
      ]
     },
     "execution_count": 14,
     "metadata": {},
     "output_type": "execute_result"
    }
   ],
   "source": [
    "# **\n",
    "y=1\n",
    "3 if (y<=0) else 2 if (y>=-1) else 1"
   ]
  },
  {
   "cell_type": "code",
   "execution_count": 15,
   "id": "f95f36d2",
   "metadata": {
    "ExecuteTime": {
     "end_time": "2023-09-20T00:47:54.185621Z",
     "start_time": "2023-09-20T00:47:54.169738Z"
    }
   },
   "outputs": [
    {
     "data": {
      "text/plain": [
       "2"
      ]
     },
     "execution_count": 15,
     "metadata": {},
     "output_type": "execute_result"
    }
   ],
   "source": [
    "3 if (y<=0) \\\n",
    "else 2 if (y>=-1)\\\n",
    "else 1"
   ]
  },
  {
   "cell_type": "code",
   "execution_count": 16,
   "id": "f4c08895",
   "metadata": {
    "ExecuteTime": {
     "end_time": "2023-09-20T00:47:56.755988Z",
     "start_time": "2023-09-20T00:47:56.737401Z"
    }
   },
   "outputs": [
    {
     "data": {
      "text/plain": [
       "{2}"
      ]
     },
     "execution_count": 16,
     "metadata": {},
     "output_type": "execute_result"
    }
   ],
   "source": [
    "{\n",
    "    3 if (y<=0) \n",
    "    else \n",
    "    2 if (y>=-1) \n",
    "    else \n",
    "    1\n",
    "}"
   ]
  },
  {
   "cell_type": "code",
   "execution_count": 32,
   "id": "c4b7dad5",
   "metadata": {
    "ExecuteTime": {
     "end_time": "2023-09-20T00:59:15.769624Z",
     "start_time": "2023-09-20T00:59:13.042663Z"
    }
   },
   "outputs": [
    {
     "name": "stdout",
     "output_type": "stream",
     "text": [
      "5\n",
      "5\n",
      "6\n",
      "False\n"
     ]
    }
   ],
   "source": [
    "s,lv='小兰',( bmi:=int( input() ) )>23\n",
    "print(bmi)\n",
    "\n",
    "bmi2=int(input())>23\n",
    "s,lv='小兰'\n",
    "print(bmi2)"
   ]
  },
  {
   "cell_type": "code",
   "execution_count": 37,
   "id": "50bcd276",
   "metadata": {
    "ExecuteTime": {
     "end_time": "2023-09-20T01:00:33.360914Z",
     "start_time": "2023-09-20T01:00:31.715145Z"
    }
   },
   "outputs": [
    {
     "name": "stdout",
     "output_type": "stream",
     "text": [
      "5\n",
      "小兰不用多吃蔬菜\n",
      "小兰不用多吃蔬菜\n"
     ]
    }
   ],
   "source": [
    "bmi=int(input())\n",
    "s,lv='小兰',bmi>23\n",
    "print(s+('应该' if lv else '不用')+'多吃蔬菜')\n",
    "xx=('应该' if lv else '不用')\n",
    "print(f'{s}{xx}多吃蔬菜')"
   ]
  },
  {
   "cell_type": "code",
   "execution_count": 25,
   "id": "c92bf016",
   "metadata": {
    "ExecuteTime": {
     "end_time": "2023-09-18T04:07:29.298444Z",
     "start_time": "2023-09-18T04:07:29.287913Z"
    }
   },
   "outputs": [
    {
     "data": {
      "text/plain": [
       "'男'"
      ]
     },
     "execution_count": 25,
     "metadata": {},
     "output_type": "execute_result"
    }
   ],
   "source": [
    "# x if 表达式 else y\n",
    "g = 'male'\n",
    "s = '男' if g == 'male' else '女'\n",
    "s"
   ]
  },
  {
   "cell_type": "code",
   "execution_count": 26,
   "id": "7d8ef101",
   "metadata": {
    "ExecuteTime": {
     "end_time": "2023-09-18T04:11:25.113082Z",
     "start_time": "2023-09-18T04:11:25.102730Z"
    }
   },
   "outputs": [
    {
     "name": "stdout",
     "output_type": "stream",
     "text": [
      "1\n",
      "2\n"
     ]
    }
   ],
   "source": [
    "#嵌套\n",
    "k=10\n",
    "\n",
    "if k != 1:\n",
    "    print('1')\n",
    "    if k>9 :\n",
    "        print('2')\n",
    "else:\n",
    "    print('3')"
   ]
  },
  {
   "cell_type": "markdown",
   "id": "f0c1d259",
   "metadata": {},
   "source": [
    "# 循环"
   ]
  },
  {
   "cell_type": "code",
   "execution_count": 47,
   "id": "30fd5b8a",
   "metadata": {
    "ExecuteTime": {
     "end_time": "2023-09-20T01:05:04.268979Z",
     "start_time": "2023-09-20T01:05:04.254911Z"
    }
   },
   "outputs": [
    {
     "data": {
      "text/plain": [
       "5050"
      ]
     },
     "execution_count": 47,
     "metadata": {},
     "output_type": "execute_result"
    }
   ],
   "source": [
    "n,s=100,0\n",
    "while n>0: s+=n;n-=1\n",
    "s"
   ]
  },
  {
   "cell_type": "code",
   "execution_count": 42,
   "id": "9be6b817",
   "metadata": {
    "ExecuteTime": {
     "end_time": "2023-09-20T01:02:55.073675Z",
     "start_time": "2023-09-20T01:02:55.058152Z"
    }
   },
   "outputs": [
    {
     "data": {
      "text/plain": [
       "5050"
      ]
     },
     "execution_count": 42,
     "metadata": {},
     "output_type": "execute_result"
    }
   ],
   "source": [
    "#break\n",
    "n,s=100,0\n",
    "while True:\n",
    "    s+=n;n-=1\n",
    "    if n==0:break\n",
    "s"
   ]
  },
  {
   "cell_type": "code",
   "execution_count": 46,
   "id": "7e9e0a97",
   "metadata": {
    "ExecuteTime": {
     "end_time": "2023-09-20T01:04:41.566314Z",
     "start_time": "2023-09-20T01:04:41.551016Z"
    }
   },
   "outputs": [
    {
     "name": "stdout",
     "output_type": "stream",
     "text": [
      "9,7,5,3,1,"
     ]
    }
   ],
   "source": [
    "#continue\n",
    "n=10\n",
    "while n > 0:\n",
    "    n-=1\n",
    "    if not (n%2):continue\n",
    "    print(n,end=',')"
   ]
  },
  {
   "cell_type": "code",
   "execution_count": 54,
   "id": "6f1c770e",
   "metadata": {
    "ExecuteTime": {
     "end_time": "2023-09-20T01:10:48.624428Z",
     "start_time": "2023-09-20T01:10:48.607554Z"
    }
   },
   "outputs": [
    {
     "name": "stdout",
     "output_type": "stream",
     "text": [
      "0,1,2,3,4,5,6,7,8,9,10,11,12,13,14,15,16,17,18,19,20,21,22,23,24,25,26,27,28,29,30,31,32,33,34,35,36,37,38,39,40,41,42,43,44,45,46,47,48,49,50,51,52,53,54,55,56,57,58,59,60,61,62,63,64,65,66,67,68,69,70,71,72,73,74,75,76,77,78,79,80,81,82,83,84,85,86,87,88,89,90,91,92,93,94,95,96,97,98,99,100,"
     ]
    },
    {
     "data": {
      "text/plain": [
       "5050"
      ]
     },
     "execution_count": 54,
     "metadata": {},
     "output_type": "execute_result"
    }
   ],
   "source": [
    "#for\n",
    "list(range(10))\n",
    "s=0\n",
    "for n in range(101):\n",
    "    s+=n\n",
    "    print(n,end=\",\")\n",
    "s"
   ]
  },
  {
   "cell_type": "code",
   "execution_count": 57,
   "id": "fdd80359",
   "metadata": {
    "ExecuteTime": {
     "end_time": "2023-09-20T01:13:06.762174Z",
     "start_time": "2023-09-20T01:13:06.746258Z"
    }
   },
   "outputs": [
    {
     "name": "stdout",
     "output_type": "stream",
     "text": [
      "0,1,2,3,4,5,6,7,8,9,10,11,12,13,14,15,16,17,18,19,20,21,22,23,24,25,26,27,28,29,30,31,32,33,34,35,36,37,38,39,40,41,42,43,44,45,46,47,48,49,50,51,52,53,54,55,56,57,58,59,60,61,62,63,64,65,66,67,68,69,70,71,72,73,74,75,76,77,78,79,80,81,82,83,84,85,86,87,88,89,90,91,92,93,94,95,96,97,98,99,100,"
     ]
    },
    {
     "data": {
      "text/plain": [
       "True"
      ]
     },
     "execution_count": 57,
     "metadata": {},
     "output_type": "execute_result"
    }
   ],
   "source": [
    "def ff(x):\n",
    "    s=0\n",
    "    for n in range(x+1):\n",
    "        s+=n\n",
    "        print(n,end=\",\")\n",
    "    return s\n",
    "ff(100)==sum(range(101))"
   ]
  },
  {
   "cell_type": "code",
   "execution_count": 74,
   "id": "54b09de0",
   "metadata": {
    "ExecuteTime": {
     "end_time": "2023-09-20T01:39:08.087439Z",
     "start_time": "2023-09-20T01:39:08.071437Z"
    }
   },
   "outputs": [
    {
     "data": {
      "text/plain": [
       "True"
      ]
     },
     "execution_count": 74,
     "metadata": {},
     "output_type": "execute_result"
    }
   ],
   "source": [
    "# 递归求和\n",
    "def ff(x):\n",
    "    if x>0:\n",
    "        return x+ff(x-1)\n",
    "    else:\n",
    "        return 0\n",
    "ff(100)==sum(range(101))"
   ]
  },
  {
   "cell_type": "code",
   "execution_count": 77,
   "id": "b42239ad",
   "metadata": {
    "ExecuteTime": {
     "end_time": "2023-09-20T01:41:18.576048Z",
     "start_time": "2023-09-20T01:41:18.551078Z"
    }
   },
   "outputs": [
    {
     "data": {
      "text/plain": [
       "True"
      ]
     },
     "execution_count": 77,
     "metadata": {},
     "output_type": "execute_result"
    }
   ],
   "source": [
    "def ff(n):\n",
    "    if n==1:return 1\n",
    "    try:\n",
    "        return n+ff(n-1)\n",
    "    except:\n",
    "#        print(\"overflow\")\n",
    "        return None\n",
    "ff(3001)==None"
   ]
  },
  {
   "cell_type": "markdown",
   "id": "7217fdbb",
   "metadata": {},
   "source": [
    "## for else"
   ]
  },
  {
   "cell_type": "code",
   "execution_count": 103,
   "id": "1883edc7",
   "metadata": {
    "ExecuteTime": {
     "end_time": "2023-09-20T01:54:03.336368Z",
     "start_time": "2023-09-20T01:54:03.325350Z"
    }
   },
   "outputs": [
    {
     "name": "stdout",
     "output_type": "stream",
     "text": [
      "['a', 'b', 'c', 'dd', 'ee']\n",
      "['a', 'bb', 'cc', 'ee f', 'ee']\n"
     ]
    }
   ],
   "source": [
    "# sl 中的元素是否在 s2 中出现\n",
    "s1='a b c    dd ee'.split()\n",
    "print(s1)\n",
    "s2='a,bb,cc,ee f,ee'.split(',')\n",
    "print(s2)"
   ]
  },
  {
   "cell_type": "code",
   "execution_count": 108,
   "id": "66fc4650",
   "metadata": {
    "ExecuteTime": {
     "end_time": "2023-09-20T01:56:55.428121Z",
     "start_time": "2023-09-20T01:56:55.414522Z"
    }
   },
   "outputs": [
    {
     "name": "stdout",
     "output_type": "stream",
     "text": [
      "get:a\n",
      "not get: b\n",
      "not get: c\n",
      "not get: dd\n",
      "get:ee\n"
     ]
    }
   ],
   "source": [
    "def ff(w,s):\n",
    "    is_find=False\n",
    "    for ww in s:\n",
    "        if w==ww:\n",
    "            is_find=True\n",
    "            break\n",
    "    if is_find:\n",
    "        return f'get:{ww}'\n",
    "    return f'not get: {w}'\n",
    "\n",
    "for k in s1:\n",
    "    print(ff(k,s2))"
   ]
  },
  {
   "cell_type": "code",
   "execution_count": 110,
   "id": "93a2c6e9",
   "metadata": {
    "ExecuteTime": {
     "end_time": "2023-09-20T01:57:06.829641Z",
     "start_time": "2023-09-20T01:57:06.817739Z"
    }
   },
   "outputs": [
    {
     "name": "stdout",
     "output_type": "stream",
     "text": [
      "get:a\n",
      "not get: b\n",
      "not get: c\n",
      "not get: dd\n",
      "get:ee\n"
     ]
    }
   ],
   "source": [
    "def ff(w,s):\n",
    "#    is_find=False\n",
    "    for ww in s:\n",
    "        if w==ww:\n",
    "#            is_find=True\n",
    "            break\n",
    "    else:\n",
    "        return f'not get: {w}'\n",
    "    return f'get:{ww}'\n",
    "for k in s1:\n",
    "    print(ff(k,s2))"
   ]
  },
  {
   "cell_type": "code",
   "execution_count": null,
   "id": "1d63fc9a",
   "metadata": {},
   "outputs": [],
   "source": []
  }
 ],
 "metadata": {
  "kernelspec": {
   "display_name": "Python 3 (ipykernel)",
   "language": "python",
   "name": "python3"
  },
  "language_info": {
   "codemirror_mode": {
    "name": "ipython",
    "version": 3
   },
   "file_extension": ".py",
   "mimetype": "text/x-python",
   "name": "python",
   "nbconvert_exporter": "python",
   "pygments_lexer": "ipython3",
   "version": "3.11.4"
  },
  "toc": {
   "base_numbering": 1,
   "nav_menu": {},
   "number_sections": true,
   "sideBar": true,
   "skip_h1_title": false,
   "title_cell": "Table of Contents",
   "title_sidebar": "Contents",
   "toc_cell": false,
   "toc_position": {
    "height": "calc(100% - 180px)",
    "left": "10px",
    "top": "150px",
    "width": "220.174px"
   },
   "toc_section_display": true,
   "toc_window_display": true
  }
 },
 "nbformat": 4,
 "nbformat_minor": 5
}
