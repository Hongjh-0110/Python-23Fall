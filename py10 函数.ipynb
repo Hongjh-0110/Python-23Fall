{
 "cells": [
  {
   "cell_type": "markdown",
   "id": "b24ea9fd",
   "metadata": {},
   "source": [
    "- 参数是函数的函数，又叫高阶函数\n",
    "- 函数式编程风格：函数进去或者出来是一个函数\n",
    "- 特别适合数据处理\n",
    "- fff(Data).yyy().zzz().ggg()"
   ]
  },
  {
   "cell_type": "code",
   "execution_count": 6,
   "id": "8c60c6b3",
   "metadata": {
    "ExecuteTime": {
     "end_time": "2023-11-20T02:59:33.252053Z",
     "start_time": "2023-11-20T02:59:33.228129Z"
    }
   },
   "outputs": [
    {
     "data": {
      "text/plain": [
       "([8, 11, 14, 17, 20], [3, 7, 5, 9, 7], [29, 39, 49, 59, 69])"
      ]
     },
     "execution_count": 6,
     "metadata": {},
     "output_type": "execute_result"
    }
   ],
   "source": [
    "def f1(x,y):\n",
    "    return x if x%2 else x+y\n",
    "# def f2(x,y)->int:\n",
    "#     return x*y-1\n",
    "def f2(x,y):\n",
    "    return x*y-1\n",
    "def myapply(ff,data,z=3):\n",
    "    return [ff(x,z) for x in data if x>2]\n",
    "data=range(8)\n",
    "myapply(f2,data),myapply(f1,data),myapply(f2,data,10)"
   ]
  },
  {
   "cell_type": "markdown",
   "id": "7519e9d2",
   "metadata": {},
   "source": [
    "### 常用高阶函数\n",
    "map、reduce、filter、sort"
   ]
  },
  {
   "cell_type": "code",
   "execution_count": 8,
   "id": "1537c0c4",
   "metadata": {
    "ExecuteTime": {
     "end_time": "2023-11-20T03:04:14.742912Z",
     "start_time": "2023-11-20T03:04:14.730909Z"
    }
   },
   "outputs": [
    {
     "data": {
      "text/plain": [
       "True"
      ]
     },
     "execution_count": 8,
     "metadata": {},
     "output_type": "execute_result"
    }
   ],
   "source": [
    "data =[1,2,3,4,5]\n",
    "def ff(x):\n",
    "    return x**2\n",
    "[*map(ff,data)]==[ff(x) for x in data]\n",
    "# 对数据进行处理"
   ]
  },
  {
   "cell_type": "code",
   "execution_count": 10,
   "id": "1d89e213",
   "metadata": {
    "ExecuteTime": {
     "end_time": "2023-11-20T03:06:58.898842Z",
     "start_time": "2023-11-20T03:06:58.887754Z"
    }
   },
   "outputs": [
    {
     "data": {
      "text/plain": [
       "True"
      ]
     },
     "execution_count": 10,
     "metadata": {},
     "output_type": "execute_result"
    }
   ],
   "source": [
    "def ff(x):\n",
    "    return x%2\n",
    "[*filter(ff,data)]==[x for x in data if ff(x)]\n",
    "# 对数据进行选择"
   ]
  },
  {
   "cell_type": "code",
   "execution_count": null,
   "id": "ddc5baf2",
   "metadata": {},
   "outputs": [],
   "source": [
    "map / reduce"
   ]
  },
  {
   "cell_type": "code",
   "execution_count": 11,
   "id": "cef55ad6",
   "metadata": {
    "ExecuteTime": {
     "end_time": "2023-11-20T03:09:17.032745Z",
     "start_time": "2023-11-20T03:09:17.019823Z"
    }
   },
   "outputs": [
    {
     "data": {
      "text/plain": [
       "15"
      ]
     },
     "execution_count": 11,
     "metadata": {},
     "output_type": "execute_result"
    }
   ],
   "source": [
    "def ff(x,y):\n",
    "    return x+y\n",
    "x=data[0]\n",
    "for y in data[1:]:\n",
    "    x=ff(x,y)\n",
    "x\n",
    "# 流水线，选数据+处理"
   ]
  },
  {
   "cell_type": "code",
   "execution_count": 12,
   "id": "a067fa80",
   "metadata": {
    "ExecuteTime": {
     "end_time": "2023-11-20T03:13:03.397892Z",
     "start_time": "2023-11-20T03:13:03.385372Z"
    }
   },
   "outputs": [
    {
     "data": {
      "text/plain": [
       "15"
      ]
     },
     "execution_count": 12,
     "metadata": {},
     "output_type": "execute_result"
    }
   ],
   "source": [
    "from functools import reduce\n",
    "reduce(ff,data)"
   ]
  },
  {
   "cell_type": "code",
   "execution_count": 18,
   "id": "46d2c04b",
   "metadata": {
    "ExecuteTime": {
     "end_time": "2023-11-20T03:22:23.519595Z",
     "start_time": "2023-11-20T03:22:23.511058Z"
    }
   },
   "outputs": [
    {
     "name": "stdout",
     "output_type": "stream",
     "text": [
      "Help on built-in function reduce in module _functools:\n",
      "\n",
      "reduce(...)\n",
      "    reduce(function, iterable[, initial]) -> value\n",
      "    \n",
      "    Apply a function of two arguments cumulatively to the items of a sequence\n",
      "    or iterable, from left to right, so as to reduce the iterable to a single\n",
      "    value.  For example, reduce(lambda x, y: x+y, [1, 2, 3, 4, 5]) calculates\n",
      "    ((((1+2)+3)+4)+5).  If initial is present, it is placed before the items\n",
      "    of the iterable in the calculation, and serves as a default when the\n",
      "    iterable is empty.\n",
      "\n"
     ]
    }
   ],
   "source": [
    "help(reduce)"
   ]
  },
  {
   "cell_type": "code",
   "execution_count": 19,
   "id": "c7acf9d9",
   "metadata": {
    "ExecuteTime": {
     "end_time": "2023-11-20T03:26:07.140214Z",
     "start_time": "2023-11-20T03:26:07.127936Z"
    }
   },
   "outputs": [
    {
     "data": {
      "text/plain": [
       "' a = *ttt*W******.gj'"
      ]
     },
     "execution_count": 19,
     "metadata": {},
     "output_type": "execute_result"
    }
   ],
   "source": [
    "s = ' a = 0ttt,W@dd,dd.gj'\n",
    "f=[(',','*'),('@','*'),('0','*'),('d','*')]\n",
    "reduce(lambda x,y:x.replace(y[0],y[1]),[s]+f)\n",
    "# 老师版本"
   ]
  },
  {
   "cell_type": "code",
   "execution_count": 23,
   "id": "20a9c2a8",
   "metadata": {
    "ExecuteTime": {
     "end_time": "2023-11-20T03:29:49.982330Z",
     "start_time": "2023-11-20T03:29:49.970235Z"
    },
    "scrolled": true
   },
   "outputs": [
    {
     "data": {
      "text/plain": [
       "'a = *ttt*W******.gj'"
      ]
     },
     "execution_count": 23,
     "metadata": {},
     "output_type": "execute_result"
    }
   ],
   "source": [
    "def replace_chars(s, replacement):\n",
    "    return s.translate(str.maketrans(dict(zip(replacement, len(replacement)*'*'))))\n",
    "reduce(replace_chars, f, s)\n",
    "# ChatGPT 版本"
   ]
  },
  {
   "cell_type": "raw",
   "id": "f1092577",
   "metadata": {},
   "source": [
    "sort"
   ]
  },
  {
   "cell_type": "markdown",
   "id": "1da42ace",
   "metadata": {},
   "source": [
    "### 并行、并发\n",
    "- 放到多核分别运行\n",
    "- 比较大的主题，不讲"
   ]
  },
  {
   "cell_type": "markdown",
   "id": "98c79541",
   "metadata": {},
   "source": [
    "### 偏函数\n",
    "- 不知道也可以，不讲"
   ]
  },
  {
   "cell_type": "code",
   "execution_count": null,
   "id": "8ef1a221",
   "metadata": {},
   "outputs": [],
   "source": []
  }
 ],
 "metadata": {
  "kernelspec": {
   "display_name": "Python 3 (ipykernel)",
   "language": "python",
   "name": "python3"
  },
  "language_info": {
   "codemirror_mode": {
    "name": "ipython",
    "version": 3
   },
   "file_extension": ".py",
   "mimetype": "text/x-python",
   "name": "python",
   "nbconvert_exporter": "python",
   "pygments_lexer": "ipython3",
   "version": "3.11.4"
  },
  "toc": {
   "base_numbering": 1,
   "nav_menu": {},
   "number_sections": true,
   "sideBar": true,
   "skip_h1_title": false,
   "title_cell": "Table of Contents",
   "title_sidebar": "Contents",
   "toc_cell": false,
   "toc_position": {},
   "toc_section_display": true,
   "toc_window_display": false
  }
 },
 "nbformat": 4,
 "nbformat_minor": 5
}
