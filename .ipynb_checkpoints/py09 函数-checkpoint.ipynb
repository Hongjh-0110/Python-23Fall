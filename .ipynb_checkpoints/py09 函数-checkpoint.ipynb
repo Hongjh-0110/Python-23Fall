{
 "cells": [
  {
   "cell_type": "markdown",
   "id": "27b70aeb",
   "metadata": {},
   "source": [
    "# 函数参数传递方式"
   ]
  },
  {
   "cell_type": "code",
   "execution_count": 76,
   "id": "d886f21d",
   "metadata": {
    "ExecuteTime": {
     "end_time": "2023-11-13T03:56:44.622353Z",
     "start_time": "2023-11-13T03:56:44.611373Z"
    }
   },
   "outputs": [
    {
     "data": {
      "text/plain": [
       "5"
      ]
     },
     "execution_count": 76,
     "metadata": {},
     "output_type": "execute_result"
    }
   ],
   "source": [
    "# 值传递：字符串、数字、元组\n",
    "def ff(x):\n",
    "    x += 1\n",
    "a = 5\n",
    "ff(a)\n",
    "a"
   ]
  },
  {
   "cell_type": "code",
   "execution_count": 83,
   "id": "e6d0a9ec",
   "metadata": {
    "ExecuteTime": {
     "end_time": "2023-11-13T04:00:16.567608Z",
     "start_time": "2023-11-13T04:00:16.553884Z"
    }
   },
   "outputs": [
    {
     "data": {
      "text/plain": [
       "[0, 2, 1]"
      ]
     },
     "execution_count": 83,
     "metadata": {},
     "output_type": "execute_result"
    }
   ],
   "source": [
    "# 引用传递\n",
    "def ff(x):\n",
    "    x.append(1)\n",
    "def ff(x):\n",
    "    x.extend([1])\n",
    "def ff(x):\n",
    "    x = x + [1] # 赋值 产生新对象\n",
    "def ff(x):\n",
    "    x += [1] # 不产生新对象 语法问题\n",
    "a = [0,2]\n",
    "ff(a)\n",
    "a\n",
    "# 可能考\n",
    "# 3,4很奇怪\n",
    "\n",
    "# def ff(x,y = [])  不要这么写"
   ]
  },
  {
   "cell_type": "markdown",
   "id": "69a4fff6",
   "metadata": {},
   "source": [
    "# 函数参数传递形式"
   ]
  },
  {
   "cell_type": "code",
   "execution_count": 84,
   "id": "1aaaf8fd",
   "metadata": {
    "ExecuteTime": {
     "end_time": "2023-11-13T04:06:56.450772Z",
     "start_time": "2023-11-13T04:06:56.441772Z"
    }
   },
   "outputs": [
    {
     "name": "stdout",
     "output_type": "stream",
     "text": [
      "bill 65\n"
     ]
    }
   ],
   "source": [
    "# 普通参数、默认值\n",
    "def ff( name,age = 20 ):print(name,age)\n",
    "ff('bill','65')"
   ]
  },
  {
   "cell_type": "code",
   "execution_count": 88,
   "id": "d314e543",
   "metadata": {
    "ExecuteTime": {
     "end_time": "2023-11-13T04:11:34.761383Z",
     "start_time": "2023-11-13T04:11:34.750545Z"
    }
   },
   "outputs": [
    {
     "name": "stdout",
     "output_type": "stream",
     "text": [
      "bill 20\n",
      "bill 20\n"
     ]
    },
    {
     "data": {
      "text/plain": [
       "(None, None)"
      ]
     },
     "execution_count": 88,
     "metadata": {},
     "output_type": "execute_result"
    }
   ],
   "source": [
    "ff( name = 'bill',age = 20),ff( age = 20, name = 'bill' )"
   ]
  },
  {
   "cell_type": "code",
   "execution_count": 87,
   "id": "7482df17",
   "metadata": {
    "ExecuteTime": {
     "end_time": "2023-11-13T04:11:15.945841Z",
     "start_time": "2023-11-13T04:11:15.936906Z"
    }
   },
   "outputs": [
    {
     "name": "stdout",
     "output_type": "stream",
     "text": [
      "bill 20\n"
     ]
    }
   ],
   "source": [
    "name = 'bill'\n",
    "age = 20\n",
    "ff( name = name,age = age)"
   ]
  },
  {
   "cell_type": "raw",
   "id": "be3f5b18",
   "metadata": {
    "ExecuteTime": {
     "end_time": "2023-11-13T03:54:18.255318Z",
     "start_time": "2023-11-13T03:54:18.202738Z"
    }
   },
   "source": [
    "# 没有函数重载\n",
    "def ff(x):\n",
    "    return x\n",
    "def ff(x,y):\n",
    "    return x,y\n",
    "ff(1,2),ff(1)\n",
    "# 报错，因为把第一个函数冲掉了\n",
    "# C语言可以重载\n"
   ]
  },
  {
   "cell_type": "code",
   "execution_count": 2,
   "id": "682fff5b",
   "metadata": {
    "ExecuteTime": {
     "end_time": "2023-11-20T02:16:11.780850Z",
     "start_time": "2023-11-20T02:16:11.769182Z"
    }
   },
   "outputs": [
    {
     "name": "stdout",
     "output_type": "stream",
     "text": [
      "1 ()\n",
      "1 (2,)\n",
      "1 (2, 3)\n",
      "1 (2, [3, 4, 5])\n",
      "1 (2, [3, 4, 5], {'a': 1})\n",
      "1 ((1, 2, 3),)\n",
      "1 (1, 2, 3)\n"
     ]
    }
   ],
   "source": [
    "# 可变参数\n",
    "def ff(x,*y):\n",
    "    print(x,y)\n",
    "ff(1)\n",
    "ff(1,2)\n",
    "ff(1,2,3)\n",
    "ff(1,2,[3,4,5])\n",
    "ff(1,2,[3,4,5],dict(a=1))\n",
    "\n",
    "# 可变参数准备\n",
    "x=1,2,3\n",
    "ff(1,x)\n",
    "ff(1,*x)"
   ]
  },
  {
   "cell_type": "code",
   "execution_count": 3,
   "id": "1d9ec1ef",
   "metadata": {
    "ExecuteTime": {
     "end_time": "2023-11-20T02:17:24.673427Z",
     "start_time": "2023-11-20T02:17:24.663394Z"
    }
   },
   "outputs": [
    {
     "name": "stdout",
     "output_type": "stream",
     "text": [
      "1 (2, 3, 4) 5\n"
     ]
    }
   ],
   "source": [
    "# 可变参数后面不能是普通参数了 -->命名参数\n",
    "def ff(x,*y,z):\n",
    "    print(x,y,z)\n",
    "ff(1,2,3,4,z=5)"
   ]
  },
  {
   "cell_type": "code",
   "execution_count": 6,
   "id": "215ae149",
   "metadata": {
    "ExecuteTime": {
     "end_time": "2023-11-20T02:18:52.478166Z",
     "start_time": "2023-11-20T02:18:52.466816Z"
    }
   },
   "outputs": [
    {
     "name": "stdout",
     "output_type": "stream",
     "text": [
      "{'a': 1}\n",
      "{'a': 1, 'b': 2}\n",
      "{'a': 1, 'b': 2}\n"
     ]
    }
   ],
   "source": [
    "# 字典参数\n",
    "def ff(**z):\n",
    "    print(z)\n",
    "ff(a=1)\n",
    "ff(a=1,b=2)\n",
    "\n",
    "# 字典参数准备\n",
    "dd = {'a':1,'b':2}\n",
    "ff(**dd)\n",
    "#ff(dd) # 报错"
   ]
  },
  {
   "cell_type": "code",
   "execution_count": 11,
   "id": "637ae2b9",
   "metadata": {
    "ExecuteTime": {
     "end_time": "2023-11-20T02:20:38.485754Z",
     "start_time": "2023-11-20T02:20:38.473914Z"
    }
   },
   "outputs": [
    {
     "data": {
      "text/plain": [
       "(1, 2)"
      ]
     },
     "execution_count": 11,
     "metadata": {},
     "output_type": "execute_result"
    }
   ],
   "source": [
    "# 缺可变参数\n",
    "def ff(a,b):\n",
    "    return a,b\n",
    "def ff(a,*,b):\n",
    "    return a,b\n",
    "ff(1,b=2) # 调用没问题\n",
    "#ff(1,2) # 报错"
   ]
  },
  {
   "cell_type": "code",
   "execution_count": 14,
   "id": "d2102ce2",
   "metadata": {
    "ExecuteTime": {
     "end_time": "2023-11-20T02:21:22.566886Z",
     "start_time": "2023-11-20T02:21:22.555884Z"
    }
   },
   "outputs": [
    {
     "data": {
      "text/plain": [
       "2"
      ]
     },
     "execution_count": 14,
     "metadata": {},
     "output_type": "execute_result"
    }
   ],
   "source": [
    "# 连普通参数也没有\n",
    "def ff(*,b):\n",
    "    return b\n",
    "ff(b=2)"
   ]
  },
  {
   "cell_type": "code",
   "execution_count": 16,
   "id": "f227a877",
   "metadata": {
    "ExecuteTime": {
     "end_time": "2023-11-20T02:22:13.106244Z",
     "start_time": "2023-11-20T02:22:13.092559Z"
    }
   },
   "outputs": [
    {
     "data": {
      "text/plain": [
       "((2, 1), (1, 1), (1, 2))"
      ]
     },
     "execution_count": 16,
     "metadata": {},
     "output_type": "execute_result"
    }
   ],
   "source": [
    "# 命名参数带默认值\n",
    "def ff(a=2,*,b=1):\n",
    "    return a,b\n",
    "ff(),ff(1),ff(1,b=2)"
   ]
  },
  {
   "cell_type": "code",
   "execution_count": 19,
   "id": "f28f3a8a",
   "metadata": {
    "ExecuteTime": {
     "end_time": "2023-11-20T02:26:28.368132Z",
     "start_time": "2023-11-20T02:26:28.356130Z"
    }
   },
   "outputs": [
    {
     "name": "stdout",
     "output_type": "stream",
     "text": [
      "1 () 2 {}\n",
      "1 () 2 {'d': 3}\n",
      "1 () 2 {'d': 3, 'e': 4}\n",
      "1 () 2 {'d': 3, 'e': 4}\n",
      "1 () 2 {'d': 3, 'e': 4}\n"
     ]
    }
   ],
   "source": [
    "def ff(a,*b,c,**d):\n",
    "    print(a,b,c,d)\n",
    "# def ff(a,*b,**d,c):\n",
    "#     print(a,b,c,d)\n",
    "# 命名参数需要在字典参数前面\n",
    "ff(1,c=2)\n",
    "ff(1,c=2,d=3)\n",
    "ff(1,c=2,d=3,e=4)\n",
    "ff(1,d=3,e=4,c=2)\n",
    "ff(1,d=3,c=2,e=4)\n",
    "# 用的时候就不讲究了"
   ]
  },
  {
   "cell_type": "code",
   "execution_count": 22,
   "id": "4bcd2e2c",
   "metadata": {
    "ExecuteTime": {
     "end_time": "2023-11-20T02:29:27.453888Z",
     "start_time": "2023-11-20T02:29:27.445143Z"
    }
   },
   "outputs": [
    {
     "name": "stdout",
     "output_type": "stream",
     "text": [
      "普通参数： 1\n"
     ]
    }
   ],
   "source": [
    "def ff(id,uni='lzu',*args,dep='cs',**kwargs):\n",
    "    '''\n",
    "    id:普通参数\n",
    "    uni:带默认值普通参数\n",
    "    args:可变参数\n",
    "    dep:带默认值可变参数\n",
    "    kwargs:字典参数\n",
    "    '''\n",
    "    print('普通参数：',id)\n",
    "    pass\n",
    "ff(1)\n",
    "# ff(1,2,3,uni='cmu')"
   ]
  },
  {
   "cell_type": "code",
   "execution_count": 23,
   "id": "5ae1129c",
   "metadata": {
    "ExecuteTime": {
     "end_time": "2023-11-20T02:30:10.648138Z",
     "start_time": "2023-11-20T02:30:10.639875Z"
    }
   },
   "outputs": [],
   "source": [
    "def ff(*args,**kwargs):\n",
    "    print(args,kwargs) # 最通用的表示所有参数序列"
   ]
  },
  {
   "cell_type": "markdown",
   "id": "d49e1015",
   "metadata": {},
   "source": [
    "# 变量作用域"
   ]
  },
  {
   "cell_type": "code",
   "execution_count": 24,
   "id": "3a8d87c8",
   "metadata": {
    "ExecuteTime": {
     "end_time": "2023-11-20T02:32:49.050348Z",
     "start_time": "2023-11-20T02:32:49.034462Z"
    }
   },
   "outputs": [
    {
     "name": "stdout",
     "output_type": "stream",
     "text": [
      "i_n js 2837507553264\n"
     ]
    },
    {
     "data": {
      "text/plain": [
       "(140726404185800, None)"
      ]
     },
     "execution_count": 24,
     "metadata": {},
     "output_type": "execute_result"
    }
   ],
   "source": [
    "def pi(n):\n",
    "    print('i_n',n,id(n))\n",
    "def po(n):\n",
    "    print('o_n',n,id(n))\n",
    "def pp(s,n):\n",
    "    print(s.ljust(4),n,id(n))\n",
    "def ff(name):\n",
    "    name='js'\n",
    "    pi(name)\n",
    "name='py'\n",
    "id(name),ff(name)"
   ]
  },
  {
   "cell_type": "code",
   "execution_count": 26,
   "id": "e4aef98d",
   "metadata": {
    "ExecuteTime": {
     "end_time": "2023-11-20T02:33:31.506588Z",
     "start_time": "2023-11-20T02:33:31.495943Z"
    }
   },
   "outputs": [
    {
     "name": "stdout",
     "output_type": "stream",
     "text": [
      "o_n py 140726404185800\n"
     ]
    },
    {
     "data": {
      "text/plain": [
       "(140726404185800, None)"
      ]
     },
     "execution_count": 26,
     "metadata": {},
     "output_type": "execute_result"
    }
   ],
   "source": [
    "id(name),po(name)"
   ]
  },
  {
   "cell_type": "code",
   "execution_count": 27,
   "id": "4864daea",
   "metadata": {
    "ExecuteTime": {
     "end_time": "2023-11-20T02:34:16.274152Z",
     "start_time": "2023-11-20T02:34:16.261081Z"
    }
   },
   "outputs": [
    {
     "name": "stdout",
     "output_type": "stream",
     "text": [
      "i_n js 2837507553264\n"
     ]
    },
    {
     "data": {
      "text/plain": [
       "(140726404185800, None)"
      ]
     },
     "execution_count": 27,
     "metadata": {},
     "output_type": "execute_result"
    }
   ],
   "source": [
    "def ff(name):\n",
    "    name='js'\n",
    "    pi(name)\n",
    "name='py'\n",
    "id(name),ff(name)"
   ]
  },
  {
   "cell_type": "code",
   "execution_count": 28,
   "id": "0c418771",
   "metadata": {
    "ExecuteTime": {
     "end_time": "2023-11-20T02:35:17.633392Z",
     "start_time": "2023-11-20T02:35:17.623135Z"
    }
   },
   "outputs": [
    {
     "name": "stdout",
     "output_type": "stream",
     "text": [
      "o_n ['py'] 2837552984064\n"
     ]
    },
    {
     "data": {
      "text/plain": [
       "(2837552984064, None)"
      ]
     },
     "execution_count": 28,
     "metadata": {},
     "output_type": "execute_result"
    }
   ],
   "source": [
    "name=['py']\n",
    "id(name),po(name)"
   ]
  },
  {
   "cell_type": "code",
   "execution_count": 29,
   "id": "95e1ac1e",
   "metadata": {
    "ExecuteTime": {
     "end_time": "2023-11-20T02:35:49.440777Z",
     "start_time": "2023-11-20T02:35:49.428130Z"
    }
   },
   "outputs": [
    {
     "name": "stdout",
     "output_type": "stream",
     "text": [
      "i_n ['js'] 2837567080064\n"
     ]
    },
    {
     "data": {
      "text/plain": [
       "(2837552984064, None)"
      ]
     },
     "execution_count": 29,
     "metadata": {},
     "output_type": "execute_result"
    }
   ],
   "source": [
    "def ff(name):\n",
    "    name=['js']\n",
    "    pi(name)\n",
    "id(name),ff(name)"
   ]
  },
  {
   "cell_type": "code",
   "execution_count": 30,
   "id": "3b2ef0c5",
   "metadata": {
    "ExecuteTime": {
     "end_time": "2023-11-20T02:41:16.509855Z",
     "start_time": "2023-11-20T02:41:16.496221Z"
    }
   },
   "outputs": [
    {
     "name": "stdout",
     "output_type": "stream",
     "text": [
      "o_n ['py'] 2837552984064\n",
      "i_n ['js'] 2837566254656\n"
     ]
    },
    {
     "data": {
      "text/plain": [
       "(None, None)"
      ]
     },
     "execution_count": 30,
     "metadata": {},
     "output_type": "execute_result"
    }
   ],
   "source": [
    "def ff(name):\n",
    "    name=['js']\n",
    "    pi(name)\n",
    "po(name),ff(name)"
   ]
  },
  {
   "cell_type": "code",
   "execution_count": 32,
   "id": "f855925e",
   "metadata": {
    "ExecuteTime": {
     "end_time": "2023-11-20T02:43:46.942233Z",
     "start_time": "2023-11-20T02:43:46.932986Z"
    }
   },
   "outputs": [
    {
     "name": "stdout",
     "output_type": "stream",
     "text": [
      "i_n ['py'] 2837566254528\n",
      "o_n ['py'] 2837566254528\n"
     ]
    }
   ],
   "source": [
    "# 无参数传递：外层变量\n",
    "def ff():\n",
    "    pi(name)\n",
    "name = ['py']\n",
    "ff()\n",
    "po(name)"
   ]
  },
  {
   "cell_type": "code",
   "execution_count": 33,
   "id": "90cc4122",
   "metadata": {
    "ExecuteTime": {
     "end_time": "2023-11-20T02:45:05.307135Z",
     "start_time": "2023-11-20T02:45:05.297132Z"
    }
   },
   "outputs": [
    {
     "name": "stdout",
     "output_type": "stream",
     "text": [
      "i_n ['js'] 2837566865472\n",
      "o_n ['py'] 2837552984064\n"
     ]
    }
   ],
   "source": [
    "# 无参数传递：局部变量\n",
    "def ff():\n",
    "    name=['js']\n",
    "    pi(name)\n",
    "name = ['py']\n",
    "ff()\n",
    "po(name)"
   ]
  },
  {
   "cell_type": "code",
   "execution_count": 34,
   "id": "e5a55673",
   "metadata": {
    "ExecuteTime": {
     "end_time": "2023-11-20T02:56:18.501050Z",
     "start_time": "2023-11-20T02:56:18.487870Z"
    }
   },
   "outputs": [
    {
     "name": "stdout",
     "output_type": "stream",
     "text": [
      "g    go 2837506085232\n",
      "f1   py 140726404185800\n",
      "f21  py 140726404185800\n",
      "f22  js 2837507553264\n",
      "f23  ru 2837463276528\n",
      "f1   ru 2837463276528\n",
      "g    js 2837507553264\n"
     ]
    }
   ],
   "source": [
    "c='go'\n",
    "pp('g',c)\n",
    "def f1():\n",
    "    c='py'\n",
    "    pp('f1',c)\n",
    "    def f21():\n",
    "        pp('f21',c)\n",
    "    def f22():\n",
    "        global c\n",
    "        c='js'\n",
    "        pp('f22',c)\n",
    "    def f23():\n",
    "        nonlocal c\n",
    "        c='ru'\n",
    "        pp('f23',c)\n",
    "    f21(),f22(),f23()\n",
    "    pp('f1',c)\n",
    "f1()\n",
    "pp('g',c)"
   ]
  },
  {
   "cell_type": "code",
   "execution_count": 35,
   "id": "4aad3000",
   "metadata": {
    "ExecuteTime": {
     "end_time": "2023-11-20T02:57:04.479688Z",
     "start_time": "2023-11-20T02:57:04.468873Z"
    }
   },
   "outputs": [
    {
     "name": "stdout",
     "output_type": "stream",
     "text": [
      "i_n 100 140726405013384\n"
     ]
    }
   ],
   "source": [
    "def ff() :\n",
    "    global s \n",
    "#    s += 1\n",
    "    s = s + 1\n",
    "    pi(s)\n",
    "s=99\n",
    "ff()"
   ]
  },
  {
   "cell_type": "markdown",
   "id": "126fc0c7",
   "metadata": {},
   "source": [
    "# 返回多个值"
   ]
  },
  {
   "cell_type": "code",
   "execution_count": 37,
   "id": "2401ea61",
   "metadata": {
    "ExecuteTime": {
     "end_time": "2023-11-20T03:01:43.826192Z",
     "start_time": "2023-11-20T03:01:43.813585Z"
    }
   },
   "outputs": [
    {
     "data": {
      "text/plain": [
       "([2, 3, 5], -1)"
      ]
     },
     "execution_count": 37,
     "metadata": {},
     "output_type": "execute_result"
    }
   ],
   "source": [
    "def ff(x,y) : return x,y,x+y,x-y\n",
    "a = ff(2,3)\n",
    "a,a[2]\n",
    "a,b,c,d = ff(2,3)\n",
    "a,b,c,d\n",
    "*c,d = ff(2,3)\n",
    "c,d"
   ]
  },
  {
   "cell_type": "markdown",
   "id": "363cbc06",
   "metadata": {},
   "source": [
    "# 函数文档"
   ]
  },
  {
   "cell_type": "code",
   "execution_count": 42,
   "id": "c27fa4a8",
   "metadata": {
    "ExecuteTime": {
     "end_time": "2023-11-20T03:11:30.750932Z",
     "start_time": "2023-11-20T03:11:30.739664Z"
    }
   },
   "outputs": [
    {
     "name": "stdout",
     "output_type": "stream",
     "text": [
      "Help on function ff in module __main__:\n",
      "\n",
      "ff(x)\n",
      "    code by hjh\n",
      "    2022.12.22\n",
      "    do...\n",
      "\n"
     ]
    },
    {
     "data": {
      "text/plain": [
       "'\\n    code by hjh\\n    2022.12.22\\n    do...\\n    '"
      ]
     },
     "execution_count": 42,
     "metadata": {},
     "output_type": "execute_result"
    }
   ],
   "source": [
    "def ff(x):\n",
    "    '''\n",
    "    code by hjh\n",
    "    2022.12.22\n",
    "    do...\n",
    "    '''\n",
    "    return x\n",
    "help(ff)\n",
    "ff.__doc__"
   ]
  },
  {
   "cell_type": "code",
   "execution_count": 43,
   "id": "c8abff2a",
   "metadata": {
    "ExecuteTime": {
     "end_time": "2023-11-20T03:12:37.650805Z",
     "start_time": "2023-11-20T03:12:37.545797Z"
    }
   },
   "outputs": [
    {
     "name": "stdout",
     "output_type": "stream",
     "text": [
      "**********************************************************************\n",
      "File \"__main__\", line 8, in __main__.ff\n",
      "Failed example:\n",
      "    ff([1], 3)\n",
      "Expected:\n",
      "    [1,1,1]\n",
      "Got:\n",
      "    [1, 1, 1]\n",
      "**********************************************************************\n",
      "1 items had failures:\n",
      "   1 of   3 in __main__.ff\n",
      "***Test Failed*** 1 failures.\n"
     ]
    },
    {
     "data": {
      "text/plain": [
       "TestResults(failed=1, attempted=3)"
      ]
     },
     "execution_count": 43,
     "metadata": {},
     "output_type": "execute_result"
    }
   ],
   "source": [
    "import doctest\n",
    "def ff(a,b):\n",
    "    '''\n",
    "    >>> ff (4, 3)\n",
    "    12\n",
    "    >>> ff (4, 3)\n",
    "    12\n",
    "    >>> ff([1], 3)\n",
    "    [1,1,1]\n",
    "    '''\n",
    "    return a*b\n",
    "doctest.testmod()"
   ]
  },
  {
   "cell_type": "code",
   "execution_count": null,
   "id": "d12e5093",
   "metadata": {},
   "outputs": [],
   "source": []
  }
 ],
 "metadata": {
  "kernelspec": {
   "display_name": "Python 3 (ipykernel)",
   "language": "python",
   "name": "python3"
  },
  "language_info": {
   "codemirror_mode": {
    "name": "ipython",
    "version": 3
   },
   "file_extension": ".py",
   "mimetype": "text/x-python",
   "name": "python",
   "nbconvert_exporter": "python",
   "pygments_lexer": "ipython3",
   "version": "3.11.4"
  },
  "toc": {
   "base_numbering": 1,
   "nav_menu": {},
   "number_sections": true,
   "sideBar": true,
   "skip_h1_title": false,
   "title_cell": "Table of Contents",
   "title_sidebar": "Contents",
   "toc_cell": false,
   "toc_position": {
    "height": "calc(100% - 180px)",
    "left": "10px",
    "top": "150px",
    "width": "265.492px"
   },
   "toc_section_display": true,
   "toc_window_display": false
  }
 },
 "nbformat": 4,
 "nbformat_minor": 5
}
