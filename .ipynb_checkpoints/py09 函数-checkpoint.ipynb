{
 "cells": [
  {
   "cell_type": "markdown",
   "id": "27b70aeb",
   "metadata": {},
   "source": [
    "# 函数参数传递方式"
   ]
  },
  {
   "cell_type": "code",
   "execution_count": 76,
   "id": "d886f21d",
   "metadata": {
    "ExecuteTime": {
     "end_time": "2023-11-13T03:56:44.622353Z",
     "start_time": "2023-11-13T03:56:44.611373Z"
    }
   },
   "outputs": [
    {
     "data": {
      "text/plain": [
       "5"
      ]
     },
     "execution_count": 76,
     "metadata": {},
     "output_type": "execute_result"
    }
   ],
   "source": [
    "# 值传递：字符串、数字、元组\n",
    "def ff(x):\n",
    "    x += 1\n",
    "a = 5\n",
    "ff(a)\n",
    "a"
   ]
  },
  {
   "cell_type": "code",
   "execution_count": 83,
   "id": "e6d0a9ec",
   "metadata": {
    "ExecuteTime": {
     "end_time": "2023-11-13T04:00:16.567608Z",
     "start_time": "2023-11-13T04:00:16.553884Z"
    }
   },
   "outputs": [
    {
     "data": {
      "text/plain": [
       "[0, 2, 1]"
      ]
     },
     "execution_count": 83,
     "metadata": {},
     "output_type": "execute_result"
    }
   ],
   "source": [
    "# 引用传递\n",
    "def ff(x):\n",
    "    x.append(1)\n",
    "def ff(x):\n",
    "    x.extend([1])\n",
    "def ff(x):\n",
    "    x = x + [1] # 赋值 产生新对象\n",
    "def ff(x):\n",
    "    x += [1] # 不产生新对象 语法问题\n",
    "a = [0,2]\n",
    "ff(a)\n",
    "a\n",
    "# 可能考\n",
    "# 3,4很奇怪\n",
    "\n",
    "# def ff(x,y = [])  不要这么写"
   ]
  },
  {
   "cell_type": "markdown",
   "id": "69a4fff6",
   "metadata": {},
   "source": [
    "# 函数参数传递形式"
   ]
  },
  {
   "cell_type": "code",
   "execution_count": 84,
   "id": "1aaaf8fd",
   "metadata": {
    "ExecuteTime": {
     "end_time": "2023-11-13T04:06:56.450772Z",
     "start_time": "2023-11-13T04:06:56.441772Z"
    }
   },
   "outputs": [
    {
     "name": "stdout",
     "output_type": "stream",
     "text": [
      "bill 65\n"
     ]
    }
   ],
   "source": [
    "# 普通参数、默认值\n",
    "def ff( name,age = 20 ):print(name,age)\n",
    "ff('bill','65')"
   ]
  },
  {
   "cell_type": "code",
   "execution_count": 88,
   "id": "d314e543",
   "metadata": {
    "ExecuteTime": {
     "end_time": "2023-11-13T04:11:34.761383Z",
     "start_time": "2023-11-13T04:11:34.750545Z"
    }
   },
   "outputs": [
    {
     "name": "stdout",
     "output_type": "stream",
     "text": [
      "bill 20\n",
      "bill 20\n"
     ]
    },
    {
     "data": {
      "text/plain": [
       "(None, None)"
      ]
     },
     "execution_count": 88,
     "metadata": {},
     "output_type": "execute_result"
    }
   ],
   "source": [
    "ff( name = 'bill',age = 20),ff( age = 20, name = 'bill' )"
   ]
  },
  {
   "cell_type": "code",
   "execution_count": 87,
   "id": "7482df17",
   "metadata": {
    "ExecuteTime": {
     "end_time": "2023-11-13T04:11:15.945841Z",
     "start_time": "2023-11-13T04:11:15.936906Z"
    }
   },
   "outputs": [
    {
     "name": "stdout",
     "output_type": "stream",
     "text": [
      "bill 20\n"
     ]
    }
   ],
   "source": [
    "name = 'bill'\n",
    "age = 20\n",
    "ff( name = name,age = age)"
   ]
  },
  {
   "cell_type": "raw",
   "id": "be3f5b18",
   "metadata": {
    "ExecuteTime": {
     "end_time": "2023-11-13T03:54:18.255318Z",
     "start_time": "2023-11-13T03:54:18.202738Z"
    }
   },
   "source": [
    "# 没有函数重载\n",
    "def ff(x):\n",
    "    return x\n",
    "def ff(x,y):\n",
    "    return x,y\n",
    "ff(1,2),ff(1)\n",
    "# 报错，因为把第一个函数冲掉了\n",
    "# C语言可以重载\n"
   ]
  },
  {
   "cell_type": "code",
   "execution_count": null,
   "id": "682fff5b",
   "metadata": {},
   "outputs": [],
   "source": []
  },
  {
   "cell_type": "code",
   "execution_count": null,
   "id": "1d9ec1ef",
   "metadata": {},
   "outputs": [],
   "source": []
  }
 ],
 "metadata": {
  "kernelspec": {
   "display_name": "Python 3 (ipykernel)",
   "language": "python",
   "name": "python3"
  },
  "language_info": {
   "codemirror_mode": {
    "name": "ipython",
    "version": 3
   },
   "file_extension": ".py",
   "mimetype": "text/x-python",
   "name": "python",
   "nbconvert_exporter": "python",
   "pygments_lexer": "ipython3",
   "version": "3.11.4"
  },
  "toc": {
   "base_numbering": 1,
   "nav_menu": {},
   "number_sections": true,
   "sideBar": true,
   "skip_h1_title": false,
   "title_cell": "Table of Contents",
   "title_sidebar": "Contents",
   "toc_cell": false,
   "toc_position": {},
   "toc_section_display": true,
   "toc_window_display": false
  }
 },
 "nbformat": 4,
 "nbformat_minor": 5
}
