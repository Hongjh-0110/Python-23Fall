{
 "cells": [
  {
   "cell_type": "code",
   "execution_count": 5,
   "id": "a96a927e",
   "metadata": {
    "ExecuteTime": {
     "end_time": "2023-11-20T03:38:42.810104Z",
     "start_time": "2023-11-20T03:38:42.798132Z"
    }
   },
   "outputs": [
    {
     "data": {
      "text/plain": [
       "81"
      ]
     },
     "execution_count": 5,
     "metadata": {},
     "output_type": "execute_result"
    }
   ],
   "source": [
    "def f2(x):\n",
    "    return x*x\n",
    "def f1():\n",
    "    return f2\n",
    "f1()(9)\n",
    "# 相当于 ff=f1();ff(9)"
   ]
  },
  {
   "cell_type": "code",
   "execution_count": 6,
   "id": "86832488",
   "metadata": {
    "ExecuteTime": {
     "end_time": "2023-11-20T03:39:24.562730Z",
     "start_time": "2023-11-20T03:39:24.551728Z"
    }
   },
   "outputs": [
    {
     "data": {
      "text/plain": [
       "81"
      ]
     },
     "execution_count": 6,
     "metadata": {},
     "output_type": "execute_result"
    }
   ],
   "source": [
    "def f1():\n",
    "    def f2(x):\n",
    "        return x*x\n",
    "    return f2\n",
    "f1()(9)"
   ]
  },
  {
   "cell_type": "code",
   "execution_count": 9,
   "id": "f7791f70",
   "metadata": {
    "ExecuteTime": {
     "end_time": "2023-11-20T03:43:36.020150Z",
     "start_time": "2023-11-20T03:43:36.002878Z"
    }
   },
   "outputs": [
    {
     "data": {
      "text/plain": [
       "(72, 56, 45, 35)"
      ]
     },
     "execution_count": 9,
     "metadata": {},
     "output_type": "execute_result"
    }
   ],
   "source": [
    "def f1(x):\n",
    "    def f2(y):\n",
    "        return x*y\n",
    "    return f2\n",
    "f1(8)(9)\n",
    "ff=f1(8)\n",
    "ff2=f1(5)\n",
    "ff(9),ff(7),ff2(9),ff2(7)\n",
    "# 具有分阶段实现函数的能力\n",
    "# 可以闭包（打包到一个函数里面）：返回函数、函数内置"
   ]
  },
  {
   "cell_type": "code",
   "execution_count": 16,
   "id": "754ac1c4",
   "metadata": {
    "ExecuteTime": {
     "end_time": "2023-11-20T03:52:22.790618Z",
     "start_time": "2023-11-20T03:52:22.779035Z"
    }
   },
   "outputs": [],
   "source": [
    "# 计数待测评函数执行时间\n",
    "import time\n",
    "ts=time.sleep\n",
    "gettime=time.perf_counter # 相当于重新取个名字\n",
    "def pp(x):\n",
    "    print('运行时间：',int(1000*(gettime()-x))) # 计算时间差\n",
    "def f1():\n",
    "    print('f1')\n",
    "    ts(0.2)# sleep 0.2\n",
    "def f2():\n",
    "    print('f2')\n",
    "    ts(0.8)\n",
    "def f3():\n",
    "    print('f3')\n",
    "    ts(0.5)"
   ]
  },
  {
   "cell_type": "code",
   "execution_count": 17,
   "id": "9abc42ae",
   "metadata": {
    "ExecuteTime": {
     "end_time": "2023-11-20T03:52:24.945774Z",
     "start_time": "2023-11-20T03:52:23.430006Z"
    }
   },
   "outputs": [
    {
     "name": "stdout",
     "output_type": "stream",
     "text": [
      "f1\n",
      "运行时间： 200\n",
      "f2\n",
      "运行时间： 801\n",
      "f3\n",
      "运行时间： 500\n"
     ]
    },
    {
     "data": {
      "text/plain": [
       "(None, None, None)"
      ]
     },
     "execution_count": 17,
     "metadata": {},
     "output_type": "execute_result"
    }
   ],
   "source": [
    "def timeff(f): # 测函数f()运行时间\n",
    "    t=gettime()\n",
    "    f()\n",
    "    pp(t)\n",
    "timeff(f1),timeff(f2),timeff(f3)"
   ]
  },
  {
   "cell_type": "code",
   "execution_count": 23,
   "id": "325445b7",
   "metadata": {
    "ExecuteTime": {
     "end_time": "2023-11-20T03:59:12.927905Z",
     "start_time": "2023-11-20T03:59:12.916789Z"
    }
   },
   "outputs": [
    {
     "data": {
      "text/plain": [
       "3"
      ]
     },
     "execution_count": 23,
     "metadata": {},
     "output_type": "execute_result"
    }
   ],
   "source": [
    "{1.111111111111111111111111111111:1,\n",
    "1.111111111111111111111111111111:2,\n",
    "1.1111111111111111111111111:3\n",
    "}[1.1111111111111111111]\n",
    "# 谁也对不上但是返回了值，说明不准，慎用浮点数\n",
    "# 这个移到“字典”一节"
   ]
  },
  {
   "cell_type": "code",
   "execution_count": null,
   "id": "07063e84",
   "metadata": {},
   "outputs": [],
   "source": []
  }
 ],
 "metadata": {
  "kernelspec": {
   "display_name": "Python 3 (ipykernel)",
   "language": "python",
   "name": "python3"
  },
  "language_info": {
   "codemirror_mode": {
    "name": "ipython",
    "version": 3
   },
   "file_extension": ".py",
   "mimetype": "text/x-python",
   "name": "python",
   "nbconvert_exporter": "python",
   "pygments_lexer": "ipython3",
   "version": "3.11.4"
  },
  "toc": {
   "base_numbering": 1,
   "nav_menu": {},
   "number_sections": true,
   "sideBar": true,
   "skip_h1_title": false,
   "title_cell": "Table of Contents",
   "title_sidebar": "Contents",
   "toc_cell": false,
   "toc_position": {},
   "toc_section_display": true,
   "toc_window_display": false
  }
 },
 "nbformat": 4,
 "nbformat_minor": 5
}
