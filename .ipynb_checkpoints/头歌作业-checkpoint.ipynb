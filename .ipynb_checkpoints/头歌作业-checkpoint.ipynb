{
 "cells": [
  {
   "cell_type": "code",
   "execution_count": 8,
   "id": "145cd7ad",
   "metadata": {
    "ExecuteTime": {
     "end_time": "2023-11-19T11:48:16.991030Z",
     "start_time": "2023-11-19T11:48:16.977869Z"
    }
   },
   "outputs": [
    {
     "data": {
      "text/plain": [
       "9"
      ]
     },
     "execution_count": 8,
     "metadata": {},
     "output_type": "execute_result"
    }
   ],
   "source": [
    "'''\n",
    "题目：唯一元素和\n",
    "描述：给你一个整数列表 nums 。列表中唯一元素是那些只出现 恰好一次 的元素。\n",
    "请你返回 nums 中唯一元素的 和 。 \n",
    "示例 1： 输入：nums = [1,2,3,2] 输出：4 解释：唯一元素为 [1,3] ，和为 4 。\n",
    "'''\n",
    "nums = [1,2,3,2,3,3,8]\n",
    "sum=0\n",
    "for a in nums:\n",
    "    if(nums.count(a)==1):\n",
    "        sum+=a\n",
    "sum"
   ]
  },
  {
   "cell_type": "code",
   "execution_count": 33,
   "id": "71788f23",
   "metadata": {
    "ExecuteTime": {
     "end_time": "2023-11-19T12:04:33.691740Z",
     "start_time": "2023-11-19T12:04:33.673696Z"
    }
   },
   "outputs": [
    {
     "data": {
      "text/plain": [
       "'abcdef'"
      ]
     },
     "execution_count": 33,
     "metadata": {},
     "output_type": "execute_result"
    }
   ],
   "source": [
    "'''\n",
    "题目：将所有数字用字符替换\n",
    "描述：给你一个下标从 0 开始的字符串 `s` ，它的 偶数 下标处为小写英文字母，奇数 下标处为数字。 \n",
    "定义一个函数 `shift(c, x) `，其中 `c` 是一个字符且 `x` 是一个数字，\n",
    "函数返回字母表中 `c` 后面第 `x` 个字符。 \n",
    "比方说，`shift('a', 5) = 'f'` 和 `shift('x', 0) = 'x'` 。\n",
    "对于每个 奇数 下标 `i` ，你需要将数字 `s[i]` 用 `shift(s[i-1], s[i])` 替换。 \n",
    "请你替换所有数字以后，将字符串 `s` 返回。\n",
    "题目 保证 `shift(s[i-1], s[i])` 不会超过 `'z'` 。 \n",
    "示例1： 输入：s = \"a1c1e1\" 输出：\"abcdef\" \n",
    "解释：数字被替换结果如下： - s[1] -> shift('a',1) = 'b' - s[3] -> shift('c',1) = 'd' - s[5] -> shift('e',1) = 'f' \n",
    "示例2： 输入：s = \"a1b2c3d4e\" 输出：\"abbdcfdhe\" \n",
    "解释：数字被替换结果如下： - s[1] -> shift('a',1) = 'b' - s[3] -> shift('b',2) = 'd' - s[5] -> shift('c',3) = 'f' - s[7] -> shift('d',4) = 'h'\n",
    "'''\n",
    "s = \"a1c1e1\"\n",
    "s1=list(s)\n",
    "def shift(c,x):\n",
    "    return chr(ord(c)+int(x))\n",
    "i=1\n",
    "while(i<len(s1)):\n",
    "    s1[i]=shift(s1[i-1],s1[i])\n",
    "    i+=2\n",
    "s=\"\".join(s1)\n",
    "s"
   ]
  },
  {
   "cell_type": "code",
   "execution_count": 70,
   "id": "a1634d6a",
   "metadata": {
    "ExecuteTime": {
     "end_time": "2023-11-19T12:32:16.137185Z",
     "start_time": "2023-11-19T12:32:16.119336Z"
    }
   },
   "outputs": [
    {
     "data": {
      "text/plain": [
       "False"
      ]
     },
     "execution_count": 70,
     "metadata": {},
     "output_type": "execute_result"
    }
   ],
   "source": [
    "'''\n",
    "题目：有效括号\n",
    "描述：给定一个只包括 '('，')'，'{'，'}'，'['，']' 的字符串 s ，判断字符串是否有效。 \n",
    "有效字符串需满足： 左括号必须用相同类型的右括号闭合。 左括号必须以正确的顺序闭合。 处。 \n",
    "示例一： 输入：s = \"()\" 输出：true \n",
    "示例二： 输入：s = \"(]\" 输出：false \n",
    "示例三： 输入：s = \"([)]\" 输出：false \n",
    "示例四： 输入：s = \"{[]}\" 输出：true\n",
    "'''\n",
    "def torf(s):\n",
    "    dir={')':'(','}':'{',']':'['}\n",
    "    s1=list(s)\n",
    "    s2=list('')\n",
    "    for i in s1:\n",
    "        if(i=='(' or i=='{' or i=='['):\n",
    "            s2.append(i)\n",
    "        if(i==')' or i=='}' or i==']'):\n",
    "            ch=s2.pop()\n",
    "            if(ch!=dir[i]):\n",
    "                s2.append(ch)\n",
    "                return False\n",
    "    if(len(s2)):\n",
    "        return False\n",
    "    return True        \n",
    "s = \"([)]\"\n",
    "torf(s)"
   ]
  },
  {
   "cell_type": "code",
   "execution_count": 73,
   "id": "58b82166",
   "metadata": {
    "ExecuteTime": {
     "end_time": "2023-11-19T12:35:32.798245Z",
     "start_time": "2023-11-19T12:35:32.784599Z"
    }
   },
   "outputs": [
    {
     "data": {
      "text/plain": [
       "True"
      ]
     },
     "execution_count": 73,
     "metadata": {},
     "output_type": "execute_result"
    }
   ],
   "source": [
    "'''题目：1 比特与 2 比特字符\n",
    "描述：有两种特殊字符： 第一种字符可以用一比特 0 表示 第二种字符可以用两比特（10 或 11）表示 \n",
    "给你一个以 0 结尾的二进制数组 bits ，如果最后一个字符必须是一个一比特字符，则返回 true 。 \n",
    "示例 1: 输入: bits = [1, 0, 0] 输出: true \n",
    "解释: 唯一的解码方式是将其解析为一个两比特字符和一个一比特字符。 所以最后一个字符是一比特字符。 \n",
    "示例 2: 输入：bits = [1,1,1,0] 输出：false \n",
    "解释：唯一的解码方式是将其解析为两比特字符和两比特字符。 所以最后一个字符不是一比特字符。'''\n",
    "bits = [1, 0, 0]\n",
    "def torf(bits):\n",
    "    if(bits[-2]==1):\n",
    "        return False\n",
    "    else:\n",
    "        return True\n",
    "torf(bits)"
   ]
  },
  {
   "cell_type": "code",
   "execution_count": 97,
   "id": "d63b648f",
   "metadata": {
    "ExecuteTime": {
     "end_time": "2023-11-19T13:07:54.690384Z",
     "start_time": "2023-11-19T13:07:54.669021Z"
    }
   },
   "outputs": [
    {
     "data": {
      "text/plain": [
       "1"
      ]
     },
     "execution_count": 97,
     "metadata": {},
     "output_type": "execute_result"
    }
   ],
   "source": [
    "'''\n",
    "题目：找出星型图的中心节点\n",
    "描述：有一个无向的 星型 图，由 n 个编号从 1 到 n 的节点组成。\n",
    "星型图有一个 中心 节点，并且恰有 n - 1 条边将中心节点与其他每个节点连接起来。 \n",
    "给你一个二维整数列表 edges ，其中 edges[i] = [ui, vi] 表示在节点 ui 和 vi 之间存在一条边。\n",
    "请你找出并返回 edges 所表示星型图的中心节点。 \n",
    "输入：edges = [[1,2],[2,3],[4,2]] 输出：2 解释：节点 2 与其他每个节点都相连，所以节点 2 是中心节点。 \n",
    "示例 2： 输入：edges = [[1,2],[5,1],[1,3],[1,4]] 输出：1\n",
    "'''\n",
    "edges = [[1,2],[5,1],[1,3],[1,4]]\n",
    "a=[[],[],[],[],[],[]]\n",
    "def con(edges):\n",
    "    for e in edges:\n",
    "        x=e[0]\n",
    "        y=e[1]\n",
    "        a[x].append(e[1])\n",
    "        a[y].append(e[0])\n",
    "    while [] in a:\n",
    "        a.remove([])\n",
    "    n=0\n",
    "    for nod in a:\n",
    "        n+=1\n",
    "        if(len(nod)==len(a)-1):\n",
    "            return n\n",
    "con(edges)"
   ]
  },
  {
   "cell_type": "code",
   "execution_count": 43,
   "id": "f4f775ed",
   "metadata": {
    "ExecuteTime": {
     "end_time": "2023-11-19T13:43:26.284843Z",
     "start_time": "2023-11-19T13:43:26.268804Z"
    }
   },
   "outputs": [
    {
     "data": {
      "text/plain": [
       "(0, 1)"
      ]
     },
     "execution_count": 43,
     "metadata": {},
     "output_type": "execute_result"
    }
   ],
   "source": [
    "'''\n",
    "题目：数字和\n",
    "描述：给定一个整数列表 nums 和一个整数目标值 target，\n",
    "请你在该数组中找出 和为目标值 target 的那 两个 整数，并返回它们的数组下标。 \n",
    "你可以假设每种输入只会对应一个答案。但是，数组中同一个元素在答案里不能重复出现。 你可以按任意顺序返回答案。\n",
    "示例 1： 输入：nums = [2,7,11,15], target = 9 输出：[0,1] 解释：因为 nums[0] + nums[1] == 9 ，返回 [0, 1] 。 \n",
    "示例 2： 输入：nums = [3,2,4], target = 6 输出：[1,2] \n",
    "示例 3： 输入：nums = [3,3], target = 6 输出：[0,1]\n",
    "'''\n",
    "nums = [3,3]\n",
    "target = 6\n",
    "i=0\n",
    "bre=0\n",
    "while(i<len(nums)):\n",
    "    j=i+1\n",
    "    while(j<len(nums)):\n",
    "        if(nums[i]+nums[j]==target):\n",
    "            bre=1\n",
    "            break\n",
    "        j+=1\n",
    "    if(bre==1):\n",
    "        break\n",
    "    i+=1\n",
    "i,j"
   ]
  },
  {
   "cell_type": "code",
   "execution_count": 45,
   "id": "be74a3a8",
   "metadata": {
    "ExecuteTime": {
     "end_time": "2023-11-19T13:43:45.804657Z",
     "start_time": "2023-11-19T13:43:45.788211Z"
    }
   },
   "outputs": [
    {
     "data": {
      "text/plain": [
       "(0, 1)"
      ]
     },
     "execution_count": 45,
     "metadata": {},
     "output_type": "execute_result"
    }
   ],
   "source": [
    "'''\n",
    "题目：两个数的和\n",
    "描述：给定一个整数数组（列表） nums 和一个目标值 target，\n",
    "请你在该数组中找出和为目标值的那 两个 整数，并返回他们的数组下标。\n",
    "你可以假设每种输入只会对应一个答案。但是，数组中同一个元素不能使用两遍。 \n",
    "示例 1： 输入：nums = [2,7,11,15], target = 9 输出：[0,1] 解释：因为 nums[0] + nums[1] == 9 ，返回 [0, 1] 。\n",
    "'''\n",
    "nums = [2,7,11,15]\n",
    "target = 9\n",
    "i=0\n",
    "bre=0\n",
    "while(i<len(nums)):\n",
    "    j=i+1\n",
    "    while(j<len(nums)):\n",
    "        if(nums[i]+nums[j]==target):\n",
    "            bre=1\n",
    "            break\n",
    "        j+=1\n",
    "    if(bre==1):\n",
    "        break\n",
    "    i+=1\n",
    "i,j"
   ]
  },
  {
   "cell_type": "code",
   "execution_count": 19,
   "id": "8a2610a6",
   "metadata": {
    "ExecuteTime": {
     "end_time": "2023-11-19T13:31:18.987499Z",
     "start_time": "2023-11-19T13:31:18.973131Z"
    }
   },
   "outputs": [
    {
     "data": {
      "text/plain": [
       "'5555'"
      ]
     },
     "execution_count": 19,
     "metadata": {},
     "output_type": "execute_result"
    }
   ],
   "source": [
    "'''\n",
    "题目：更改进制数\n",
    "描述：给定一个整数 num，将其转化为 7 进制，并以字符串形式输出。\n",
    "'''\n",
    "num=2000\n",
    "number=0\n",
    "n=0\n",
    "while(num>0):\n",
    "    res=num%7\n",
    "    number+=res*(10**n)\n",
    "    num=int(num/7)\n",
    "    n+=1\n",
    "str(number)"
   ]
  },
  {
   "cell_type": "code",
   "execution_count": 31,
   "id": "c4ef593b",
   "metadata": {
    "ExecuteTime": {
     "end_time": "2023-11-19T13:37:47.537866Z",
     "start_time": "2023-11-19T13:37:47.522356Z"
    }
   },
   "outputs": [
    {
     "data": {
      "text/plain": [
       "[[1, 2], [2, 3], [3, 4]]"
      ]
     },
     "execution_count": 31,
     "metadata": {},
     "output_type": "execute_result"
    }
   ],
   "source": [
    "'''\n",
    "题目：最小绝对差\n",
    "\n",
    "描述：给你个整数数组 `arr`，其中每个元素都 **不相同**。 请你找到所有具有最小绝对差的元素对，并且按升序的顺序返回。 \n",
    "示例 1： `输入：[4,2,1,3] 输出：[[1,2],[2,3],[3,4]]` \n",
    "示例 2： `输入：[1,3,6,10,15] 输出：[[1,3]]` \n",
    "示例 3： `输入：[3,8,-10,23,19,-4,-14,27] 输出：[[-14,-10],[19,23],[23,27]]`\n",
    "'''\n",
    "arr=[4,2,1,3,6]\n",
    "arr.sort()\n",
    "delta = [arr[i+1]-arr[i] for i in range(len(arr)-1)]\n",
    "min_delta = min(delta)\n",
    "res = [[arr[i], arr[i+1]] for i in range(len(arr)-1) if delta[i] == min_delta]\n",
    "res"
   ]
  },
  {
   "cell_type": "code",
   "execution_count": 63,
   "id": "4ca75f35",
   "metadata": {
    "ExecuteTime": {
     "end_time": "2023-11-19T13:57:14.198276Z",
     "start_time": "2023-11-19T13:57:14.178056Z"
    }
   },
   "outputs": [
    {
     "data": {
      "text/plain": [
       "'world'"
      ]
     },
     "execution_count": 63,
     "metadata": {},
     "output_type": "execute_result"
    }
   ],
   "source": [
    "'''\n",
    "题目：最长的单词\n",
    "描述：给出一个字符串数组 `words` 组成的一本英语词典。返回 `words` 中最长的一个单词，\n",
    "该单词是由 `words` 词典中其他单词逐步添加一个字母组成。 \n",
    "若其中有多个可行的答案，则返回答案中字典序最小的单词。若无答案，则返回空字符串。 \n",
    "示例 1： 输入：words = `[\"w\",\"wo\",\"wor\",\"worl\", \"world\"]` 输出：`\"world\"` \n",
    "解释： 单词\"world\"可由\"w\", \"wo\", \"wor\", 和 \"worl\"逐步添加一个字母组成。 \n",
    "示例 2： 输入：words = `[\"a\", \"banana\", \"app\", \"appl\", \"ap\", \"apply\", \"apple\"]` 输出：`\"apple\"` \n",
    "解释：\"apply\" 和 \"apple\" 都能由词典中的单词组成。但是 \"apple\" 的字典序小于 \"apply\"\n",
    "'''\n",
    "words = [\"w\",\"wo\",\"wor\",\"worl\", \"world\"]\n",
    "while(1):\n",
    "    mword=max(words)\n",
    "    word=mword\n",
    "    words.remove(word)\n",
    "    while(1):\n",
    "        if(word[:-1] in words):\n",
    "            word=word[:-1]\n",
    "        elif(word[:-1]):\n",
    "            success=0\n",
    "            break\n",
    "        else:\n",
    "            success=1\n",
    "            break\n",
    "    if(success):\n",
    "        break\n",
    "mword\n",
    "            "
   ]
  },
  {
   "cell_type": "code",
   "execution_count": 88,
   "id": "629fc9ac",
   "metadata": {
    "ExecuteTime": {
     "end_time": "2023-11-19T14:14:00.768754Z",
     "start_time": "2023-11-19T14:14:00.750885Z"
    }
   },
   "outputs": [
    {
     "data": {
      "text/plain": [
       "2"
      ]
     },
     "execution_count": 88,
     "metadata": {},
     "output_type": "execute_result"
    }
   ],
   "source": [
    "'''\n",
    "题目：交友平台\n",
    "描述：在社交媒体网站上有 `n` 个用户。给你一个整数数组 `ages` ，其中 `ages[i]` 是第 i 个用户的年龄。 \n",
    "如果下述任意一个条件为真，那么用户 `x` 将不会向用户 `y`（x != y）发送好友请求：\n",
    "ages[y] <= 0.5 * ages[x] + 7\n",
    "ages[y] > ages[x] \n",
    "ages[y] > 100 && ages[x] < 100\n",
    "否则，`x` 将会向 `y` 发送一条好友请求。 注意，如果 `x` 向 `y` 发送一条好友请求，`y` 不必也向 `x` 发送一条好友请求。\n",
    "另外，用户不会向自己发送好友请求。 返回在该社交媒体网站上产生的好友请求总数。 \n",
    "示例 1： `输入：ages = [16,16] 输出：2 解释：2 人互发好友请求。` \n",
    "示例 2： ` 输入：ages = [16,17,18] 输出：2 解释：产生的好友请求为 17 -> 16 ，18 -> 17 。` \n",
    "示例 3： `输入：ages = [20,30,100,110,120] 输出：3 解释：产生的好友请求为 110 -> 100 ，120 -> 110 ，120 -> 100 。`\n",
    "'''\n",
    "ages = [16,17,18]\n",
    "cls=[]\n",
    "sum=0\n",
    "for x in range(len(ages)):\n",
    "    for y in range(len(ages)):\n",
    "        if((ages[y]<=0.5*ages[x]+7) or (ages[y]>ages[x]) or (ages[y]>100 and ages[x]< 100) or (x==y)):\n",
    "            continue\n",
    "        else:\n",
    "            sum+=1\n",
    "sum\n"
   ]
  },
  {
   "cell_type": "code",
   "execution_count": null,
   "id": "ab0cabf6",
   "metadata": {},
   "outputs": [],
   "source": [
    "'''\n",
    "题目：有效的回文\n",
    "描述：给定一个字符串 `s` ，验证 `s` 是否是 **回文串** ，只考虑字母和数字字符，可以忽略字母的大小写。 \n",
    "本题中，将空字符串定义为有效的 **回文串** \n",
    "'''\n"
   ]
  },
  {
   "cell_type": "code",
   "execution_count": null,
   "id": "f8451863",
   "metadata": {},
   "outputs": [],
   "source": [
    "'''\n",
    "题目：合并两个有序数组（列表）\n",
    "\n",
    "描述：给你两个按 非递减顺序 排列的整数数组 nums1 和 nums2，另有两个整数 m 和 n ，分别表示 nums1 和 nums2 中的元素数目。\n",
    "请你 合并 nums2 到 nums1 中，使合并后的数组同样按 非递减顺序 排列。 \n",
    "不能使用sort等内置函数。\n",
    "注意：最终，合并后数组不应由函数返回，而是存储在数组 nums1 中。\n",
    "为了应对这种情况，nums1 的初始长度为 m + n，其中前 m 个元素表示应合并的元素，后 n 个元素为 0 ，应忽略。\n",
    "nums2 的长度为 n 。\n",
    "示例 1： 输入：nums1 = [1,2,3,0,0,0], m = 3, nums2 = [2,5,6], n = 3 输出：[1,2,2,3,5,6] \n",
    "解释：需要合并 [1,2,3] 和 [2,5,6] 。 \n",
    "合并结果是 [1,2,2,3,5,6] ，其中斜体加粗标注的为 nums1 中的元素。\n",
    "'''"
   ]
  },
  {
   "cell_type": "code",
   "execution_count": null,
   "id": "b80520fa",
   "metadata": {},
   "outputs": [],
   "source": [
    "'''\n",
    "题目：.删除字符串中的所有相邻重复项\n",
    "\n",
    "描述：给出由小写字母组成的字符串 S，重复项删除操作会选择两个相邻且相同的字母，并删除它们。\n",
    "在 S 上反复执行重复项删除操作，直到无法继续删除。 在完成所有重复项删除操作后返回最终的字符串。答案保证唯一。 \n",
    "示例： 输入：\"abbaca\" 输出：\"ca\" \n",
    "解释： 例如，在 \"abbaca\" 中，我们可以删除 \"bb\" 由于两字母相邻且相同，这是此时唯一可以执行删除操作的重复项。\n",
    "之后我们得到字符串 \"aaca\"，其中又只有 \"aa\" 可以执行重复项删除操作，所以最后的字符串为 \"ca\"。\n",
    "'''"
   ]
  },
  {
   "cell_type": "code",
   "execution_count": null,
   "id": "d3c88c8e",
   "metadata": {},
   "outputs": [],
   "source": [
    "'''\n",
    "题目：有序数组的平方\n",
    "\n",
    "描述：给你一个按 非递减顺序 排序的整数数组 nums，返回 每个数字的平方 组成的新数组，要求也按 非递减顺序 排序。 \n",
    "例 1： 输入：nums = [-4,-1,0,3,10] 输出：[0,1,9,16,100] \n",
    "解释：平方后，数组变为 [16,1,0,9,100] 排序后，数组变为 [0,1,9,16,100]\n",
    "'''"
   ]
  },
  {
   "cell_type": "code",
   "execution_count": null,
   "id": "915d8c38",
   "metadata": {},
   "outputs": [],
   "source": [
    "'''\n",
    "题目：符合条件的子数组\n",
    "\n",
    "描述：给定一个正整数数组 `nums`和整数` k `，请找出该数组内乘积小于 `k` 的连续的子数组的个数。 \n",
    "示例 1: 输入: nums = [10,5,2,6], k = 100 输出: 8 `\n",
    "解释: 8 个乘积小于 100 的子数组分别为: [10], [5], [2], [6], [10,5], [5,2], [2,6], [5,2,6]。\n",
    "需要注意的是 [10,5,2] 并不是乘积小于100的子数组。 ` \n",
    "示例 2: 输入: nums = [1,2,3], k = 0 输出: 0\n",
    "'''"
   ]
  },
  {
   "cell_type": "code",
   "execution_count": null,
   "id": "441bc775",
   "metadata": {},
   "outputs": [],
   "source": [
    "'''\n",
    "题目：判断子序列\n",
    "\n",
    "描述：给定字符串 s 和 t ，判断 s 是否为 t 的子序列。 \n",
    "字符串的一个子序列是原始字符串删除一些（也可以不删除）字符而不改变剩余字符相对位置形成的新字符串。\n",
    "（例如，\"ace\"是\"abcde\"的一个子序列，而\"aec\"不是）。\n",
    "示例 1： 输入：s = \"abc\", t = \"ahbgdc\" 输出：true\n",
    "'''"
   ]
  },
  {
   "cell_type": "code",
   "execution_count": null,
   "id": "cadfb8f4",
   "metadata": {},
   "outputs": [],
   "source": [
    "'''\n",
    "题目：删除最短子数组\n",
    "\n",
    "描述：给你一个整数数组 `arr` ，请你删除一个子数组（可以为空），使得 `arr` 中剩下的元素是 `非递减` 的。 \n",
    "一个子数组指的是原数组中连续的一个子序列。 请你返回满足题目要求的最短子数组的长度。 \n",
    "输入：`arr = [1,2,3,10,4,2,3,5]` 输出：`3` \n",
    "解释：我们需要删除的最短子数组是` [10,4,2]` ，长度为 `3` 。\n",
    "剩余元素形成非递减数组` [1,2,3,3,5]` 。 另一个正确的解为删除子数组` [3,10,4]` 。\n",
    "'''"
   ]
  },
  {
   "cell_type": "code",
   "execution_count": null,
   "id": "a4f05b83",
   "metadata": {},
   "outputs": [],
   "source": [
    "'''\n",
    "题目：数组拆分(请不要使用python的内置函数)\n",
    "\n",
    "描述：给定长度为 2n 的整数数组 nums ，你的任务是将这些数分成 n 对, \n",
    "例如 (a1, b1), (a2, b2), ..., (an, bn) ，使得从 1 到 n 的 min(ai, bi) 总和最大。\n",
    "返回该 最大总和 。 \n",
    "示例 1： 输入：nums = [1,4,3,2] 输出：4 \n",
    "解释：所有可能的分法（忽略元素顺序）为：\n",
    "1. (1, 4), (2, 3) -> min(1, 4) + min(2, 3) = 1 + 2 = 3 \n",
    "2. (1, 3), (2, 4) -> min(1, 3) + min(2, 4) = 1 + 2 = 3 \n",
    "3. (1, 2), (3, 4) -> min(1, 2) + min(3, 4) = 1 + 3 = 4 \n",
    "所以最大总和为 4\n",
    "'''"
   ]
  },
  {
   "cell_type": "code",
   "execution_count": null,
   "id": "988d1f01",
   "metadata": {},
   "outputs": [],
   "source": [
    "'''\n",
    "题目：种花问题\n",
    "\n",
    "描述：假设有一个很长的花坛，一部分地块种植了花，另一部分却没有。\n",
    "可是，花不能种植在相邻的地块上，它们会争夺水源，两者都会死去。 \n",
    "给你一个整数数组 flowerbed 表示花坛，由若干 0 和 1 组成，其中 0 表示没种植花，1 表示种植了花。\n",
    "另有一个数 n ，能否在不打破种植规则的情况下种入 n 朵花？\n",
    "能则返回 true ，不能则返回 false。\n",
    "'''"
   ]
  },
  {
   "cell_type": "code",
   "execution_count": null,
   "id": "5f5b1410",
   "metadata": {},
   "outputs": [],
   "source": [
    "'''\n",
    "题目：排列文件\n",
    "\n",
    "描述：给你一个日志数组 logs。每条日志都是以空格分隔的字串，其第一个字为字母与数字混合的 标识符 。 \n",
    "有两种不同类型的日志： \n",
    "字母日志：除标识符之外，所有字均由小写字母组成 \n",
    "数字日志：除标识符之外，所有字均由数字组成 \n",
    "请按下述规则将日志重新排序： 所有 字母日志 都排在 数字日志 之前。 \n",
    "字母日志 在内容不同时，忽略标识符后，按内容字母顺序排序；在内容相同时，按标识符排序。 \n",
    "数字日志 应该保留原来的相对顺序。 返回日志的最终顺序。 \n",
    "<br/> 示例： 输入：logs = `[\"dig1 8 1 5 1\",\"let1 art can\",\"dig2 3 6\",\"let2 own kit dig\",\"let3 art zero\"]`\n",
    "输出：`[\"let1 art can\",\"let3 art zero\",\"let2 own kit dig\",\"dig1 8 1 5 1\",\"dig2 3 6\"]`\n",
    "解释： 字母日志的内容都不同，所以顺序为 `\"art can\", \"art zero\", \"own kit dig\"` 。 \n",
    "数字日志保留原来的相对顺序` \"dig1 8 1 5 1\", \"dig2 3 6\"` 。\n",
    "'''"
   ]
  },
  {
   "cell_type": "code",
   "execution_count": null,
   "id": "b6f4b818",
   "metadata": {},
   "outputs": [],
   "source": [
    "'''\n",
    "题目：路径总和\n",
    "\n",
    "描述：给你一个整数` n` ，统计并返回各位数字都不同的数字 x 的个数，其中 0 <= x < 10**n 。 `其中 0 <= n <= 8` \n",
    "示例 1： 输入：n = 2 输出：91 解释：答案应为除去 11、22、33、44、55、66、77、88、99 外，在 0 ≤ x < 100 范围内的所有数字。\n",
    "'''"
   ]
  },
  {
   "cell_type": "code",
   "execution_count": null,
   "id": "7f77e4c9",
   "metadata": {},
   "outputs": [],
   "source": [
    "'''\n",
    "题目：异或相等的三元数组\n",
    "\n",
    "描述：给你一个整数数组 arr 。 现需要从数组中取三个下标 `i、j 和 k` ，其中 `(0 <= i < j <= k < arr.length)` 。\n",
    "a 和 b 定义如下： a = arr[i] ^ arr[i + 1] ^ ... ^ arr[j - 1] b = arr[j] ^ arr[j + 1] ^ ... ^ arr[k] \n",
    "注意：^ 表示 按位异或 操作。 请返回能够令` a == b` 成立的三元组 `(i, j , k)` 的数目。 \n",
    "示例 1： 输入：arr = `[2,3,1,6,7]` 输出：`4` \n",
    "解释：满足题意的三元组分别是 `(0,1,2), (0,2,2), (2,3,4) 以及 (2,4,4)`\n",
    "'''"
   ]
  },
  {
   "cell_type": "code",
   "execution_count": null,
   "id": "f1becf15",
   "metadata": {},
   "outputs": [],
   "source": [
    "'''\n",
    "题目：吃香蕉\n",
    "\n",
    "描述：珂珂喜欢吃香蕉。这里有 `n` 堆香蕉，第 `i `堆中有 `piles[i]` 根香蕉。警卫已经离开了，将在 `h `小时后回来。 \n",
    "珂珂可以决定她吃香蕉的速度 `k` （单位：根/小时）。\n",
    "每个小时，她将会选择一堆香蕉，从中吃掉 `k` 根。\n",
    "如果这堆香蕉少于 `k` 根，她将吃掉这堆的所有香蕉，然后这一小时内不会再吃更多的香蕉。 \n",
    "珂珂喜欢慢慢吃，但仍然想在警卫回来前吃掉所有的香蕉。 返回她可以在 `h` 小时内吃掉所有香蕉的最小速度` k`（k 为整数）。\n",
    "<br/> 示例： 输入：piles = `[3,6,7,11]`, h = `8` 输出：`4`\n",
    "'''"
   ]
  },
  {
   "cell_type": "code",
   "execution_count": null,
   "id": "b40cad82",
   "metadata": {},
   "outputs": [],
   "source": [
    "'''\n",
    "题目：最长递增子序列\n",
    "\n",
    "描述：给你一个整数数组 nums ，找到其中最长严格递增子序列的长度。 \n",
    "子序列 是由数组派生而来的序列，删除（或不删除）数组中的元素而不改变其余元素的顺序。\n",
    "例如，[3,6,2,7] 是数组 [0,3,1,6,2,2,7] 的子序列。\n",
    "示例一： 输入：nums = [10,9,2,5,3,7,101,18] 输出：4 解释：最长递增子序列是 [2,3,7,101]，因此长度为 4 。\n",
    "'''"
   ]
  }
 ],
 "metadata": {
  "kernelspec": {
   "display_name": "Python 3 (ipykernel)",
   "language": "python",
   "name": "python3"
  },
  "language_info": {
   "codemirror_mode": {
    "name": "ipython",
    "version": 3
   },
   "file_extension": ".py",
   "mimetype": "text/x-python",
   "name": "python",
   "nbconvert_exporter": "python",
   "pygments_lexer": "ipython3",
   "version": "3.11.4"
  },
  "toc": {
   "base_numbering": 1,
   "nav_menu": {},
   "number_sections": true,
   "sideBar": true,
   "skip_h1_title": false,
   "title_cell": "Table of Contents",
   "title_sidebar": "Contents",
   "toc_cell": false,
   "toc_position": {},
   "toc_section_display": true,
   "toc_window_display": false
  }
 },
 "nbformat": 4,
 "nbformat_minor": 5
}
