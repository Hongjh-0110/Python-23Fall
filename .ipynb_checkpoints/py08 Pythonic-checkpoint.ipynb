{
 "cells": [
  {
   "cell_type": "markdown",
   "id": "54b43160",
   "metadata": {},
   "source": [
    "Pythonic 是Python程序员的代码风格——充分利用Python的语言特性"
   ]
  },
  {
   "cell_type": "markdown",
   "id": "196e55d5",
   "metadata": {},
   "source": [
    "# 推导式"
   ]
  },
  {
   "cell_type": "code",
   "execution_count": 9,
   "id": "aae91040",
   "metadata": {
    "ExecuteTime": {
     "end_time": "2023-11-06T04:10:46.627683Z",
     "start_time": "2023-11-06T04:10:46.612032Z"
    }
   },
   "outputs": [
    {
     "data": {
      "text/plain": [
       "[0, 2]"
      ]
     },
     "execution_count": 9,
     "metadata": {},
     "output_type": "execute_result"
    }
   ],
   "source": [
    "[],{},()\n",
    "{k:v for k,v in zip(range(4),'abcd')}\n",
    "[x for x in range(4) if x % 2 == 0]"
   ]
  },
  {
   "cell_type": "code",
   "execution_count": 8,
   "id": "e44299ec",
   "metadata": {
    "ExecuteTime": {
     "end_time": "2023-11-06T04:09:31.074280Z",
     "start_time": "2023-11-06T04:09:31.061872Z"
    }
   },
   "outputs": [
    {
     "data": {
      "text/plain": [
       "<generator object <genexpr> at 0x000002226DD9D970>"
      ]
     },
     "execution_count": 8,
     "metadata": {},
     "output_type": "execute_result"
    }
   ],
   "source": [
    "(x for x in range(4))\n",
    "# generator object:生成器对象\n",
    "#list((x for x in range(4)))# 强制输出"
   ]
  },
  {
   "cell_type": "markdown",
   "id": "03a648d9",
   "metadata": {},
   "source": [
    "# 打包解包"
   ]
  },
  {
   "cell_type": "code",
   "execution_count": 10,
   "id": "cb9db24b",
   "metadata": {
    "ExecuteTime": {
     "end_time": "2023-11-13T02:48:18.545474Z",
     "start_time": "2023-11-13T02:48:18.528185Z"
    }
   },
   "outputs": [
    {
     "data": {
      "text/plain": [
       "{1, 2, 3, 4, 5, 6, 'lzu'}"
      ]
     },
     "execution_count": 10,
     "metadata": {},
     "output_type": "execute_result"
    }
   ],
   "source": [
    "# 打包\n",
    "pos= 2,4\n",
    "pos[0],pos[1],pos\n",
    "\n",
    "a,b,c = [1,(2,3),4]\n",
    "a,b,c\n",
    "a,b,c = ( 1,2,3)\n",
    "a,b,c\n",
    "#a,b,c = {1,2,3}\n",
    "#a,b,c 别用\n",
    "a,*b,c = [1,2,3,4,5]# *b可以折叠不确定的数进去\n",
    "a,c,b\n",
    "# 解包\n",
    "x,y = pos\n",
    "y,x\n",
    "a,b = [1,2],[3,4]\n",
    "[*a,*b]\n",
    "a,b,c,d = [1,2],[3,4],{5,6},{'lzu':'榆中'}\n",
    "{*a,*b,*c,*d}"
   ]
  },
  {
   "cell_type": "code",
   "execution_count": 21,
   "id": "4ffae118",
   "metadata": {
    "ExecuteTime": {
     "end_time": "2023-11-13T02:58:13.186815Z",
     "start_time": "2023-11-13T02:58:13.170170Z"
    }
   },
   "outputs": [
    {
     "data": {
      "text/plain": [
       "[12, 15, 18]"
      ]
     },
     "execution_count": 21,
     "metadata": {},
     "output_type": "execute_result"
    }
   ],
   "source": [
    "# 矩阵运算\n",
    "xlist = [ [1,2,3],[4,5,6],[7,8,9] ]\n",
    "# 转置\n",
    "[*zip(*xlist)],list(zip(*xlist))# 后一个好，少学一点\n",
    "[*range(6)] # 等价于 list(range(6))\n",
    "[sum(x) for x in xlist]# 行求和\n",
    "[sum(x) for x in [*zip(*xlist)]]"
   ]
  },
  {
   "cell_type": "code",
   "execution_count": 25,
   "id": "fafdedad",
   "metadata": {
    "ExecuteTime": {
     "end_time": "2023-11-13T03:04:34.100096Z",
     "start_time": "2023-11-13T03:04:34.087050Z"
    }
   },
   "outputs": [
    {
     "data": {
      "text/plain": [
       "(True, True, True)"
      ]
     },
     "execution_count": 25,
     "metadata": {},
     "output_type": "execute_result"
    }
   ],
   "source": [
    "# is ==\n",
    "a,b = 1,1\n",
    "a == b,id(a) == id(b),a is b"
   ]
  },
  {
   "cell_type": "code",
   "execution_count": 30,
   "id": "a397e5ed",
   "metadata": {
    "ExecuteTime": {
     "end_time": "2023-11-13T03:08:02.871516Z",
     "start_time": "2023-11-13T03:08:02.860512Z"
    }
   },
   "outputs": [
    {
     "data": {
      "text/plain": [
       "(True, False, False)"
      ]
     },
     "execution_count": 30,
     "metadata": {},
     "output_type": "execute_result"
    }
   ],
   "source": [
    "a,b = [1],[1] #可变数据自己开辟空间\n",
    "a == b,id(a) == id(b),a is b"
   ]
  },
  {
   "cell_type": "code",
   "execution_count": 33,
   "id": "be8d76da",
   "metadata": {
    "ExecuteTime": {
     "end_time": "2023-11-13T03:08:39.231874Z",
     "start_time": "2023-11-13T03:08:39.217705Z"
    }
   },
   "outputs": [
    {
     "data": {
      "text/plain": [
       "(True, True, True)"
      ]
     },
     "execution_count": 33,
     "metadata": {},
     "output_type": "execute_result"
    }
   ],
   "source": [
    "a = b = [1] \n",
    "a == b,id(a) == id(b),a is b\n",
    "b[0]+=1\n",
    "a == b,id(a) == id(b),a is b"
   ]
  },
  {
   "cell_type": "code",
   "execution_count": 34,
   "id": "4bed7449",
   "metadata": {
    "ExecuteTime": {
     "end_time": "2023-11-13T03:08:42.102115Z",
     "start_time": "2023-11-13T03:08:42.089599Z"
    }
   },
   "outputs": [
    {
     "data": {
      "text/plain": [
       "(False, False, False)"
      ]
     },
     "execution_count": 34,
     "metadata": {},
     "output_type": "execute_result"
    }
   ],
   "source": [
    "a,b = 1,1\n",
    "a == b,id(a) == id(b),a is b\n",
    "b+=1\n",
    "a == b,id(a) == id(b),a is b"
   ]
  },
  {
   "cell_type": "markdown",
   "id": "3cb87452",
   "metadata": {},
   "source": [
    "# and or 表达式"
   ]
  },
  {
   "cell_type": "code",
   "execution_count": 45,
   "id": "a1dd9cc3",
   "metadata": {
    "ExecuteTime": {
     "end_time": "2023-11-13T03:29:44.827609Z",
     "start_time": "2023-11-13T03:29:44.815084Z"
    }
   },
   "outputs": [
    {
     "data": {
      "text/plain": [
       "(2, 10)"
      ]
     },
     "execution_count": 45,
     "metadata": {},
     "output_type": "execute_result"
    }
   ],
   "source": [
    "# 有返回值\n",
    "x,y = 1,2\n",
    "x and y, x or y\n",
    "# 有执行顺序\n",
    "z = 10\n",
    "def ff():\n",
    "    global z\n",
    "    z += 1\n",
    "    return z\n",
    "# x and y and ff(),z\n",
    "x and y or ff(),z"
   ]
  },
  {
   "cell_type": "code",
   "execution_count": 53,
   "id": "5c2bbc6d",
   "metadata": {
    "ExecuteTime": {
     "end_time": "2023-11-13T03:34:56.697540Z",
     "start_time": "2023-11-13T03:34:56.689484Z"
    }
   },
   "outputs": [],
   "source": [
    "# 应用一\n",
    "\n",
    "# 应用二\n",
    "a,b = 1,2\n",
    "c = a if a < b else b\n",
    "c\n",
    "d = (a < b) and a or b\n",
    "d\n",
    "assert c == d # 为真，不反应；假，抛出异常"
   ]
  },
  {
   "cell_type": "markdown",
   "id": "26c589ad",
   "metadata": {},
   "source": [
    "**assert--**\n",
    "胜过注释，因为是可执行的"
   ]
  },
  {
   "cell_type": "code",
   "execution_count": 65,
   "id": "646554b8",
   "metadata": {
    "ExecuteTime": {
     "end_time": "2023-11-13T03:43:30.506031Z",
     "start_time": "2023-11-13T03:43:30.493623Z"
    }
   },
   "outputs": [
    {
     "data": {
      "text/plain": [
       "'L'"
      ]
     },
     "execution_count": 65,
     "metadata": {},
     "output_type": "execute_result"
    }
   ],
   "source": [
    "def ff(s):\n",
    "    '''\n",
    "    如果传进来一个非空字符串\n",
    "    回传字符串的首字母并且大写\n",
    "    '''\n",
    "    # isinstance(s,str) and s or exec(' raise \"xxx\"')\n",
    "    assert isinstance(s,str) and s\n",
    "    return s[0].upper()\n",
    "ff('lzu')\n",
    "# ff('')\n",
    "# 与主题不相干，“有趣的功能”"
   ]
  },
  {
   "cell_type": "code",
   "execution_count": 70,
   "id": "3432edee",
   "metadata": {
    "ExecuteTime": {
     "end_time": "2023-11-13T03:48:02.386606Z",
     "start_time": "2023-11-13T03:48:02.375398Z"
    }
   },
   "outputs": [],
   "source": [
    "# 测试驱动的开放\n",
    "def ff(n):\n",
    "    '''\n",
    "    1加到n的函数\n",
    "    '''\n",
    "    if n < 1:return None\n",
    "    if n == 1:return 1\n",
    "    return n+ff(n-1)\n",
    "\n",
    "def test_ff():\n",
    "    assert ( ff(100) == 5050)\n",
    "    assert ( ff(1) == 1)\n",
    "    assert ( ff(2) == 3)\n",
    "    assert ( ff(-8) == None)\n",
    "\n",
    "test_ff()\n",
    "# 不报错就成功！"
   ]
  },
  {
   "cell_type": "raw",
   "id": "c1404ab3",
   "metadata": {
    "ExecuteTime": {
     "end_time": "2023-11-13T03:54:18.255318Z",
     "start_time": "2023-11-13T03:54:18.202738Z"
    }
   },
   "source": [
    "# 没有函数重载\n",
    "def ff(x):\n",
    "    return x\n",
    "def ff(x,y):\n",
    "    return x,y\n",
    "ff(1,2),ff(1)\n",
    "# 报错，因为把第一个函数冲掉了\n",
    "# C语言可以重载\n"
   ]
  }
 ],
 "metadata": {
  "kernelspec": {
   "display_name": "Python 3 (ipykernel)",
   "language": "python",
   "name": "python3"
  },
  "language_info": {
   "codemirror_mode": {
    "name": "ipython",
    "version": 3
   },
   "file_extension": ".py",
   "mimetype": "text/x-python",
   "name": "python",
   "nbconvert_exporter": "python",
   "pygments_lexer": "ipython3",
   "version": "3.11.4"
  },
  "toc": {
   "base_numbering": 1,
   "nav_menu": {},
   "number_sections": true,
   "sideBar": true,
   "skip_h1_title": false,
   "title_cell": "Table of Contents",
   "title_sidebar": "Contents",
   "toc_cell": false,
   "toc_position": {
    "height": "calc(100% - 180px)",
    "left": "10px",
    "top": "150px",
    "width": "265.492px"
   },
   "toc_section_display": true,
   "toc_window_display": false
  }
 },
 "nbformat": 4,
 "nbformat_minor": 5
}
