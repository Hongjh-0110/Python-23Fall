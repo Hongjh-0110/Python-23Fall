{
 "cells": [
  {
   "cell_type": "code",
   "execution_count": 1,
   "id": "154970a6",
   "metadata": {
    "ExecuteTime": {
     "end_time": "2023-11-06T03:07:53.768990Z",
     "start_time": "2023-11-06T03:07:53.757768Z"
    }
   },
   "outputs": [],
   "source": [
    "## 分词\n",
    "\n",
    "#-jieba hanlp\n",
    "\n",
    "!pip install jieba\n",
    "\n",
    "#- 哈工大 清华 复旦;苏大 北大; 大连理工 东北大学"
   ]
  },
  {
   "cell_type": "code",
   "execution_count": 2,
   "id": "bf3cbbe6",
   "metadata": {
    "ExecuteTime": {
     "end_time": "2023-11-06T03:07:56.023426Z",
     "start_time": "2023-11-06T03:07:53.773935Z"
    }
   },
   "outputs": [
    {
     "name": "stderr",
     "output_type": "stream",
     "text": [
      "Building prefix dict from the default dictionary ...\n",
      "Loading model from cache C:\\Users\\CINDYH~1\\AppData\\Local\\Temp\\jieba.cache\n",
      "Loading model cost 2.075 seconds.\n",
      "Prefix dict has been built successfully.\n"
     ]
    },
    {
     "data": {
      "text/plain": [
       "['南京市', '长江大桥', '欢迎您']"
      ]
     },
     "execution_count": 2,
     "metadata": {},
     "output_type": "execute_result"
    }
   ],
   "source": [
    "import jieba\n",
    "\n",
    "test = '南京市长江大桥欢迎您'\n",
    "list(jieba.cut(test))"
   ]
  },
  {
   "cell_type": "code",
   "execution_count": 3,
   "id": "0be54039",
   "metadata": {
    "ExecuteTime": {
     "end_time": "2023-11-06T03:07:57.005412Z",
     "start_time": "2023-11-06T03:07:56.963116Z"
    }
   },
   "outputs": [
    {
     "name": "stdout",
     "output_type": "stream",
     "text": [
      "2429\n"
     ]
    }
   ],
   "source": [
    "data = open('data/射雕英雄传.txt',errors='ignore').readlines()\n",
    "print(len(data))"
   ]
  },
  {
   "cell_type": "code",
   "execution_count": 4,
   "id": "a52acfca",
   "metadata": {
    "ExecuteTime": {
     "end_time": "2023-11-06T03:08:04.436445Z",
     "start_time": "2023-11-06T03:07:57.762305Z"
    }
   },
   "outputs": [],
   "source": [
    "data_str = ' '.join(data[20:1200])\n",
    "data_list = data[20:1200]\n",
    "cutword = list(jieba.cut(data_str))"
   ]
  },
  {
   "cell_type": "markdown",
   "id": "953aa240",
   "metadata": {},
   "source": [
    "# 求词频"
   ]
  },
  {
   "cell_type": "code",
   "execution_count": 5,
   "id": "528edd78",
   "metadata": {
    "ExecuteTime": {
     "end_time": "2023-11-06T03:08:07.152447Z",
     "start_time": "2023-11-06T03:08:07.138124Z"
    }
   },
   "outputs": [
    {
     "data": {
      "text/plain": [
       "[' ',\n",
       " ' ',\n",
       " ' ',\n",
       " ' ',\n",
       " '张十五',\n",
       " '替',\n",
       " '郭',\n",
       " '、',\n",
       " '杨二人',\n",
       " '斟',\n",
       " '了',\n",
       " '酒',\n",
       " '，',\n",
       " '自己',\n",
       " '又',\n",
       " '斟',\n",
       " '一杯',\n",
       " '，',\n",
       " '一口',\n",
       " '饮干',\n",
       " '，',\n",
       " '说道',\n",
       " '：',\n",
       " '“',\n",
       " '岳爷爷',\n",
       " '有',\n",
       " '两句诗',\n",
       " '道',\n",
       " '：',\n",
       " '‘',\n",
       " '壮志',\n",
       " '饥餐',\n",
       " '胡虏',\n",
       " '肉',\n",
       " '，',\n",
       " '笑谈',\n",
       " '渴饮',\n",
       " '匈奴血',\n",
       " '。',\n",
       " '’',\n",
       " '这',\n",
       " '两句诗',\n",
       " '当真',\n",
       " '说出',\n",
       " '了',\n",
       " '中国',\n",
       " '全国',\n",
       " '百姓',\n",
       " '的',\n",
       " '心里话',\n",
       " '。',\n",
       " '唉',\n",
       " '，',\n",
       " '秦桧',\n",
       " '这大',\n",
       " '奸臣',\n",
       " '运气',\n",
       " '好',\n",
       " '，',\n",
       " '只',\n",
       " '可惜',\n",
       " '咱们',\n",
       " '迟生',\n",
       " '了',\n",
       " '六十年',\n",
       " '。',\n",
       " '”',\n",
       " '郭啸天',\n",
       " '问道',\n",
       " '：',\n",
       " '“',\n",
       " '若',\n",
       " '是',\n",
       " '早',\n",
       " '了',\n",
       " '六十年',\n",
       " '，',\n",
       " '却',\n",
       " '又',\n",
       " '如何',\n",
       " '？',\n",
       " '”',\n",
       " '张',\n",
       " '十五道',\n",
       " '：',\n",
       " '“',\n",
       " '那时',\n",
       " '凭',\n",
       " '两位',\n",
       " '这般',\n",
       " '英雄气概',\n",
       " '，',\n",
       " '豪杰',\n",
       " '身手',\n",
       " '，',\n",
       " '去',\n",
       " '到',\n",
       " '临安',\n",
       " '，',\n",
       " '将']"
      ]
     },
     "execution_count": 5,
     "metadata": {},
     "output_type": "execute_result"
    }
   ],
   "source": [
    "cutword[:100]"
   ]
  },
  {
   "cell_type": "code",
   "execution_count": 6,
   "id": "558bd315",
   "metadata": {
    "ExecuteTime": {
     "end_time": "2023-11-06T03:08:08.861622Z",
     "start_time": "2023-11-06T03:08:08.746214Z"
    }
   },
   "outputs": [
    {
     "data": {
      "text/plain": [
       "[('，', 33792),\n",
       " ('。', 11439),\n",
       " ('“', 6342),\n",
       " ('的', 6332),\n",
       " ('”', 6299),\n",
       " ('了', 5977),\n",
       " (' ', 5890),\n",
       " ('：', 5869),\n",
       " ('他', 3778),\n",
       " ('是', 3298),\n",
       " ('道', 3219),\n",
       " ('你', 2803),\n",
       " ('我', 2749),\n",
       " ('在', 2599),\n",
       " ('？', 2568),\n",
       " ('也', 1648),\n",
       " ('这', 1470),\n",
       " ('又', 1381),\n",
       " ('那', 1333),\n",
       " ('郭靖', 1325)]"
      ]
     },
     "execution_count": 6,
     "metadata": {},
     "output_type": "execute_result"
    }
   ],
   "source": [
    "from collections import Counter\n",
    "Counter (cutword).most_common(20)"
   ]
  },
  {
   "cell_type": "code",
   "execution_count": 7,
   "id": "6d72eff0",
   "metadata": {
    "ExecuteTime": {
     "end_time": "2023-11-06T03:08:10.469023Z",
     "start_time": "2023-11-06T03:08:10.437055Z"
    },
    "scrolled": true
   },
   "outputs": [
    {
     "data": {
      "text/plain": [
       "['\\ufeff,',\n",
       " '?',\n",
       " '、',\n",
       " '。',\n",
       " '“',\n",
       " '”',\n",
       " '《',\n",
       " '》',\n",
       " '！',\n",
       " '，',\n",
       " '：',\n",
       " '；',\n",
       " '？',\n",
       " '末##末',\n",
       " '啊',\n",
       " '阿',\n",
       " '哎',\n",
       " '哎呀',\n",
       " '哎哟',\n",
       " '唉',\n",
       " '俺',\n",
       " '俺们',\n",
       " '按',\n",
       " '按照',\n",
       " '吧',\n",
       " '吧哒',\n",
       " '把',\n",
       " '罢了',\n",
       " '被',\n",
       " '本',\n",
       " '本着',\n",
       " '比',\n",
       " '比方',\n",
       " '比如',\n",
       " '鄙人',\n",
       " '彼',\n",
       " '彼此',\n",
       " '边',\n",
       " '别',\n",
       " '别的',\n",
       " '别说',\n",
       " '并',\n",
       " '并且',\n",
       " '不比',\n",
       " '不成',\n",
       " '不单',\n",
       " '不但',\n",
       " '不独',\n",
       " '不管',\n",
       " '不光',\n",
       " '不过',\n",
       " '不仅',\n",
       " '不拘',\n",
       " '不论',\n",
       " '不怕',\n",
       " '不然',\n",
       " '不如',\n",
       " '不特',\n",
       " '不惟',\n",
       " '不问',\n",
       " '不只',\n",
       " '朝',\n",
       " '朝着',\n",
       " '趁',\n",
       " '趁着',\n",
       " '乘',\n",
       " '冲',\n",
       " '除',\n",
       " '除此之外',\n",
       " '除非',\n",
       " '除了',\n",
       " '此',\n",
       " '此间',\n",
       " '此外',\n",
       " '从',\n",
       " '从而',\n",
       " '打',\n",
       " '待',\n",
       " '但',\n",
       " '但是',\n",
       " '当',\n",
       " '当着',\n",
       " '到',\n",
       " '得',\n",
       " '的',\n",
       " '的话',\n",
       " '等',\n",
       " '等等',\n",
       " '地',\n",
       " '第',\n",
       " '人',\n",
       " '叮咚',\n",
       " '对',\n",
       " '对于',\n",
       " '多',\n",
       " '多少',\n",
       " '而',\n",
       " '而况',\n",
       " '而且',\n",
       " '而是',\n",
       " '而外',\n",
       " '而言',\n",
       " '而已',\n",
       " '尔后',\n",
       " '反过来',\n",
       " '反过来说',\n",
       " '反之',\n",
       " '非但',\n",
       " '非徒',\n",
       " '否则',\n",
       " '嘎',\n",
       " '嘎登',\n",
       " '该',\n",
       " '赶',\n",
       " '个',\n",
       " '各',\n",
       " '各个',\n",
       " '各位',\n",
       " '各种',\n",
       " '各自',\n",
       " '给',\n",
       " '根据',\n",
       " '跟',\n",
       " '故',\n",
       " '故此',\n",
       " '固然',\n",
       " '关于',\n",
       " '管',\n",
       " '归',\n",
       " '果然',\n",
       " '果真',\n",
       " '过',\n",
       " '哈',\n",
       " '哈哈',\n",
       " '呵',\n",
       " '和',\n",
       " '何',\n",
       " '何处',\n",
       " '何况',\n",
       " '何时',\n",
       " '嘿',\n",
       " '哼',\n",
       " '哼唷',\n",
       " '呼哧',\n",
       " '乎',\n",
       " '哗',\n",
       " '还是',\n",
       " '还有',\n",
       " '换句话说',\n",
       " '换言之',\n",
       " '或',\n",
       " '或是',\n",
       " '或者',\n",
       " '极了',\n",
       " '及',\n",
       " '及其',\n",
       " '及至',\n",
       " '即',\n",
       " '即便',\n",
       " '即或',\n",
       " '即令',\n",
       " '即若',\n",
       " '即使',\n",
       " '几',\n",
       " '几时',\n",
       " '己',\n",
       " '既',\n",
       " '既然',\n",
       " '既是',\n",
       " '继而',\n",
       " '加之',\n",
       " '假如',\n",
       " '假若',\n",
       " '假使',\n",
       " '鉴于',\n",
       " '将',\n",
       " '较',\n",
       " '较之',\n",
       " '叫',\n",
       " '接着',\n",
       " '结果',\n",
       " '借',\n",
       " '紧接着',\n",
       " '进而',\n",
       " '尽',\n",
       " '尽管',\n",
       " '经',\n",
       " '经过',\n",
       " '就',\n",
       " '就是',\n",
       " '就是说',\n",
       " '据',\n",
       " '具体地说',\n",
       " '具体说来',\n",
       " '开始',\n",
       " '开外',\n",
       " '靠',\n",
       " '咳',\n",
       " '可',\n",
       " '可见',\n",
       " '可是',\n",
       " '可以',\n",
       " '况且',\n",
       " '啦',\n",
       " '来',\n",
       " '来着',\n",
       " '离',\n",
       " '例如',\n",
       " '哩',\n",
       " '连',\n",
       " '连同',\n",
       " '两者',\n",
       " '了',\n",
       " '临',\n",
       " '另',\n",
       " '另外',\n",
       " '另一方面',\n",
       " '论',\n",
       " '嘛',\n",
       " '吗',\n",
       " '慢说',\n",
       " '漫说',\n",
       " '冒',\n",
       " '么',\n",
       " '每',\n",
       " '每当',\n",
       " '们',\n",
       " '莫若',\n",
       " '某',\n",
       " '某个',\n",
       " '某些',\n",
       " '拿',\n",
       " '哪',\n",
       " '哪边',\n",
       " '哪儿',\n",
       " '哪个',\n",
       " '哪里',\n",
       " '哪年',\n",
       " '哪怕',\n",
       " '哪天',\n",
       " '哪些',\n",
       " '哪样',\n",
       " '那',\n",
       " '那边',\n",
       " '那儿',\n",
       " '那个',\n",
       " '那会儿',\n",
       " '那里',\n",
       " '那么',\n",
       " '那么些',\n",
       " '那么样',\n",
       " '那时',\n",
       " '那些',\n",
       " '那样',\n",
       " '乃',\n",
       " '乃至',\n",
       " '呢',\n",
       " '能',\n",
       " '你',\n",
       " '你们',\n",
       " '您',\n",
       " '宁',\n",
       " '宁可',\n",
       " '宁肯',\n",
       " '宁愿',\n",
       " '哦',\n",
       " '呕',\n",
       " '啪达',\n",
       " '旁人',\n",
       " '呸',\n",
       " '凭',\n",
       " '凭借',\n",
       " '其',\n",
       " '其次',\n",
       " '其二',\n",
       " '其他',\n",
       " '其它',\n",
       " '其一',\n",
       " '其余',\n",
       " '其中',\n",
       " '起',\n",
       " '起见',\n",
       " '岂但',\n",
       " '恰恰相反',\n",
       " '前后',\n",
       " '前者',\n",
       " '且',\n",
       " '然而',\n",
       " '然后',\n",
       " '然则',\n",
       " '让',\n",
       " '人家',\n",
       " '任',\n",
       " '任何',\n",
       " '任凭',\n",
       " '如',\n",
       " '如此',\n",
       " '如果',\n",
       " '如何',\n",
       " '如其',\n",
       " '如若',\n",
       " '如上所述',\n",
       " '若',\n",
       " '若非',\n",
       " '若是',\n",
       " '啥',\n",
       " '上下',\n",
       " '尚且',\n",
       " '设若',\n",
       " '设使',\n",
       " '甚而',\n",
       " '甚么',\n",
       " '甚至',\n",
       " '省得',\n",
       " '时候',\n",
       " '什么',\n",
       " '什么样',\n",
       " '使得',\n",
       " '是',\n",
       " '是的',\n",
       " '首先',\n",
       " '谁',\n",
       " '谁知',\n",
       " '顺',\n",
       " '顺着',\n",
       " '似的',\n",
       " '虽',\n",
       " '虽然',\n",
       " '虽说',\n",
       " '虽则',\n",
       " '随',\n",
       " '随着',\n",
       " '所',\n",
       " '所以',\n",
       " '他',\n",
       " '他们',\n",
       " '他人',\n",
       " '它',\n",
       " '它们',\n",
       " '她',\n",
       " '她们',\n",
       " '倘',\n",
       " '倘或',\n",
       " '倘然',\n",
       " '倘若',\n",
       " '倘使',\n",
       " '腾',\n",
       " '替',\n",
       " '通过',\n",
       " '同',\n",
       " '同时',\n",
       " '哇',\n",
       " '万一',\n",
       " '往',\n",
       " '望',\n",
       " '为',\n",
       " '为何',\n",
       " '为了',\n",
       " '为什么',\n",
       " '为着',\n",
       " '喂',\n",
       " '嗡嗡',\n",
       " '我',\n",
       " '我们',\n",
       " '呜',\n",
       " '呜呼',\n",
       " '乌乎',\n",
       " '无论',\n",
       " '无宁',\n",
       " '毋宁',\n",
       " '嘻',\n",
       " '吓',\n",
       " '相对而言',\n",
       " '像',\n",
       " '向',\n",
       " '向着',\n",
       " '嘘',\n",
       " '呀',\n",
       " '焉',\n",
       " '沿',\n",
       " '沿着',\n",
       " '要',\n",
       " '要不',\n",
       " '要不然',\n",
       " '要不是',\n",
       " '要么',\n",
       " '要是',\n",
       " '也',\n",
       " '也罢',\n",
       " '也好',\n",
       " '一',\n",
       " '一般',\n",
       " '一旦',\n",
       " '一方面',\n",
       " '一来',\n",
       " '一切',\n",
       " '一样',\n",
       " '一则',\n",
       " '依',\n",
       " '依照',\n",
       " '矣',\n",
       " '以',\n",
       " '以便',\n",
       " '以及',\n",
       " '以免',\n",
       " '以至',\n",
       " '以至于',\n",
       " '以致',\n",
       " '抑或',\n",
       " '因',\n",
       " '因此',\n",
       " '因而',\n",
       " '因为',\n",
       " '哟',\n",
       " '用',\n",
       " '由',\n",
       " '由此可见',\n",
       " '由于',\n",
       " '有',\n",
       " '有的',\n",
       " '有关',\n",
       " '有些',\n",
       " '又',\n",
       " '于',\n",
       " '于是',\n",
       " '于是乎',\n",
       " '与',\n",
       " '与此同时',\n",
       " '与否',\n",
       " '与其',\n",
       " '越是',\n",
       " '云云',\n",
       " '哉',\n",
       " '再说',\n",
       " '再者',\n",
       " '在',\n",
       " '在下',\n",
       " '咱',\n",
       " '咱们',\n",
       " '则',\n",
       " '怎',\n",
       " '怎么',\n",
       " '怎么办',\n",
       " '怎么样',\n",
       " '怎样',\n",
       " '咋',\n",
       " '照',\n",
       " '照着',\n",
       " '者',\n",
       " '这',\n",
       " '这边',\n",
       " '这儿',\n",
       " '这个',\n",
       " '这会儿',\n",
       " '这就是说',\n",
       " '这里',\n",
       " '这么',\n",
       " '这么点儿',\n",
       " '这么些',\n",
       " '这么样',\n",
       " '这时',\n",
       " '这些',\n",
       " '这样',\n",
       " '正如',\n",
       " '吱',\n",
       " '之',\n",
       " '之类',\n",
       " '之所以',\n",
       " '之一',\n",
       " '只是',\n",
       " '只限',\n",
       " '只要',\n",
       " '只有',\n",
       " '至',\n",
       " '至于',\n",
       " '诸位',\n",
       " '着',\n",
       " '着呢',\n",
       " '自',\n",
       " '自从',\n",
       " '自个儿',\n",
       " '自各儿',\n",
       " '自己',\n",
       " '自家',\n",
       " '自身',\n",
       " '综上所述',\n",
       " '总的来看',\n",
       " '总的来说',\n",
       " '总的说来',\n",
       " '总而言之',\n",
       " '总之',\n",
       " '纵',\n",
       " '纵令',\n",
       " '纵然',\n",
       " '纵使',\n",
       " '遵照',\n",
       " '作为',\n",
       " '兮',\n",
       " '呃',\n",
       " '呗',\n",
       " '咚',\n",
       " '咦',\n",
       " '喏',\n",
       " '啐',\n",
       " '喔唷',\n",
       " '嗬',\n",
       " '嗯',\n",
       " '嗳',\n",
       " '~',\n",
       " '!',\n",
       " '.',\n",
       " ':',\n",
       " '\"',\n",
       " \"'\",\n",
       " '(',\n",
       " ')',\n",
       " '*',\n",
       " 'A',\n",
       " '白',\n",
       " '--',\n",
       " '..',\n",
       " '>>',\n",
       " '[',\n",
       " ']',\n",
       " '',\n",
       " '<',\n",
       " '>',\n",
       " '/',\n",
       " '\\\\',\n",
       " '|',\n",
       " '-',\n",
       " '_',\n",
       " '+',\n",
       " '=',\n",
       " '&',\n",
       " '^',\n",
       " '%',\n",
       " '#',\n",
       " '@',\n",
       " '`',\n",
       " ';',\n",
       " '$',\n",
       " '（',\n",
       " '）',\n",
       " '——',\n",
       " '—',\n",
       " '￥',\n",
       " '·',\n",
       " '...',\n",
       " '‘',\n",
       " '’',\n",
       " '〉',\n",
       " '〈',\n",
       " '…',\n",
       " '',\n",
       " '0',\n",
       " '1',\n",
       " '2',\n",
       " '3',\n",
       " '4',\n",
       " '5',\n",
       " '6',\n",
       " '7',\n",
       " '8',\n",
       " '9',\n",
       " '０',\n",
       " '１',\n",
       " '２',\n",
       " '３',\n",
       " '４',\n",
       " '５',\n",
       " '６',\n",
       " '７',\n",
       " '８',\n",
       " '９',\n",
       " '二',\n",
       " '三',\n",
       " '四',\n",
       " '五',\n",
       " '六',\n",
       " '七',\n",
       " '八',\n",
       " '九',\n",
       " '零',\n",
       " '＞',\n",
       " '＜',\n",
       " '＠',\n",
       " '＃',\n",
       " '＄',\n",
       " '％',\n",
       " '︿',\n",
       " '＆',\n",
       " '＊',\n",
       " '＋',\n",
       " '～',\n",
       " '｜',\n",
       " '［',\n",
       " '］',\n",
       " '｛',\n",
       " '｝']"
      ]
     },
     "execution_count": 7,
     "metadata": {},
     "output_type": "execute_result"
    }
   ],
   "source": [
    "#过滤\n",
    "stop_word = 'data/stopWordListu8.txt'\n",
    "stopwords = [w.strip().replace('\\n','')\n",
    "             for w in open(stop_word,'r',encoding = 'utf-8').readlines()\n",
    "            ]\n",
    "stopwords"
   ]
  },
  {
   "cell_type": "code",
   "execution_count": 8,
   "id": "56e71b22",
   "metadata": {
    "ExecuteTime": {
     "end_time": "2023-11-06T03:08:18.183582Z",
     "start_time": "2023-11-06T03:08:11.854664Z"
    }
   },
   "outputs": [
    {
     "data": {
      "text/plain": [
       "[(' ', 5890),\n",
       " ('道', 3219),\n",
       " ('郭靖', 1325),\n",
       " ('不', 1210),\n",
       " ('\\n', 1180),\n",
       " ('去', 1086),\n",
       " ('说', 980),\n",
       " ('都', 933),\n",
       " ('却', 836),\n",
       " ('上', 835)]"
      ]
     },
     "execution_count": 8,
     "metadata": {},
     "output_type": "execute_result"
    }
   ],
   "source": [
    "result = [word for word in cutword if word not in stopwords]\n",
    "Counter(result ).most_common(10)"
   ]
  },
  {
   "cell_type": "code",
   "execution_count": 9,
   "id": "8e05b95c",
   "metadata": {
    "ExecuteTime": {
     "end_time": "2023-11-06T03:08:19.313038Z",
     "start_time": "2023-11-06T03:08:19.248379Z"
    }
   },
   "outputs": [
    {
     "data": {
      "text/plain": [
       "[]"
      ]
     },
     "execution_count": 9,
     "metadata": {},
     "output_type": "execute_result"
    }
   ],
   "source": [
    "result = [word for word in result if word in ['道',' ','\\n']]\n",
    "result = [word for word in result if len(word)>1]\n",
    "Counter(result ).most_common(10)"
   ]
  },
  {
   "cell_type": "code",
   "execution_count": 10,
   "id": "cb42a661",
   "metadata": {
    "ExecuteTime": {
     "end_time": "2023-11-06T03:08:21.158409Z",
     "start_time": "2023-11-06T03:08:20.999809Z"
    }
   },
   "outputs": [
    {
     "data": {
      "text/plain": [
       "[('郭靖', 1325),\n",
       " ('黄蓉', 644),\n",
       " ('洪七公', 603),\n",
       " ('丘处机', 402),\n",
       " ('黄药师', 360),\n",
       " ('欧阳克', 342),\n",
       " ('柯镇恶', 238),\n",
       " ('王重阳', 28)]"
      ]
     },
     "execution_count": 10,
     "metadata": {},
     "output_type": "execute_result"
    }
   ],
   "source": [
    "names='郭靖 黄蓉 洪七公 黄药师 王重阳 一灯 丘处机 柯镇恶 欧阳克'.split()\n",
    "result = [word for word in cutword if word in names]\n",
    "Counter(result ).most_common(10)"
   ]
  },
  {
   "cell_type": "code",
   "execution_count": 11,
   "id": "4ac24b52",
   "metadata": {
    "ExecuteTime": {
     "end_time": "2023-11-06T03:08:22.357178Z",
     "start_time": "2023-11-06T03:08:22.335824Z"
    }
   },
   "outputs": [
    {
     "data": {
      "text/plain": [
       "{'郭靖': 2449,\n",
       " '黄蓉': 1287,\n",
       " '洪七公': 604,\n",
       " '黄药师': 360,\n",
       " '王重阳': 28,\n",
       " '一灯': 0,\n",
       " '丘处机': 402,\n",
       " '柯镇恶': 238,\n",
       " '欧阳克': 421}"
      ]
     },
     "execution_count": 11,
     "metadata": {},
     "output_type": "execute_result"
    }
   ],
   "source": [
    "{name:data_str.count(name) for name in names}\n"
   ]
  },
  {
   "cell_type": "code",
   "execution_count": 12,
   "id": "9e44b1a4",
   "metadata": {
    "ExecuteTime": {
     "end_time": "2023-11-06T03:08:33.102852Z",
     "start_time": "2023-11-06T03:08:23.385150Z"
    }
   },
   "outputs": [
    {
     "data": {
      "text/plain": [
       "['郭靖', '黄蓉', '洪七公', '周伯通', '梅超风', '甚么', '黄药师', '丘处机', '欧阳克', '武功']"
      ]
     },
     "execution_count": 12,
     "metadata": {},
     "output_type": "execute_result"
    }
   ],
   "source": [
    "from jieba import analyse\n",
    "analyse.extract_tags(data_str,topK=10)"
   ]
  },
  {
   "cell_type": "markdown",
   "id": "2da51497",
   "metadata": {},
   "source": [
    "- 标记每个词的词性\n",
    "- enchars画图\n"
   ]
  },
  {
   "cell_type": "markdown",
   "id": "093af2ed",
   "metadata": {},
   "source": [
    "# 求共现频率\n",
    "某个人和其他人在同一个段落中出现的次数统计"
   ]
  },
  {
   "cell_type": "code",
   "execution_count": 13,
   "id": "6813cd9a",
   "metadata": {
    "ExecuteTime": {
     "end_time": "2023-11-06T03:08:34.933525Z",
     "start_time": "2023-11-06T03:08:34.896942Z"
    }
   },
   "outputs": [
    {
     "data": {
      "text/plain": [
       "{'郭靖': 51,\n",
       " '黄蓉': 13,\n",
       " '洪七公': 1,\n",
       " '黄药师': 8,\n",
       " '王重阳': 2,\n",
       " '一灯': 0,\n",
       " '丘处机': 43,\n",
       " '欧阳克': 4}"
      ]
     },
     "execution_count": 13,
     "metadata": {},
     "output_type": "execute_result"
    }
   ],
   "source": [
    "x = '柯镇恶';xname = names.copy();xname.remove(x)\n",
    "named = {}\n",
    "for name in xname:\n",
    "    cc = 0\n",
    "    for line in data_list:\n",
    "        if all([x in line,name in line]):\n",
    "            cc+=1\n",
    "        named[name] = cc\n",
    "named"
   ]
  },
  {
   "cell_type": "code",
   "execution_count": 14,
   "id": "fc2bb65b",
   "metadata": {
    "ExecuteTime": {
     "end_time": "2023-11-06T03:08:36.108942Z",
     "start_time": "2023-11-06T03:08:36.086196Z"
    }
   },
   "outputs": [
    {
     "data": {
      "text/plain": [
       "{'郭靖': 51,\n",
       " '黄蓉': 13,\n",
       " '洪七公': 1,\n",
       " '黄药师': 8,\n",
       " '王重阳': 2,\n",
       " '一灯': 0,\n",
       " '丘处机': 43,\n",
       " '欧阳克': 4}"
      ]
     },
     "execution_count": 14,
     "metadata": {},
     "output_type": "execute_result"
    }
   ],
   "source": [
    "#\n",
    "{y:sum([y in line\n",
    "       for line in data_list\n",
    "           if x in line])\n",
    "for y in xname\n",
    "}"
   ]
  },
  {
   "cell_type": "code",
   "execution_count": 15,
   "id": "554315c5",
   "metadata": {
    "ExecuteTime": {
     "end_time": "2023-11-06T03:08:37.317796Z",
     "start_time": "2023-11-06T03:08:37.306388Z"
    }
   },
   "outputs": [
    {
     "data": {
      "text/plain": [
       "{'郭靖': 51,\n",
       " '丘处机': 43,\n",
       " '黄蓉': 13,\n",
       " '黄药师': 8,\n",
       " '欧阳克': 4,\n",
       " '王重阳': 2,\n",
       " '洪七公': 1,\n",
       " '一灯': 0}"
      ]
     },
     "execution_count": 15,
     "metadata": {},
     "output_type": "execute_result"
    }
   ],
   "source": [
    "#排序\n",
    "ss=sorted(named,key=lambda x: named[x],reverse=True)\n",
    "{s:named[s] for s in ss}"
   ]
  },
  {
   "cell_type": "code",
   "execution_count": 21,
   "id": "d702a822",
   "metadata": {
    "ExecuteTime": {
     "end_time": "2023-11-06T03:33:59.962020Z",
     "start_time": "2023-11-06T03:33:59.897787Z"
    }
   },
   "outputs": [
    {
     "data": {
      "text/plain": [
       "[(('郭靖', '黄蓉'), 271),\n",
       " (('郭靖', '洪七公'), 116),\n",
       " (('黄蓉', '洪七公'), 105),\n",
       " (('郭靖', '黄药师'), 104),\n",
       " (('郭靖', '欧阳克'), 88),\n",
       " (('黄蓉', '欧阳克'), 87),\n",
       " (('黄蓉', '黄药师'), 69),\n",
       " (('洪七公', '欧阳克'), 62),\n",
       " (('郭靖', '柯镇恶'), 51),\n",
       " (('洪七公', '黄药师'), 46)]"
      ]
     },
     "execution_count": 21,
     "metadata": {},
     "output_type": "execute_result"
    }
   ],
   "source": [
    "# 所有人共现次数\n",
    "name = {}\n",
    "name2 = set(names)\n",
    "for n1 in names :\n",
    "    name2.remove(n1)\n",
    "    for n2 in name2:\n",
    "        named[(n1,n2)] = sum([n2 in line for line in data_list\n",
    "                             if n1 in line])\n",
    "def mysort(named,lev = 10):\n",
    "    return sorted(named.items(),\n",
    "                 key = lambda x:x[1],\n",
    "                 reverse = True)[:lev]\n",
    "mysort(named)"
   ]
  },
  {
   "cell_type": "code",
   "execution_count": 18,
   "id": "21b7f957",
   "metadata": {
    "ExecuteTime": {
     "end_time": "2023-11-06T03:30:55.268589Z",
     "start_time": "2023-11-06T03:30:55.204913Z"
    }
   },
   "outputs": [
    {
     "data": {
      "text/plain": [
       "[(('郭靖', '黄蓉'), 271),\n",
       " (('郭靖', '洪七公'), 116),\n",
       " (('黄蓉', '洪七公'), 105),\n",
       " (('郭靖', '黄药师'), 104),\n",
       " (('郭靖', '欧阳克'), 88),\n",
       " (('黄蓉', '欧阳克'), 87),\n",
       " (('黄蓉', '黄药师'), 69),\n",
       " (('洪七公', '欧阳克'), 62),\n",
       " (('郭靖', '柯镇恶'), 51),\n",
       " (('洪七公', '黄药师'), 46)]"
      ]
     },
     "execution_count": 18,
     "metadata": {},
     "output_type": "execute_result"
    }
   ],
   "source": [
    "import itertools\n",
    "named={}\n",
    "for n1,n2 in itertools.combinations(names,2):\n",
    "    named[(n1,n2)] = sum([n2 in line for line in data_list\n",
    "                         if n1 in line])\n",
    "mysort(named)"
   ]
  },
  {
   "cell_type": "code",
   "execution_count": 20,
   "id": "62f9a684",
   "metadata": {
    "ExecuteTime": {
     "end_time": "2023-11-06T03:32:53.537006Z",
     "start_time": "2023-11-06T03:32:53.479694Z"
    }
   },
   "outputs": [
    {
     "data": {
      "text/plain": [
       "[(('郭靖', '黄蓉'), 271),\n",
       " (('郭靖', '洪七公'), 116),\n",
       " (('黄蓉', '洪七公'), 105),\n",
       " (('郭靖', '黄药师'), 104),\n",
       " (('郭靖', '欧阳克'), 88),\n",
       " (('黄蓉', '欧阳克'), 87),\n",
       " (('黄蓉', '黄药师'), 69),\n",
       " (('洪七公', '欧阳克'), 62),\n",
       " (('郭靖', '柯镇恶'), 51),\n",
       " (('洪七公', '黄药师'), 46)]"
      ]
     },
     "execution_count": 20,
     "metadata": {},
     "output_type": "execute_result"
    }
   ],
   "source": [
    "named={(n1,n2):sum([n2 in line for line in data_list if n1 in line])\n",
    "    for n1,n2 in itertools.combinations(names,2)}\n",
    "mysort(named)# 清晰程度不如上一个"
   ]
  },
  {
   "cell_type": "code",
   "execution_count": 23,
   "id": "1e73383e",
   "metadata": {
    "ExecuteTime": {
     "end_time": "2023-11-06T03:37:30.933581Z",
     "start_time": "2023-11-06T03:37:30.835648Z"
    }
   },
   "outputs": [
    {
     "data": {
      "text/plain": [
       "[(('郭靖', '黄蓉'), 271),\n",
       " (('郭靖', '洪七公'), 116),\n",
       " (('黄蓉', '洪七公'), 105),\n",
       " (('郭靖', '黄药师'), 104),\n",
       " (('郭靖', '欧阳克'), 88),\n",
       " (('黄蓉', '欧阳克'), 87),\n",
       " (('黄蓉', '黄药师'), 69),\n",
       " (('洪七公', '欧阳克'), 62),\n",
       " (('郭靖', '柯镇恶'), 51),\n",
       " (('洪七公', '黄药师'), 46)]"
      ]
     },
     "execution_count": 23,
     "metadata": {},
     "output_type": "execute_result"
    }
   ],
   "source": [
    "namelist = []\n",
    "for n1,n2 in itertools.combinations(names,2):\n",
    "    namelist.extend([(n1,n2) for s in data_list\n",
    "                            if all ([n1 in s,n2 in s])\n",
    "                    ])\n",
    "Counter(namelist).most_common(10)#这个最好"
   ]
  },
  {
   "cell_type": "code",
   "execution_count": 24,
   "id": "135a918c",
   "metadata": {
    "ExecuteTime": {
     "end_time": "2023-11-06T03:43:51.572750Z",
     "start_time": "2023-11-06T03:43:51.565761Z"
    }
   },
   "outputs": [],
   "source": [
    "#进一步按句子切分... pandas"
   ]
  },
  {
   "cell_type": "code",
   "execution_count": 25,
   "id": "68c3d51e",
   "metadata": {
    "ExecuteTime": {
     "end_time": "2023-11-06T03:45:03.318317Z",
     "start_time": "2023-11-06T03:45:02.120061Z"
    }
   },
   "outputs": [],
   "source": [
    "import networkx as nx\n",
    "# or ! pip install networkx"
   ]
  },
  {
   "cell_type": "code",
   "execution_count": 27,
   "id": "7743973f",
   "metadata": {
    "ExecuteTime": {
     "end_time": "2023-11-06T03:50:25.367780Z",
     "start_time": "2023-11-06T03:50:22.640728Z"
    }
   },
   "outputs": [],
   "source": [
    "import matplotlib.pyplot as plt # matplotlib 画图好看，可以不用hh\n",
    "plt.rcParams['font.sans-serif'] = ['SimHei']#用黑体显示中文\n",
    "plt.rcParams['axes.unicode_minus'] = False"
   ]
  },
  {
   "cell_type": "code",
   "execution_count": 28,
   "id": "dc3a8e1a",
   "metadata": {
    "ExecuteTime": {
     "end_time": "2023-11-06T03:51:50.115442Z",
     "start_time": "2023-11-06T03:51:49.217263Z"
    }
   },
   "outputs": [
    {
     "data": {
      "image/png": "[encoded data removed]",
      "text/plain": [
       "<Figure size 640x480 with 1 Axes>"
      ]
     },
     "metadata": {},
     "output_type": "display_data"
    }
   ],
   "source": [
    "cc = Counter( namelist )\n",
    "g = nx.Graph()# 得到一个初始图\n",
    "for k,v in cc.items():\n",
    "    g.add_edge(k[0],k[1],weight = v )# k[0],k[1]加边，权重v\n",
    "nx.draw( g,with_labels = True)# 带上标签（节点名字）"
   ]
  },
  {
   "cell_type": "code",
   "execution_count": 29,
   "id": "b997d6b1",
   "metadata": {
    "ExecuteTime": {
     "end_time": "2023-11-06T03:54:37.823713Z",
     "start_time": "2023-11-06T03:54:37.817664Z"
    }
   },
   "outputs": [],
   "source": [
    "#在 Jupyter Notebook 下运行命令行 加！"
   ]
  },
  {
   "cell_type": "code",
   "execution_count": null,
   "id": "1802d5f9",
   "metadata": {},
   "outputs": [],
   "source": []
  }
 ],
 "metadata": {
  "kernelspec": {
   "display_name": "Python 3 (ipykernel)",
   "language": "python",
   "name": "python3"
  },
  "language_info": {
   "codemirror_mode": {
    "name": "ipython",
    "version": 3
   },
   "file_extension": ".py",
   "mimetype": "text/x-python",
   "name": "python",
   "nbconvert_exporter": "python",
   "pygments_lexer": "ipython3",
   "version": "3.11.4"
  },
  "toc": {
   "base_numbering": 1,
   "nav_menu": {},
   "number_sections": true,
   "sideBar": true,
   "skip_h1_title": false,
   "title_cell": "Table of Contents",
   "title_sidebar": "Contents",
   "toc_cell": false,
   "toc_position": {
    "height": "calc(100% - 180px)",
    "left": "10px",
    "top": "150px",
    "width": "265.492px"
   },
   "toc_section_display": true,
   "toc_window_display": true
  }
 },
 "nbformat": 4,
 "nbformat_minor": 5
}
