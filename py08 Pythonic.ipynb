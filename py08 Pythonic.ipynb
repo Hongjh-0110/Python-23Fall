{
 "cells": [
  {
   "cell_type": "markdown",
   "id": "54b43160",
   "metadata": {},
   "source": [
    "Pythonic 是Python程序员的代码风格——充分利用Python的语言特性"
   ]
  },
  {
   "cell_type": "markdown",
   "id": "196e55d5",
   "metadata": {},
   "source": [
    "# 推导式"
   ]
  },
  {
   "cell_type": "code",
   "execution_count": 9,
   "id": "aae91040",
   "metadata": {
    "ExecuteTime": {
     "end_time": "2023-11-06T04:10:46.627683Z",
     "start_time": "2023-11-06T04:10:46.612032Z"
    }
   },
   "outputs": [
    {
     "data": {
      "text/plain": [
       "[0, 2]"
      ]
     },
     "execution_count": 9,
     "metadata": {},
     "output_type": "execute_result"
    }
   ],
   "source": [
    "[],{},()\n",
    "{k:v for k,v in zip(range(4),'abcd')}\n",
    "[x for x in range(4) if x % 2 == 0]"
   ]
  },
  {
   "cell_type": "code",
   "execution_count": 8,
   "id": "e44299ec",
   "metadata": {
    "ExecuteTime": {
     "end_time": "2023-11-06T04:09:31.074280Z",
     "start_time": "2023-11-06T04:09:31.061872Z"
    }
   },
   "outputs": [
    {
     "data": {
      "text/plain": [
       "<generator object <genexpr> at 0x000002226DD9D970>"
      ]
     },
     "execution_count": 8,
     "metadata": {},
     "output_type": "execute_result"
    }
   ],
   "source": [
    "(x for x in range(4))\n",
    "# generator object:生成器对象\n",
    "#list((x for x in range(4)))# 强制输出"
   ]
  },
  {
   "cell_type": "markdown",
   "id": "03a648d9",
   "metadata": {},
   "source": [
    "# 打包解包"
   ]
  },
  {
   "cell_type": "code",
   "execution_count": null,
   "id": "cb9db24b",
   "metadata": {},
   "outputs": [],
   "source": []
  }
 ],
 "metadata": {
  "kernelspec": {
   "display_name": "Python 3 (ipykernel)",
   "language": "python",
   "name": "python3"
  },
  "language_info": {
   "codemirror_mode": {
    "name": "ipython",
    "version": 3
   },
   "file_extension": ".py",
   "mimetype": "text/x-python",
   "name": "python",
   "nbconvert_exporter": "python",
   "pygments_lexer": "ipython3",
   "version": "3.11.4"
  },
  "toc": {
   "base_numbering": 1,
   "nav_menu": {},
   "number_sections": true,
   "sideBar": true,
   "skip_h1_title": false,
   "title_cell": "Table of Contents",
   "title_sidebar": "Contents",
   "toc_cell": false,
   "toc_position": {},
   "toc_section_display": true,
   "toc_window_display": false
  }
 },
 "nbformat": 4,
 "nbformat_minor": 5
}
