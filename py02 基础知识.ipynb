{
 "cells": [
  {
   "cell_type": "markdown",
   "id": "0f192312",
   "metadata": {
    "heading_collapsed": true
   },
   "source": [
    "# 注释"
   ]
  },
  {
   "cell_type": "code",
   "execution_count": null,
   "id": "3c66ef52",
   "metadata": {
    "hidden": true,
    "is_executing": true
   },
   "outputs": [],
   "source": [
    "# 这是一个表达式\n",
    "n=1 # 注释\n",
    "\n",
    "'''\n",
    "python好\n",
    "c++也好\n",
    "'''\n",
    "'python好\\\n",
    "c++也好\\\n",
    "'\n",
    "s='''\n",
    "python好\\\n",
    "c++也好\n",
    "'''\n",
    "s\n",
    "# 语法上无区别 习惯上单引号字符串，三引号注释"
   ]
  },
  {
   "cell_type": "code",
   "execution_count": 14,
   "id": "54676a60",
   "metadata": {
    "ExecuteTime": {
     "end_time": "2023-09-18T02:57:31.982458Z",
     "start_time": "2023-09-18T02:57:31.969309Z"
    },
    "hidden": true
   },
   "outputs": [
    {
     "data": {
      "text/plain": [
       "26"
      ]
     },
     "execution_count": 14,
     "metadata": {},
     "output_type": "execute_result"
    }
   ],
   "source": [
    "s=1 + 2 + 5 \\\n",
    "    + 5 \\\n",
    "    + 6 + 7\n",
    "s\n",
    "s=(1 + 2 + 5\n",
    "    + 5 \n",
    "    + 6 + 7\n",
    "  )\n",
    "s"
   ]
  },
  {
   "cell_type": "markdown",
   "id": "b027c060",
   "metadata": {
    "heading_collapsed": true
   },
   "source": [
    "# 函数"
   ]
  },
  {
   "cell_type": "code",
   "execution_count": 1,
   "id": "91ba6747",
   "metadata": {
    "hidden": true,
    "ExecuteTime": {
     "end_time": "2023-10-09T12:05:48.510061200Z",
     "start_time": "2023-10-09T12:05:48.391987300Z"
    }
   },
   "outputs": [
    {
     "data": {
      "text/plain": "'lzu114'"
     },
     "execution_count": 1,
     "metadata": {},
     "output_type": "execute_result"
    }
   ],
   "source": [
    "def f(x,y) -> int:\n",
    "    return x + y\n",
    "# 表达式前后空格是优秀的习惯\n",
    "f(2,3)\n",
    "f('lzu','114')\n",
    "# 1.字符串也可以进行加法\n",
    "# 2.为什么能输出非整形？'-> int'相当于注释,注释返回值的类型"
   ]
  },
  {
   "cell_type": "code",
   "execution_count": 23,
   "id": "3f58b6eb",
   "metadata": {
    "ExecuteTime": {
     "end_time": "2023-09-18T03:11:32.263640Z",
     "start_time": "2023-09-18T03:11:32.252723Z"
    },
    "hidden": true
   },
   "outputs": [
    {
     "data": {
      "text/plain": [
       "5050"
      ]
     },
     "execution_count": 23,
     "metadata": {},
     "output_type": "execute_result"
    }
   ],
   "source": [
    "max,min\n",
    "sum([1,2,3]),range(10)\n",
    "sum(range(101))"
   ]
  },
  {
   "cell_type": "markdown",
   "id": "554e2ad4",
   "metadata": {},
   "source": [
    "# 查信息"
   ]
  },
  {
   "cell_type": "code",
   "execution_count": 25,
   "id": "30a6dbd4",
   "metadata": {
    "ExecuteTime": {
     "end_time": "2023-09-18T03:14:01.186164Z",
     "start_time": "2023-09-18T03:13:40.493411Z"
    }
   },
   "outputs": [
    {
     "name": "stdout",
     "output_type": "stream",
     "text": [
      "\n",
      "Welcome to Python 3.11's help utility!\n",
      "\n",
      "If this is your first time using Python, you should definitely check out\n",
      "the tutorial on the internet at https://docs.python.org/3.11/tutorial/.\n",
      "\n",
      "Enter the name of any module, keyword, or topic to get help on writing\n",
      "Python programs and using Python modules.  To quit this help utility and\n",
      "return to the interpreter, just type \"quit\".\n",
      "\n",
      "To get a list of available modules, keywords, symbols, or topics, type\n",
      "\"modules\", \"keywords\", \"symbols\", or \"topics\".  Each module also comes\n",
      "with a one-line summary of what it does; to list the modules whose name\n",
      "or summary contain a given string such as \"spam\", type \"modules spam\".\n",
      "\n",
      "help> range\n",
      "Help on class range in module builtins:\n",
      "\n",
      "class range(object)\n",
      " |  range(stop) -> range object\n",
      " |  range(start, stop[, step]) -> range object\n",
      " |  \n",
      " |  Return an object that produces a sequence of integers from start (inclusive)\n",
      " |  to stop (exclusive) by step.  range(i, j) produces i, i+1, i+2, ..., j-1.\n",
      " |  start defaults to 0, and stop is omitted!  range(4) produces 0, 1, 2, 3.\n",
      " |  These are exactly the valid indices for a list of 4 elements.\n",
      " |  When step is given, it specifies the increment (or decrement).\n",
      " |  \n",
      " |  Methods defined here:\n",
      " |  \n",
      " |  __bool__(self, /)\n",
      " |      True if self else False\n",
      " |  \n",
      " |  __contains__(self, key, /)\n",
      " |      Return key in self.\n",
      " |  \n",
      " |  __eq__(self, value, /)\n",
      " |      Return self==value.\n",
      " |  \n",
      " |  __ge__(self, value, /)\n",
      " |      Return self>=value.\n",
      " |  \n",
      " |  __getattribute__(self, name, /)\n",
      " |      Return getattr(self, name).\n",
      " |  \n",
      " |  __getitem__(self, key, /)\n",
      " |      Return self[key].\n",
      " |  \n",
      " |  __gt__(self, value, /)\n",
      " |      Return self>value.\n",
      " |  \n",
      " |  __hash__(self, /)\n",
      " |      Return hash(self).\n",
      " |  \n",
      " |  __iter__(self, /)\n",
      " |      Implement iter(self).\n",
      " |  \n",
      " |  __le__(self, value, /)\n",
      " |      Return self<=value.\n",
      " |  \n",
      " |  __len__(self, /)\n",
      " |      Return len(self).\n",
      " |  \n",
      " |  __lt__(self, value, /)\n",
      " |      Return self<value.\n",
      " |  \n",
      " |  __ne__(self, value, /)\n",
      " |      Return self!=value.\n",
      " |  \n",
      " |  __reduce__(...)\n",
      " |      Helper for pickle.\n",
      " |  \n",
      " |  __repr__(self, /)\n",
      " |      Return repr(self).\n",
      " |  \n",
      " |  __reversed__(...)\n",
      " |      Return a reverse iterator.\n",
      " |  \n",
      " |  count(...)\n",
      " |      rangeobject.count(value) -> integer -- return number of occurrences of value\n",
      " |  \n",
      " |  index(...)\n",
      " |      rangeobject.index(value) -> integer -- return index of value.\n",
      " |      Raise ValueError if the value is not present.\n",
      " |  \n",
      " |  ----------------------------------------------------------------------\n",
      " |  Static methods defined here:\n",
      " |  \n",
      " |  __new__(*args, **kwargs) from builtins.type\n",
      " |      Create and return a new object.  See help(type) for accurate signature.\n",
      " |  \n",
      " |  ----------------------------------------------------------------------\n",
      " |  Data descriptors defined here:\n",
      " |  \n",
      " |  start\n",
      " |  \n",
      " |  step\n",
      " |  \n",
      " |  stop\n",
      "\n",
      "help> help\n",
      "\n",
      "Welcome to Python 3.11's help utility!\n",
      "\n",
      "If this is your first time using Python, you should definitely check out\n",
      "the tutorial on the internet at https://docs.python.org/3.11/tutorial/.\n",
      "\n",
      "Enter the name of any module, keyword, or topic to get help on writing\n",
      "Python programs and using Python modules.  To quit this help utility and\n",
      "return to the interpreter, just type \"quit\".\n",
      "\n",
      "To get a list of available modules, keywords, symbols, or topics, type\n",
      "\"modules\", \"keywords\", \"symbols\", or \"topics\".  Each module also comes\n",
      "with a one-line summary of what it does; to list the modules whose name\n",
      "or summary contain a given string such as \"spam\", type \"modules spam\".\n",
      "help> quit\n",
      "\n",
      "You are now leaving help and returning to the Python interpreter.\n",
      "If you want to ask for help on a particular object directly from the\n",
      "interpreter, you can type \"help(object)\".  Executing \"help('string')\"\n",
      "has the same effect as typing a particular string at the help> prompt.\n"
     ]
    }
   ],
   "source": [
    "help()"
   ]
  },
  {
   "cell_type": "code",
   "execution_count": 27,
   "id": "7b5ef44a",
   "metadata": {
    "ExecuteTime": {
     "end_time": "2023-09-18T03:15:11.546732Z",
     "start_time": "2023-09-18T03:15:11.535074Z"
    }
   },
   "outputs": [
    {
     "data": {
      "text/plain": [
       "range(3, 5)"
      ]
     },
     "execution_count": 27,
     "metadata": {},
     "output_type": "execute_result"
    }
   ],
   "source": [
    "range(3,5)"
   ]
  },
  {
   "cell_type": "code",
   "execution_count": null,
   "id": "0e755160",
   "metadata": {
    "is_executing": true
   },
   "outputs": [],
   "source": [
    "a = 'lzu'; b = []\n",
    "dir(a) # ???\n",
    "a.__len__()\n",
    "if '__len__'in dir(a): print(a.__len__())"
   ]
  },
  {
   "cell_type": "code",
   "execution_count": 30,
   "id": "81d2e2ce",
   "metadata": {
    "ExecuteTime": {
     "end_time": "2023-09-18T03:32:33.743771Z",
     "start_time": "2023-09-18T03:32:33.728703Z"
    }
   },
   "outputs": [
    {
     "name": "stdout",
     "output_type": "stream",
     "text": [
      "The Zen of Python, by Tim Peters\n",
      "\n",
      "Beautiful is better than ugly.\n",
      "Explicit is better than implicit.\n",
      "Simple is better than complex.\n",
      "Complex is better than complicated.\n",
      "Flat is better than nested.\n",
      "Sparse is better than dense.\n",
      "Readability counts.\n",
      "Special cases aren't special enough to break the rules.\n",
      "Although practicality beats purity.\n",
      "Errors should never pass silently.\n",
      "Unless explicitly silenced.\n",
      "In the face of ambiguity, refuse the temptation to guess.\n",
      "There should be one-- and preferably only one --obvious way to do it.\n",
      "Although that way may not be obvious at first unless you're Dutch.\n",
      "Now is better than never.\n",
      "Although never is often better than *right* now.\n",
      "If the implementation is hard to explain, it's a bad idea.\n",
      "If the implementation is easy to explain, it may be a good idea.\n",
      "Namespaces are one honking great idea -- let's do more of those!\n"
     ]
    }
   ],
   "source": [
    "import this"
   ]
  },
  {
   "cell_type": "markdown",
   "id": "104fa263",
   "metadata": {
    "heading_collapsed": true
   },
   "source": [
    "## gogogo"
   ]
  },
  {
   "cell_type": "markdown",
   "source": [
    "abcabc313"
   ],
   "metadata": {
    "collapsed": false
   },
   "id": "ceaa02097aa83e83"
  }
 ],
 "metadata": {
  "kernelspec": {
   "display_name": "Python 3 (ipykernel)",
   "language": "python",
   "name": "python3"
  },
  "language_info": {
   "codemirror_mode": {
    "name": "ipython",
    "version": 3
   },
   "file_extension": ".py",
   "mimetype": "text/x-python",
   "name": "python",
   "nbconvert_exporter": "python",
   "pygments_lexer": "ipython3",
   "version": "3.11.4"
  },
  "toc": {
   "base_numbering": "1",
   "nav_menu": {},
   "number_sections": true,
   "sideBar": true,
   "skip_h1_title": false,
   "title_cell": "Table of Contents",
   "title_sidebar": "Contents",
   "toc_cell": false,
   "toc_position": {
    "height": "calc(100% - 180px)",
    "left": "10px",
    "top": "150px",
    "width": "212.998px"
   },
   "toc_section_display": false,
   "toc_window_display": true
  },
  "varInspector": {
   "cols": {
    "lenName": 16,
    "lenType": 16,
    "lenVar": 40
   },
   "kernels_config": {
    "python": {
     "delete_cmd_postfix": "",
     "delete_cmd_prefix": "del ",
     "library": "var_list.py",
     "varRefreshCmd": "print(var_dic_list())"
    },
    "r": {
     "delete_cmd_postfix": ") ",
     "delete_cmd_prefix": "rm(",
     "library": "var_list.r",
     "varRefreshCmd": "cat(var_dic_list()) "
    }
   },
   "oldHeight": 122.4,
   "position": {
    "height": "470.903px",
    "left": "910.435px",
    "right": "20px",
    "top": "220.933px",
    "width": "799.977px"
   },
   "types_to_exclude": [
    "module",
    "function",
    "builtin_function_or_method",
    "instance",
    "_Feature"
   ],
   "varInspector_section_display": "block",
   "window_display": true
  }
 },
 "nbformat": 4,
 "nbformat_minor": 5
}
