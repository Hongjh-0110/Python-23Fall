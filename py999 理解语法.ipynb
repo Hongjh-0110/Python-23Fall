{
 "cells": [
  {
   "cell_type": "markdown",
   "id": "f8832656",
   "metadata": {},
   "source": [
    "### 语法设计动机\n",
    "- 方便人：为什么需要这个语法\n",
    "    - 理解应用场景\n",
    "    - 软件工程：好读好维护\n",
    "- 方便机器：执行快一些\n",
    "    - 明白语法背后的实现细节\n",
    "    - 所谓高性能"
   ]
  },
  {
   "cell_type": "markdown",
   "id": "bbddcf8d",
   "metadata": {},
   "source": [
    "tradeoff"
   ]
  },
  {
   "cell_type": "markdown",
   "id": "758d5af7",
   "metadata": {},
   "source": [
    "### 一些需要推敲的语法深处细节\n",
    "- 复制vs引用（引用计数）\n",
    "- 直接修改变量vs产生一个副本\n",
    "- 可变的值vs不可变的值\n",
    "- 万物皆对象"
   ]
  },
  {
   "cell_type": "code",
   "execution_count": null,
   "id": "842c3677",
   "metadata": {},
   "outputs": [],
   "source": []
  }
 ],
 "metadata": {
  "kernelspec": {
   "display_name": "Python 3 (ipykernel)",
   "language": "python",
   "name": "python3"
  },
  "language_info": {
   "codemirror_mode": {
    "name": "ipython",
    "version": 3
   },
   "file_extension": ".py",
   "mimetype": "text/x-python",
   "name": "python",
   "nbconvert_exporter": "python",
   "pygments_lexer": "ipython3",
   "version": "3.11.4"
  },
  "toc": {
   "base_numbering": 1,
   "nav_menu": {},
   "number_sections": true,
   "sideBar": true,
   "skip_h1_title": false,
   "title_cell": "Table of Contents",
   "title_sidebar": "Contents",
   "toc_cell": false,
   "toc_position": {},
   "toc_section_display": true,
   "toc_window_display": false
  }
 },
 "nbformat": 4,
 "nbformat_minor": 5
}
